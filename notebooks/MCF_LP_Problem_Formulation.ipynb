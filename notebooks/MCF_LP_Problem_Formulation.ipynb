{
 "cells": [
  {
   "cell_type": "markdown",
   "id": "63413e3f-d702-4a1e-a2f3-3f443fcb6f9e",
   "metadata": {},
   "source": [
    "# MCF LP Problem Formulation"
   ]
  },
  {
   "cell_type": "markdown",
   "id": "bcd4d371-e1f6-4ee6-91b7-4e2eb9aabef7",
   "metadata": {},
   "source": [
    "## Basic definitions\n",
    "\n",
    "**Definition**: MCF Net\n",
    "\n",
    "We define a **net** to be a tuple $(V, E, c, P, S, T, \\sigma, d)$ where\n",
    "    \n",
    " - $V$ is a non-empty set of vertices.\n",
    " - $G \\subseteq V \\times V - \\{ (v, v) \\mid v \\in V \\}$ is a set of (oriented) edges (self-loops are not included).\n",
    " - $c$ is a function $c : E \\to \\mathbb{R}_{0}^{+}$ which assigns a *capacity* to each edge.\n",
    " - $P$ is a non-empty set of *products*.\n",
    " - $S, T \\subseteq V$ are in order a set of *source* and *destination* nodes\n",
    " - $\\sigma$ is a function $\\sigma : S \\times P \\to \\mathbb{R}^{+}$ which assigns each supply node the amount of the given product available.\n",
    " - $d$ is a function $\\delta : T \\times P \\to \\mathbb{R}^{+}$ which assigns each demand node a demand for the given product.\n",
    " \n",
    " For simplicity we denote $\\sigma_s^k := \\sigma(s, k)$ and $d_t^k := d(s, k)$.\n",
    " \n",
    "**Definition**: Neighbourhood\n",
    "\n",
    "For oriented graph $G = (V, E)$ we define for each $v \\in V$\n",
    "$$\n",
    "\\begin{gather*}\n",
    "N^{+}(v) = \\{ u \\mid (u, v) \\in E \\} \\\\\n",
    "N^{-}(v) = \\{ u \\mid (v, u) \\in E \\}\n",
    "\\end{gather*}\n",
    "$$\n",
    "meaning $N^{+}$ is a set of all nodes with an edge comming into $v$ and $N^{-}$ is a set of all nodes for which $v$ has an outcomming edge.\n",
    "\n",
    "**Definition**: Flow\n",
    "\n",
    "Let $N = (V, E, c, P, S, T, \\sigma, d)$ be a net. Then we define **flow** as a function\n",
    "$$f : E \\times P \\to \\mathbb{R}^{+}$$\n",
    "satisfying the following conditions:\n",
    " - *the flow does not exceed edge cappacities*\n",
    "     $$\\forall e \\in E : \\sum\\limits_{i \\in P} f(e, i) \\le c(e)$$\n",
    " - *the flow satisfies Kirchhoff's law for each procut and for all but source and destination nodes*\n",
    "     $$\\forall i \\in P : \\forall v \\in (V - (S \\cup T)) : \\sum\\limits_{u \\in N^{+}(v)} f(uv, i) - \\sum\\limits_{u \\in N^{-}(v)} f(vu, i) = 0$$\n",
    "     \n",
    "For simplicity we denote $f_e^k := f(e, k)$."
   ]
  },
  {
   "cell_type": "markdown",
   "id": "2cd20df4-020a-4080-9ef5-aaf01a069fc6",
   "metadata": {},
   "source": [
    "## LP Formulation\n",
    "\n",
    "We are interested in a problem where demands of the destination nodes might not be met. We allow this and measure it with slack variables $\\xi$. We will want to minimize these values and transport as much of the products as we can.\n",
    "\n",
    "In the LP formulation we will have the following **variables**:\n",
    "\n",
    " - $f_e^k \\in \\mathbb{Q}^{+}, f_e^k \\ge 0$ $\\sim$ representing the flow of the product $k$ through the edge $e$\n",
    " - $\\xi_v^k \\in \\mathbb{Q}^{+}, \\xi_v^k \\ge 0$ $\\sim$ the slack variable for node $v \\in T$ and product $k \\in P$ (how much of the product are we still missing)\n",
    "    \n",
    "**Objective function**\n",
    "$$ \\min \\sum_{(v, k) \\in T \\times P} \\xi_v^k$$\n",
    "\n",
    "**Given the conditions**\n",
    "    \n",
    " - *respecting edge capacities*\n",
    " $$\\forall e \\in E : \\sum\\limits_{k \\in P} f_e^k \\le c(e)$$\n",
    " - *Kirchhoff's law*\n",
    " $$\\forall v \\in (V - (S \\cup T)) : \\forall k \\in P : \\sum\\limits_{u \\in N^{+}(v)} f_{uv}^k - \\sum\\limits_{u \\in N^{-}(v)} f_{vu}^k = 0$$\n",
    " - *demands are satisfied given some slack*\n",
    " $$\\forall t \\in T : \\forall k \\in P : \\sum_{u \\in N^{+}(t)} f_{ut}^k + \\xi_t^k = d_t^k$$\n",
    " - *supplies are not exhausted*\n",
    "  $$\\forall s \\in S : \\forall k \\in P : \\sum_{u \\in N^{-}(s)} f_{su}^k \\le \\sigma_t^k$$\n",
    "  \n",
    "Adding additional variables $\\varepsilon_e \\ge 0$ for every edge in capacity conditions and $\\varphi_s^k$ for every $s \\in S$ and $k \\in P$.\n",
    "\n",
    "We arrive at the final LP formulation\n",
    "\n",
    "**Objective function**\n",
    "$$ \\max \\sum_{(v, k) \\in T \\times P} -\\xi_v^k$$\n",
    "\n",
    "**Conditions**\n",
    "$$\n",
    "\\begin{align*}\n",
    "\\forall e \\in E : &\\sum\\limits_{k \\in P} f_e^k + \\varepsilon_e = c(e) \\\\\n",
    "\\forall v \\in (V - (S \\cup T)) : \\forall k \\in P : &\\sum\\limits_{u \\in N^{+}(v)} f_{uv}^k - \\sum\\limits_{u \\in N^{-}(v)} f_{vu}^k = 0 \\\\\n",
    "\\forall t \\in T : \\forall k \\in P : &\\sum_{u \\in N^{+}(t)} f_{ut}^k + \\xi_t^k = d_t^k \\\\\n",
    "\\forall s \\in S : \\forall k \\in P : &\\sum_{u \\in N^{-}(s)} f_{su}^k + \\varphi_{s}^k = \\sigma_t^k\n",
    "\\end{align*}\n",
    "$$\n",
    "\n",
    "**Variables**\n",
    "$$\n",
    "\\begin{align*}\n",
    "\\forall e \\in E : \\forall k \\in P &: f_e^k \\in \\mathbb{Q}^{+} && f_e^k \\ge 0 \\\\\n",
    "\\forall t \\in T : \\forall k \\in P &: \\xi_t^k \\in \\mathbb{Q}^{+} && \\xi_k \\ge 0 \\\\\n",
    "\\forall e \\in E &: \\varepsilon_e \\in \\mathbb{Q}^{+} && \\varepsilon_e \\ge 0 \\\\\n",
    "\\forall s \\in S : \\forall k \\in P &: \\varphi_{s}^k \\in \\mathbb{Q}^{+} && \\varphi_{s}^k \\ge 0\n",
    "\\end{align*}\n",
    "$$\n",
    "\n",
    "Denoting $n$ the number of nodes and $m$ the number of edges, we have together $m + |P|n$ conditions and $(|P| + 1)m + (|S| + |D|)|P|$ variables."
   ]
  },
  {
   "cell_type": "markdown",
   "id": "dcf385e0-3561-49ce-a701-002420bf5d9d",
   "metadata": {},
   "source": [
    "### Collecting relevant information from instances"
   ]
  },
  {
   "cell_type": "code",
   "execution_count": 20,
   "id": "e246fd56-bcf7-4c9a-bdb0-eefdf06d9d93",
   "metadata": {},
   "outputs": [
    {
     "name": "stdout",
     "output_type": "stream",
     "text": [
      "InstanceInfo(products_no=4, nodes_no=64, links_no=196, bundled_links_no=84)\n"
     ]
    }
   ],
   "source": [
    "import numpy as np\n",
    "import sympy as sp\n",
    "from pathlib import Path\n",
    "from mcf_simplex_analyzer.load_instance import load_instance\n",
    "from collections import defaultdict\n",
    "from fractions import Fraction\n",
    "\n",
    "from pprint import pprint\n",
    "\n",
    "# Path to data directory\n",
    "instances_path = Path(\"example/\")\n",
    "\n",
    "assert instances_path.exists()\n",
    "\n",
    "instance_format = \"mnetgen\"\n",
    "nod_file = instances_path / (instance_format + \".nod\")\n",
    "arc_file = instances_path / (instance_format + \".arc\")\n",
    "sup_file = instances_path / (instance_format + \".sup\")\n",
    "mut_file = instances_path / (instance_format + \".mut\")\n",
    "\n",
    "instance = load_instance(instance_format, nod_file, arc_file, sup_file, mut_file)\n",
    "print(instance.info)"
   ]
  },
  {
   "cell_type": "code",
   "execution_count": 25,
   "id": "0d170172-facb-4f7e-9e60-0cce7c1763cc",
   "metadata": {},
   "outputs": [
    {
     "name": "stdout",
     "output_type": "stream",
     "text": [
      "{(1, 40): Fraction(64, 1), (40, 35): Fraction(511, 1), (35, 43): Fraction(511, 1), (2, 36): Fraction(647, 1), (36, 45): Fraction(-1, 1), (45, 56): Fraction(647, 1), (45, 33): Fraction(158, 1), (45, 35): Fraction(1159, 1), (3, 22): Fraction(511, 1), (22, 39): Fraction(511, 1), (4, 40): Fraction(511, 1), (40, 41): Fraction(511, 1), (41, 23): Fraction(62, 1), (23, 36): Fraction(31, 1), (23, 39): Fraction(-1, 1), (23, 63): Fraction(511, 1), (5, 29): Fraction(30, 1), (29, 64): Fraction(511, 1), (6, 33): Fraction(511, 1), (33, 51): Fraction(30, 1), (7, 38): Fraction(95, 1), (38, 17): Fraction(31, 1), (17, 46): Fraction(511, 1), (17, 62): Fraction(64, 1), (8, 25): Fraction(511, 1), (25, 36): Fraction(-1, 1), (36, 20): Fraction(511, 1), (20, 55): Fraction(29, 1), (20, 60): Fraction(63, 1), (20, 57): Fraction(62, 1), (9, 38): Fraction(31, 1), (38, 32): Fraction(511, 1), (32, 40): Fraction(511, 1), (32, 49): Fraction(-1, 1), (10, 40): Fraction(29, 1), (40, 28): Fraction(575, 1), (28, 50): Fraction(48, 1), (28, 37): Fraction(575, 1), (11, 18): Fraction(511, 1), (18, 35): Fraction(27, 1), (35, 53): Fraction(30, 1), (35, 37): Fraction(511, 1), (35, 52): Fraction(32, 1), (12, 44): Fraction(99, 1), (44, 34): Fraction(-1, 1), (34, 50): Fraction(531, 1), (34, 39): Fraction(531, 1), (34, 48): Fraction(-1, 1), (13, 44): Fraction(623, 1), (44, 58): Fraction(123, 1), (44, 36): Fraction(59, 1), (44, 63): Fraction(-1, 1), (14, 19): Fraction(511, 1), (19, 38): Fraction(-1, 1), (19, 52): Fraction(63, 1), (15, 38): Fraction(29, 1), (38, 51): Fraction(30, 1), (16, 47): Fraction(-1, 1), (47, 44): Fraction(-1, 1), (47, 58): Fraction(29, 1), (47, 55): Fraction(511, 1), (17, 44): Fraction(62, 1), (34, 43): Fraction(511, 1), (43, 55): Fraction(32, 1), (18, 33): Fraction(62, 1), (33, 43): Fraction(511, 1), (19, 41): Fraction(-1, 1), (41, 27): Fraction(595, 1), (27, 46): Fraction(30, 1), (27, 64): Fraction(595, 1), (20, 45): Fraction(531, 1), (33, 45): Fraction(94, 1), (45, 54): Fraction(531, 1), (45, 43): Fraction(531, 1), (45, 46): Fraction(-1, 1), (21, 24): Fraction(63, 1), (24, 43): Fraction(64, 1), (24, 44): Fraction(515, 1), (24, 58): Fraction(62, 1), (22, 34): Fraction(63, 1), (34, 47): Fraction(29, 1), (23, 30): Fraction(103, 1), (30, 64): Fraction(31, 1), (30, 47): Fraction(31, 1), (30, 45): Fraction(29, 1), (24, 47): Fraction(-1, 1), (47, 40): Fraction(587, 1), (25, 35): Fraction(62, 1), (35, 40): Fraction(-1, 1), (35, 54): Fraction(511, 1), (35, 57): Fraction(511, 1), (26, 36): Fraction(32, 1), (45, 49): Fraction(30, 1), (27, 41): Fraction(511, 1), (41, 39): Fraction(511, 1), (39, 47): Fraction(511, 1), (47, 60): Fraction(511, 1), (28, 26): Fraction(511, 1), (26, 37): Fraction(511, 1), (37, 31): Fraction(511, 1), (31, 55): Fraction(-1, 1), (31, 34): Fraction(29, 1), (29, 46): Fraction(511, 1), (46, 48): Fraction(511, 1), (46, 41): Fraction(29, 1), (30, 48): Fraction(29, 1), (48, 33): Fraction(31, 1), (33, 21): Fraction(123, 1), (21, 62): Fraction(29, 1), (21, 51): Fraction(161, 1), (21, 40): Fraction(747, 1), (31, 42): Fraction(30, 1), (42, 33): Fraction(511, 1), (45, 59): Fraction(62, 1), (32, 35): Fraction(30, 1), (35, 44): Fraction(29, 1), (44, 33): Fraction(-1, 1), (33, 57): Fraction(128, 1), (33, 36): Fraction(511, 1), (33, 34): Fraction(511, 1), (33, 35): Fraction(511, 1), (33, 37): Fraction(-1, 1), (33, 38): Fraction(63, 1), (33, 39): Fraction(511, 1), (33, 40): Fraction(-1, 1), (33, 41): Fraction(511, 1), (33, 42): Fraction(32, 1), (33, 44): Fraction(62, 1), (33, 46): Fraction(62, 1), (33, 47): Fraction(-1, 1), (33, 48): Fraction(511, 1), (33, 49): Fraction(511, 1), (33, 50): Fraction(62, 1), (33, 52): Fraction(-1, 1), (33, 53): Fraction(511, 1), (33, 54): Fraction(32, 1), (33, 55): Fraction(29, 1), (33, 56): Fraction(511, 1), (33, 58): Fraction(-1, 1), (33, 59): Fraction(64, 1), (33, 60): Fraction(511, 1), (33, 61): Fraction(63, 1), (33, 62): Fraction(-1, 1), (33, 63): Fraction(-1, 1), (33, 64): Fraction(511, 1), (4, 25): Fraction(683, 1), (46, 19): Fraction(847, 1), (19, 35): Fraction(29, 1), (38, 26): Fraction(344, 1), (11, 17): Fraction(115, 1), (26, 32): Fraction(584, 1), (15, 40): Fraction(-1, 1), (8, 34): Fraction(18, 1), (50, 31): Fraction(-1, 1), (32, 47): Fraction(122, 1), (53, 27): Fraction(-1, 1), (49, 40): Fraction(811, 1), (60, 55): Fraction(823, 1), (36, 61): Fraction(-1, 1), (7, 60): Fraction(47, 1), (25, 26): Fraction(40, 1), (26, 28): Fraction(65, 1), (54, 17): Fraction(261, 1), (26, 57): Fraction(307, 1), (51, 64): Fraction(-1, 1), (46, 29): Fraction(49, 1), (49, 45): Fraction(32, 1), (3, 54): Fraction(110, 1), (10, 42): Fraction(-1, 1), (21, 25): Fraction(81, 1), (58, 19): Fraction(-1, 1), (48, 53): Fraction(-1, 1), (3, 32): Fraction(149, 1), (56, 31): Fraction(31, 1), (31, 33): Fraction(172, 1), (49, 22): Fraction(8, 1), (30, 34): Fraction(20, 1), (54, 63): Fraction(-1, 1), (9, 60): Fraction(939, 1), (30, 62): Fraction(-1, 1), (28, 46): Fraction(48, 1), (14, 41): Fraction(265, 1), (21, 46): Fraction(2, 1), (44, 57): Fraction(387, 1), (32, 59): Fraction(-1, 1)}\n",
      "185\n"
     ]
    }
   ],
   "source": [
    "# Collect edge capacities\n",
    "capacities = {}\n",
    "\n",
    "for arc in instance.arcs:\n",
    "    fromnode, tonode, commodity, cost, individual_capacity, mutual_ptr = arc\n",
    "    if fromnode == -1 or tonode == -1 or commodity == -1:\n",
    "        print(arc)\n",
    "        \n",
    "    mutual, capacity = capacities.get((fromnode, tonode), (-1, -1))\n",
    "    mutual = mutual + instance.mutual.capacity[mutual_ptr - 1] if mutual_ptr != 0 else -1\n",
    "    capacity = capacity + individual_capacity if capacity != -1 else individual_capacity\n",
    "    \n",
    "    capacities[(fromnode, tonode)] = (mutual, capacity)\n",
    "\n",
    "for key in capacities:\n",
    "    mutual, total = capacities[key]\n",
    "    capacities[key] = max(mutual, total) if mutual != -1 else total\n",
    "    \n",
    "\n",
    "print(capacities)\n",
    "print(len(capacities))"
   ]
  },
  {
   "cell_type": "code",
   "execution_count": 23,
   "id": "8daedc4d-0103-4d0a-b37c-466615337226",
   "metadata": {},
   "outputs": [
    {
     "name": "stdout",
     "output_type": "stream",
     "text": [
      "defaultdict(<class 'dict'>, {1: {1: Fraction(32, 1), 2: Fraction(32, 1), 3: Fraction(32, 1), 4: Fraction(32, 1)}, 2: {1: Fraction(32, 1), 2: Fraction(32, 1), 3: Fraction(32, 1), 4: Fraction(66, 1)}, 3: {1: Fraction(32, 1), 2: Fraction(32, 1), 3: Fraction(32, 1), 4: Fraction(32, 1)}, 4: {1: Fraction(32, 1), 2: Fraction(32, 1), 3: Fraction(32, 1), 4: Fraction(32, 1)}, 5: {1: Fraction(32, 1), 2: Fraction(32, 1), 3: Fraction(32, 1), 4: Fraction(32, 1)}, 6: {1: Fraction(32, 1), 2: Fraction(32, 1), 3: Fraction(32, 1), 4: Fraction(32, 1)}, 7: {1: Fraction(32, 1), 2: Fraction(32, 1), 3: Fraction(32, 1), 4: Fraction(32, 1)}, 8: {1: Fraction(32, 1), 2: Fraction(32, 1), 3: Fraction(32, 1), 4: Fraction(32, 1)}, 9: {1: Fraction(32, 1), 2: Fraction(32, 1), 3: Fraction(32, 1), 4: Fraction(32, 1)}, 10: {1: Fraction(32, 1), 2: Fraction(32, 1), 3: Fraction(32, 1), 4: Fraction(48, 1)}, 11: {1: Fraction(32, 1), 2: Fraction(32, 1), 3: Fraction(32, 1), 4: Fraction(32, 1)}, 12: {1: Fraction(32, 1), 2: Fraction(32, 1), 3: Fraction(36, 1), 4: Fraction(33, 1)}, 13: {1: Fraction(32, 1), 2: Fraction(32, 1), 3: Fraction(60, 1), 4: Fraction(32, 1)}, 14: {1: Fraction(32, 1), 2: Fraction(32, 1), 3: Fraction(32, 1), 4: Fraction(32, 1)}, 15: {1: Fraction(32, 1), 2: Fraction(32, 1), 3: Fraction(32, 1), 4: Fraction(69, 1)}, 16: {1: Fraction(32, 1), 2: Fraction(32, 1), 3: Fraction(32, 1), 4: Fraction(32, 1)}, 17: {1: Fraction(32, 1), 2: Fraction(32, 1), 3: Fraction(32, 1), 4: Fraction(32, 1)}, 18: {1: Fraction(32, 1), 2: Fraction(32, 1), 3: Fraction(32, 1), 4: Fraction(32, 1)}, 19: {1: Fraction(32, 1), 2: Fraction(32, 1), 3: Fraction(32, 1), 4: Fraction(53, 1)}, 20: {1: Fraction(32, 1), 2: Fraction(32, 1), 3: Fraction(37, 1), 4: Fraction(32, 1)}, 21: {1: Fraction(32, 1), 2: Fraction(32, 1), 3: Fraction(32, 1), 4: Fraction(33, 1)}, 22: {1: Fraction(32, 1), 2: Fraction(32, 1), 3: Fraction(32, 1), 4: Fraction(63, 1)}, 23: {1: Fraction(32, 1), 2: Fraction(32, 1), 3: Fraction(32, 1), 4: Fraction(71, 1)}, 24: {1: Fraction(32, 1), 2: Fraction(32, 1), 3: Fraction(32, 1), 4: Fraction(51, 1)}, 25: {1: Fraction(32, 1), 2: Fraction(32, 1), 3: Fraction(32, 1), 4: Fraction(32, 1)}, 26: {1: Fraction(32, 1), 2: Fraction(32, 1), 3: Fraction(32, 1), 4: Fraction(32, 1)}, 27: {1: Fraction(32, 1), 2: Fraction(32, 1), 3: Fraction(32, 1), 4: Fraction(32, 1)}, 28: {1: Fraction(32, 1), 2: Fraction(32, 1), 3: Fraction(32, 1), 4: Fraction(32, 1)}, 29: {1: Fraction(32, 1), 2: Fraction(32, 1), 3: Fraction(32, 1), 4: Fraction(32, 1)}, 30: {1: Fraction(32, 1), 2: Fraction(32, 1), 3: Fraction(32, 1), 4: Fraction(91, 1)}, 31: {1: Fraction(32, 1), 2: Fraction(32, 1), 3: Fraction(32, 1), 4: Fraction(32, 1)}, 32: {1: Fraction(32, 1), 2: Fraction(32, 1), 3: Fraction(32, 1), 4: Fraction(32, 1)}})\n",
      "defaultdict(<class 'dict'>, {33: {1: Fraction(11, 1), 2: Fraction(9, 1), 3: Fraction(10, 1), 4: Fraction(6, 1)}, 34: {1: Fraction(14, 1), 2: Fraction(17, 1), 3: Fraction(10, 1), 4: Fraction(26, 1)}, 35: {1: Fraction(29, 1), 2: Fraction(30, 1), 3: Fraction(13, 1), 4: Fraction(40, 1)}, 36: {1: Fraction(26, 1), 2: Fraction(32, 1), 3: Fraction(28, 1), 4: Fraction(35, 1)}, 37: {1: Fraction(52, 1), 2: Fraction(22, 1), 3: Fraction(26, 1), 4: Fraction(31, 1)}, 38: {1: Fraction(13, 1), 2: Fraction(11, 1), 3: Fraction(19, 1), 4: Fraction(9, 1)}, 39: {1: Fraction(64, 1), 2: Fraction(59, 1), 3: Fraction(60, 1), 4: Fraction(46, 1)}, 40: {1: Fraction(76, 1), 2: Fraction(51, 1), 3: Fraction(66, 1), 4: Fraction(102, 1)}, 41: {1: Fraction(18, 1), 2: Fraction(17, 1), 3: Fraction(17, 1), 4: Fraction(17, 1)}, 42: {1: Fraction(1, 1), 2: Fraction(1, 1), 3: Fraction(1, 1), 4: Fraction(1, 1)}, 43: {1: Fraction(88, 1), 2: Fraction(85, 1), 3: Fraction(88, 1), 4: Fraction(78, 1)}, 44: {1: Fraction(21, 1), 2: Fraction(25, 1), 3: Fraction(19, 1), 4: Fraction(31, 1)}, 45: {1: Fraction(18, 1), 2: Fraction(19, 1), 3: Fraction(14, 1), 4: Fraction(33, 1)}, 46: {1: Fraction(68, 1), 2: Fraction(40, 1), 3: Fraction(58, 1), 4: Fraction(38, 1)}, 47: {1: Fraction(41, 1), 2: Fraction(43, 1), 3: Fraction(41, 1), 4: Fraction(103, 1)}, 48: {1: Fraction(26, 1), 2: Fraction(27, 1), 3: Fraction(24, 1), 4: Fraction(39, 1)}, 49: {1: Fraction(37, 1), 2: Fraction(43, 1), 3: Fraction(48, 1), 4: Fraction(33, 1)}, 50: {1: Fraction(8, 1), 2: Fraction(20, 1), 3: Fraction(34, 1), 4: Fraction(29, 1)}, 51: {1: Fraction(73, 1), 2: Fraction(75, 1), 3: Fraction(79, 1), 4: Fraction(111, 1)}, 52: {1: Fraction(31, 1), 2: Fraction(33, 1), 3: Fraction(25, 1), 4: Fraction(35, 1)}, 53: {1: Fraction(3, 1), 2: Fraction(18, 1), 3: Fraction(14, 1), 4: Fraction(18, 1)}, 54: {1: Fraction(19, 1), 2: Fraction(23, 1), 3: Fraction(10, 1), 4: Fraction(35, 1)}, 55: {1: Fraction(80, 1), 2: Fraction(70, 1), 3: Fraction(73, 1), 4: Fraction(52, 1)}, 56: {1: Fraction(11, 1), 2: Fraction(14, 1), 3: Fraction(12, 1), 4: Fraction(38, 1)}, 57: {1: Fraction(18, 1), 2: Fraction(24, 1), 3: Fraction(26, 1), 4: Fraction(35, 1)}, 58: {1: Fraction(23, 1), 2: Fraction(18, 1), 3: Fraction(54, 1), 4: Fraction(23, 1)}, 59: {1: Fraction(33, 1), 2: Fraction(33, 1), 3: Fraction(33, 1), 4: Fraction(33, 1)}, 60: {1: Fraction(43, 1), 2: Fraction(46, 1), 3: Fraction(57, 1), 4: Fraction(42, 1)}, 61: {1: Fraction(1, 1), 2: Fraction(1, 1), 3: Fraction(2, 1), 4: Fraction(1, 1)}, 62: {1: Fraction(10, 1), 2: Fraction(29, 1), 3: Fraction(8, 1), 4: Fraction(82, 1)}, 63: {1: Fraction(18, 1), 2: Fraction(24, 1), 3: Fraction(28, 1), 4: Fraction(20, 1)}, 64: {1: Fraction(50, 1), 2: Fraction(65, 1), 3: Fraction(64, 1), 4: Fraction(60, 1)}})\n"
     ]
    }
   ],
   "source": [
    "# Collect source and destination vertices\n",
    "\n",
    "source = defaultdict(dict)\n",
    "destination = defaultdict(dict)\n",
    "\n",
    "for supply in instance.supply:\n",
    "    s, t, k, f = supply\n",
    "    if s == -1:\n",
    "        destination[t][k] = f\n",
    "        \n",
    "    if t == -1:\n",
    "        source[s][k] = f\n",
    "        \n",
    "print(source)\n",
    "print(destination)"
   ]
  },
  {
   "cell_type": "code",
   "execution_count": 27,
   "id": "5865fe2e-8574-4408-a296-b3fb01efd69a",
   "metadata": {},
   "outputs": [
    {
     "name": "stdout",
     "output_type": "stream",
     "text": [
      "defaultdict(<class 'set'>, {40: {32, 1, 33, 35, 4, 10, 47, 15, 49, 21}, 35: {32, 33, 40, 45, 18, 19, 25}, 43: {33, 34, 35, 45, 24}, 36: {33, 2, 44, 23, 25, 26}, 45: {33, 36, 49, 20, 30}, 56: {33, 45}, 33: {6, 42, 44, 45, 48, 18, 31}, 22: {49, 3}, 39: {33, 34, 41, 22, 23}, 41: {33, 40, 46, 14, 19, 27}, 23: {41}, 63: {33, 44, 54, 23}, 29: {5, 46}, 64: {33, 51, 27, 29, 30}, 51: {33, 21, 38}, 38: {33, 7, 9, 15, 19}, 17: {54, 11, 38}, 46: {33, 45, 17, 21, 27, 28, 29}, 62: {17, 21, 30, 33}, 25: {8, 4, 21}, 20: {36}, 55: {33, 43, 47, 20, 60, 31}, 60: {33, 7, 9, 47, 20}, 57: {33, 35, 44, 20, 26}, 32: {26, 3, 38}, 49: {32, 33, 45}, 28: {40, 26}, 50: {33, 34, 28}, 37: {33, 26, 35, 28}, 18: {11}, 53: {48, 33, 35}, 52: {19, 33, 35}, 44: {33, 35, 12, 13, 47, 17, 24}, 34: {33, 8, 44, 22, 30, 31}, 48: {33, 34, 46, 30}, 58: {24, 33, 44, 47}, 19: {46, 58, 14}, 47: {32, 33, 34, 39, 16, 24, 30}, 27: {41, 53}, 54: {3, 33, 35, 45}, 24: {21}, 30: {23}, 26: {25, 28, 38}, 31: {56, 50, 37}, 21: {33}, 42: {33, 10, 31}, 59: {32, 33, 45}, 61: {33, 36}})\n",
      "defaultdict(<class 'set'>, {1: {40}, 40: {41, 35, 28}, 35: {37, 40, 43, 44, 52, 53, 54, 57}, 2: {36}, 36: {61, 20, 45}, 45: {33, 35, 43, 46, 49, 54, 56, 59}, 3: {54, 32, 22}, 22: {34, 39}, 4: {40, 25}, 41: {27, 39, 23}, 23: {36, 63, 30, 39}, 5: {29}, 29: {64, 46}, 6: {33}, 33: {21, 34, 35, 36, 37, 38, 39, 40, 41, 42, 43, 44, 45, 46, 47, 48, 49, 50, 51, 52, 53, 54, 55, 56, 57, 58, 59, 60, 61, 62, 63, 64}, 7: {60, 38}, 38: {32, 17, 26, 51}, 17: {62, 44, 46}, 8: {25, 34}, 25: {26, 35, 36}, 20: {57, 60, 45, 55}, 9: {60, 38}, 32: {35, 40, 47, 49, 59}, 10: {40, 42}, 28: {50, 26, 37, 46}, 11: {17, 18}, 18: {33, 35}, 12: {44}, 44: {33, 34, 36, 57, 58, 63}, 34: {39, 43, 47, 48, 50}, 13: {44}, 14: {41, 19}, 19: {41, 35, 52, 38}, 15: {40, 38}, 16: {47}, 47: {40, 44, 55, 58, 60}, 43: {55}, 27: {64, 41, 46}, 21: {40, 46, 51, 24, 25, 62}, 24: {58, 43, 44, 47}, 30: {64, 34, 45, 47, 48, 62}, 26: {32, 36, 37, 57, 28}, 39: {47}, 37: {31}, 31: {33, 34, 42, 55}, 46: {48, 41, 19, 29}, 48: {33, 53}, 42: {33}, 50: {31}, 53: {27}, 49: {40, 45, 22}, 60: {55}, 54: {17, 63}, 51: {64}, 58: {19}, 56: {31}})\n"
     ]
    }
   ],
   "source": [
    "in_neighbours = defaultdict(set)\n",
    "out_neighbours = defaultdict(set)\n",
    "\n",
    "for arc in instance.arcs:\n",
    "    fromnode, tonode, _, _, _, _ = arc\n",
    "    in_neighbours[tonode].add(fromnode)\n",
    "    out_neighbours[fromnode].add(tonode)\n",
    "\n",
    "print(in_neighbours)\n",
    "print(out_neighbours)"
   ]
  }
 ],
 "metadata": {
  "kernelspec": {
   "display_name": "Python 3",
   "language": "python",
   "name": "python3"
  },
  "language_info": {
   "codemirror_mode": {
    "name": "ipython",
    "version": 3
   },
   "file_extension": ".py",
   "mimetype": "text/x-python",
   "name": "python",
   "nbconvert_exporter": "python",
   "pygments_lexer": "ipython3",
   "version": "3.8.8"
  }
 },
 "nbformat": 4,
 "nbformat_minor": 5
}
