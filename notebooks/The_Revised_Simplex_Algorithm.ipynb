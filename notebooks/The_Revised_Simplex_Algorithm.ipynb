{
 "cells": [
  {
   "cell_type": "markdown",
   "id": "3fc704f1-783c-4077-9beb-504884fe5e30",
   "metadata": {},
   "source": [
    "# The revised simplex algorithm"
   ]
  },
  {
   "cell_type": "code",
   "execution_count": 1,
   "id": "ec5ac7e2-95c2-4510-99cb-8856d37df5c7",
   "metadata": {},
   "outputs": [],
   "source": [
    "import numpy as np\n",
    "\n",
    "import mcf_simplex_analyzer.fractionarray as fa\n",
    "import mcf_simplex_analyzer.fractionarray.sparse as fas\n",
    "from mcf_simplex_analyzer.simplex._revised_simplex import lu_factor, PLUSolver, EtaSolver, EtaFile"
   ]
  },
  {
   "cell_type": "code",
   "execution_count": 2,
   "id": "6888d538-a789-45c5-a40a-dad2800d51fa",
   "metadata": {},
   "outputs": [],
   "source": [
    "# Enable logging\n",
    "if True:\n",
    "    import logging\n",
    "\n",
    "    logging.basicConfig(\n",
    "        format=\"%(asctime)s %(levelname)s:%(message)s\",\n",
    "        datefmt=\"%I:%M:%S\",\n",
    "        level=logging.DEBUG,\n",
    "    )"
   ]
  },
  {
   "cell_type": "code",
   "execution_count": 3,
   "id": "8b23b853-7d5f-4bba-8a05-07cdafdf448f",
   "metadata": {},
   "outputs": [
    {
     "data": {
      "text/plain": [
       "FractionCSCMatrix(shape=(3, 7), indptr=array([ 0,  3,  6,  9, 12, 13, 14, 15]), indices=array([0, 1, 2, 0, 1, 2, 0, 1, 2, 0, 1, 2, 0, 1, 2]), data=FractionArray(data=[mpq(3,1) mpq(1,1) mpq(4,1) mpq(2,1) mpq(1,1) mpq(3,1) mpq(1,1) mpq(1,1)\n",
       " mpq(3,1) mpq(2,1) mpq(1,1) mpq(4,1) mpq(1,1) mpq(1,1) mpq(1,1)]))"
      ]
     },
     "execution_count": 3,
     "metadata": {},
     "output_type": "execute_result"
    }
   ],
   "source": [
    "A = fa.FractionArray.from_array( np.array(\n",
    "    [[3, 2, 1, 2, 1, 0, 0], [1, 1, 1, 1, 0, 1, 0], [4, 3, 3, 4, 0, 0, 1]], dtype=int\n",
    "))\n",
    "A = fas.dense_to_csc(A)\n",
    "A"
   ]
  },
  {
   "cell_type": "code",
   "execution_count": 4,
   "id": "d9ffe696-98bd-415e-8720-6b4ad8011f88",
   "metadata": {},
   "outputs": [
    {
     "data": {
      "text/plain": [
       "FractionArray(data=[mpq(225,1) mpq(117,1) mpq(420,1)])"
      ]
     },
     "execution_count": 4,
     "metadata": {},
     "output_type": "execute_result"
    }
   ],
   "source": [
    "b = fa.FractionArray.from_array(np.array([225, 117, 420], dtype=np.int64))\n",
    "b"
   ]
  },
  {
   "cell_type": "code",
   "execution_count": 5,
   "id": "60f6cd37-7520-42b4-bc2a-4f2de35059cf",
   "metadata": {},
   "outputs": [
    {
     "data": {
      "text/plain": [
       "FractionArray(data=[mpq(19,1) mpq(13,1) mpq(12,1) mpq(17,1) mpq(0,1) mpq(0,1) mpq(0,1)])"
      ]
     },
     "execution_count": 5,
     "metadata": {},
     "output_type": "execute_result"
    }
   ],
   "source": [
    "c = fa.FractionArray.from_array(np.array([19, 13, 12, 17, 0, 0, 0], dtype=np.int64))\n",
    "c"
   ]
  },
  {
   "cell_type": "code",
   "execution_count": 6,
   "id": "0f26ca26-aa23-47f9-a2a6-8d47b6bf7615",
   "metadata": {},
   "outputs": [
    {
     "data": {
      "text/plain": [
       "array([ True, False,  True, False, False, False,  True])"
      ]
     },
     "execution_count": 6,
     "metadata": {},
     "output_type": "execute_result"
    }
   ],
   "source": [
    "base = np.zeros(A.shape[1], dtype=bool)\n",
    "base[[0, 2, 6]] = True\n",
    "base"
   ]
  },
  {
   "cell_type": "code",
   "execution_count": 7,
   "id": "06569a19-edf2-4324-b44b-6578ee288ea0",
   "metadata": {},
   "outputs": [
    {
     "data": {
      "text/plain": [
       "array([0, 2, 6])"
      ]
     },
     "execution_count": 7,
     "metadata": {},
     "output_type": "execute_result"
    }
   ],
   "source": [
    "base_ind = np.where(base)[0]\n",
    "base_ind"
   ]
  },
  {
   "cell_type": "code",
   "execution_count": 8,
   "id": "7dbfc045-0cb2-498b-bc3a-90f151ddc961",
   "metadata": {},
   "outputs": [],
   "source": [
    "def csc_select_columns(csc: fas.FractionCSCMatrix, columns: np.ndarray):\n",
    "    m, _ = csc.shape\n",
    "    n = len(columns)\n",
    "    \n",
    "    out = fa.zeros((m, n))\n",
    "    for i, col in enumerate(columns):\n",
    "        start, end = csc.indptr[col], csc.indptr[col + 1]\n",
    "        out[csc.indices[start:end], i] = csc.data[start:end]\n",
    "                \n",
    "    return out"
   ]
  },
  {
   "cell_type": "code",
   "execution_count": 9,
   "id": "6f3d61c5-4476-4594-a6df-a7c320bdee6e",
   "metadata": {},
   "outputs": [
    {
     "data": {
      "text/plain": [
       "FractionArray(data=[[mpq(3,1) mpq(1,1) mpq(0,1)]\n",
       " [mpq(1,1) mpq(1,1) mpq(0,1)]\n",
       " [mpq(4,1) mpq(3,1) mpq(1,1)]])"
      ]
     },
     "execution_count": 9,
     "metadata": {},
     "output_type": "execute_result"
    }
   ],
   "source": [
    "csc_select_columns(A, base_ind)"
   ]
  },
  {
   "cell_type": "code",
   "execution_count": 10,
   "id": "03a00b0e-5b6e-4150-899a-40285c46ef16",
   "metadata": {},
   "outputs": [
    {
     "name": "stdout",
     "output_type": "stream",
     "text": [
      "FractionArray(data=[[mpq(3,1) mpq(1,1) mpq(0,1)]\n",
      " [mpq(1,1) mpq(1,1) mpq(0,1)]\n",
      " [mpq(4,1) mpq(3,1) mpq(1,1)]])\n",
      "FractionArray(data=[[mpq(3,1) mpq(1,1) mpq(0,1)]\n",
      " [mpq(1,3) mpq(2,3) mpq(0,1)]\n",
      " [mpq(4,3) mpq(5,2) mpq(1,1)]])\n"
     ]
    },
    {
     "data": {
      "text/plain": [
       "PLUSolver(lu=FractionArray(data=[[mpq(3,1) mpq(1,1) mpq(0,1)]\n",
       " [mpq(1,3) mpq(2,3) mpq(0,1)]\n",
       " [mpq(4,3) mpq(5,2) mpq(1,1)]]), perm=array([0, 1, 2]), _perm_trans=None)"
      ]
     },
     "execution_count": 10,
     "metadata": {},
     "output_type": "execute_result"
    }
   ],
   "source": [
    "B = fas.csc_to_dense(fas.csc_select_columns(A, base_ind))\n",
    "print(B)\n",
    "\n",
    "perm, lu = lu_factor(B)\n",
    "print(lu)\n",
    "\n",
    "solver = PLUSolver(lu=lu, perm=perm)\n",
    "solver"
   ]
  },
  {
   "cell_type": "code",
   "execution_count": 11,
   "id": "47254e63-5a62-44f6-99a3-53f1ae1ce70a",
   "metadata": {},
   "outputs": [
    {
     "data": {
      "text/plain": [
       "FractionArray(data=[mpq(7,2) mpq(17,2) mpq(0,1)])"
      ]
     },
     "execution_count": 11,
     "metadata": {},
     "output_type": "execute_result"
    }
   ],
   "source": [
    "y = solver.btran(c[base])\n",
    "y"
   ]
  },
  {
   "cell_type": "code",
   "execution_count": 12,
   "id": "20919ab0-7d38-4337-a9ce-5614242157d0",
   "metadata": {},
   "outputs": [
    {
     "data": {
      "text/plain": [
       "FractionArray(data=[mpq(54,1) mpq(63,1) mpq(15,1)])"
      ]
     },
     "execution_count": 12,
     "metadata": {},
     "output_type": "execute_result"
    }
   ],
   "source": [
    "p = solver.ftran(b)\n",
    "p"
   ]
  },
  {
   "cell_type": "code",
   "execution_count": 13,
   "id": "712cb7cb-366f-4983-9856-53ff47918b5c",
   "metadata": {},
   "outputs": [],
   "source": [
    "def compute_objective(\n",
    "    c: fa.FractionArray,\n",
    "    y: fa.FractionArray,\n",
    "    table: fas.FractionCSCMatrix,\n",
    "    nonbasic: np.ndarray,\n",
    "):\n",
    "    if np.issubdtype(nonbasic.dtype, bool):\n",
    "        nonbasic = np.where(nonbasic)[0]\n",
    "    elif not np.issubdtype(nonbasic.dtype, np.integer):\n",
    "        raise NotImplementedError(\"Invalid type {}\".format(nonbasic.dtype))\n",
    "\n",
    "    # TODO: empty?\n",
    "    tmp = fa.zeros(len(nonbasic))\n",
    "    for i, col in enumerate(nonbasic):\n",
    "        start, end = table.indptr[col], table.indptr[col + 1]\n",
    "        tmp[i] = sum(\n",
    "            frac * y[row]\n",
    "            for row, frac in zip(table.indices[start:end], table.data[start:end])\n",
    "        )\n",
    "    \n",
    "    return c[nonbasic] - tmp"
   ]
  },
  {
   "cell_type": "code",
   "execution_count": 14,
   "id": "53ecc679-f933-477d-b973-50ce12274602",
   "metadata": {},
   "outputs": [
    {
     "data": {
      "text/plain": [
       "FractionArray(data=[mpq(-5,2) mpq(3,2) mpq(-7,2) mpq(-17,2)])"
      ]
     },
     "execution_count": 14,
     "metadata": {},
     "output_type": "execute_result"
    }
   ],
   "source": [
    "obj = compute_objective(c, y, A, ~base)\n",
    "obj"
   ]
  },
  {
   "cell_type": "code",
   "execution_count": 15,
   "id": "f6dde67d-4aeb-4d93-88d5-8068da99dce1",
   "metadata": {},
   "outputs": [
    {
     "data": {
      "text/plain": [
       "3"
      ]
     },
     "execution_count": 15,
     "metadata": {},
     "output_type": "execute_result"
    }
   ],
   "source": [
    "entering = np.where(~base)[0][obj.argmax()]\n",
    "entering"
   ]
  },
  {
   "cell_type": "code",
   "execution_count": 16,
   "id": "4d31618c-626f-436b-a747-e3631a72ef95",
   "metadata": {},
   "outputs": [],
   "source": [
    "# Find d = B^-1 a\n",
    "# where\n",
    "#     a - is the entering column (A_N[..., entering])"
   ]
  },
  {
   "cell_type": "code",
   "execution_count": 17,
   "id": "cd33f2d2-ff26-4dd7-a826-231d485e640e",
   "metadata": {},
   "outputs": [
    {
     "data": {
      "text/plain": [
       "FractionArray(data=[mpq(2,1) mpq(1,1) mpq(4,1)])"
      ]
     },
     "execution_count": 17,
     "metadata": {},
     "output_type": "execute_result"
    }
   ],
   "source": [
    "a = csc_select_columns(A, [entering])[:, 0]\n",
    "a"
   ]
  },
  {
   "cell_type": "code",
   "execution_count": 18,
   "id": "6e994b3a-cd43-40e0-81b6-42852de555bd",
   "metadata": {},
   "outputs": [
    {
     "data": {
      "text/plain": [
       "FractionArray(data=[mpq(1,2) mpq(1,2) mpq(1,2)])"
      ]
     },
     "execution_count": 18,
     "metadata": {},
     "output_type": "execute_result"
    }
   ],
   "source": [
    "d = solver.ftran(a)\n",
    "d"
   ]
  },
  {
   "cell_type": "code",
   "execution_count": 19,
   "id": "030862bf-0350-44de-8e56-b7fea9a08863",
   "metadata": {},
   "outputs": [
    {
     "data": {
      "text/plain": [
       "(6, 2, mpq(30,1))"
      ]
     },
     "execution_count": 19,
     "metadata": {},
     "output_type": "execute_result"
    }
   ],
   "source": [
    "valid = np.where(d > 0)[0]\n",
    "\n",
    "bounds = p[valid] / d[valid]\n",
    "arg_min_bound = bounds.argmin()\n",
    "\n",
    "min_bound = bounds[arg_min_bound]\n",
    "leaving_rel = valid[arg_min_bound]\n",
    "leaving = np.where(base)[0][leaving_rel]\n",
    "\n",
    "leaving, leaving_rel, min_bound"
   ]
  },
  {
   "cell_type": "code",
   "execution_count": 20,
   "id": "d1b0fc5c-5c0f-4d62-af49-bd6a6de39266",
   "metadata": {},
   "outputs": [
    {
     "data": {
      "text/plain": [
       "FractionArray(data=[mpq(39,1) mpq(48,1) mpq(30,1)])"
      ]
     },
     "execution_count": 20,
     "metadata": {},
     "output_type": "execute_result"
    }
   ],
   "source": [
    "p_new = p - min_bound * d \n",
    "p_new[leaving_rel] = min_bound\n",
    "p_new"
   ]
  },
  {
   "cell_type": "code",
   "execution_count": 21,
   "id": "70a3ee65-000f-4d6f-8bc9-b7bf7be40c9f",
   "metadata": {},
   "outputs": [
    {
     "data": {
      "text/plain": [
       "array([ True, False,  True,  True, False, False, False])"
      ]
     },
     "execution_count": 21,
     "metadata": {},
     "output_type": "execute_result"
    }
   ],
   "source": [
    "base[entering] = True\n",
    "base[leaving] = False\n",
    "base"
   ]
  },
  {
   "cell_type": "markdown",
   "id": "29a5d16a-d4da-45db-949f-20015d74658c",
   "metadata": {},
   "source": [
    "## First iteration"
   ]
  },
  {
   "cell_type": "code",
   "execution_count": 22,
   "id": "c65320dd-68e2-4ef5-9d02-cd2241f73497",
   "metadata": {},
   "outputs": [
    {
     "name": "stdout",
     "output_type": "stream",
     "text": [
      "Base: [False False False False  True  True  True]\n",
      "Basic indices: [4 5 6]\n",
      "Nonbasic indices: [0 1 2 3]\n"
     ]
    }
   ],
   "source": [
    "base = base = np.zeros(A.shape[1], dtype=bool)\n",
    "base[[4, 5,6]] = True\n",
    "print(\"Base:\", base)\n",
    "\n",
    "base_ind = np.where(base)[0]\n",
    "print(\"Basic indices:\", base_ind)\n",
    "\n",
    "nonbase_ind = np.where(~base)[0]\n",
    "print(\"Nonbasic indices:\", nonbase_ind)"
   ]
  },
  {
   "cell_type": "code",
   "execution_count": 23,
   "id": "b2f679ce-55ac-4fa6-b41b-abea2b222b49",
   "metadata": {},
   "outputs": [
    {
     "name": "stdout",
     "output_type": "stream",
     "text": [
      "PLUSolver(lu=FractionArray(data=[[mpq(1,1) mpq(0,1) mpq(0,1)]\n",
      " [mpq(0,1) mpq(1,1) mpq(0,1)]\n",
      " [mpq(0,1) mpq(0,1) mpq(1,1)]]), perm=array([0, 1, 2]), _perm_trans=None)\n"
     ]
    },
    {
     "data": {
      "text/plain": [
       "EtaFile(file=[PLUSolver(lu=FractionArray(data=[[mpq(1,1) mpq(0,1) mpq(0,1)]\n",
       " [mpq(0,1) mpq(1,1) mpq(0,1)]\n",
       " [mpq(0,1) mpq(0,1) mpq(1,1)]]), perm=array([0, 1, 2]), _perm_trans=None)])"
      ]
     },
     "execution_count": 23,
     "metadata": {},
     "output_type": "execute_result"
    }
   ],
   "source": [
    "# Initialize Eta file\n",
    "B = csc_select_columns(A, base_ind)\n",
    "perm, lu = lu_factor(B)\n",
    "solver = PLUSolver(lu=lu, perm=perm)\n",
    "print(solver)\n",
    "\n",
    "eta_file = EtaFile()\n",
    "eta_file.extend(solver)\n",
    "eta_file"
   ]
  },
  {
   "cell_type": "code",
   "execution_count": 24,
   "id": "820b6422-8bf2-4d3c-b321-cc08a93db935",
   "metadata": {},
   "outputs": [
    {
     "data": {
      "text/plain": [
       "FractionArray(data=[mpq(0,1) mpq(0,1) mpq(0,1)])"
      ]
     },
     "execution_count": 24,
     "metadata": {},
     "output_type": "execute_result"
    }
   ],
   "source": [
    "y = eta_file.btran(c[base_ind])\n",
    "y"
   ]
  },
  {
   "cell_type": "code",
   "execution_count": 25,
   "id": "e858c618-d361-4a7a-807a-9cb2bc45c6ad",
   "metadata": {},
   "outputs": [
    {
     "data": {
      "text/plain": [
       "FractionArray(data=[mpq(19,1) mpq(13,1) mpq(12,1) mpq(17,1)])"
      ]
     },
     "execution_count": 25,
     "metadata": {},
     "output_type": "execute_result"
    }
   ],
   "source": [
    "obj = compute_objective(c, y, A, nonbase_ind)\n",
    "obj"
   ]
  },
  {
   "cell_type": "code",
   "execution_count": 26,
   "id": "28159784-563d-4e4c-9784-7581531a69f3",
   "metadata": {},
   "outputs": [
    {
     "data": {
      "text/plain": [
       "FractionArray(data=[mpq(225,1) mpq(117,1) mpq(420,1)])"
      ]
     },
     "execution_count": 26,
     "metadata": {},
     "output_type": "execute_result"
    }
   ],
   "source": [
    "p = eta_file.ftran(b)\n",
    "p"
   ]
  },
  {
   "cell_type": "code",
   "execution_count": 27,
   "id": "0ce6ebdc-10f8-480c-8094-6d14b286aedb",
   "metadata": {},
   "outputs": [
    {
     "data": {
      "text/plain": [
       "(2, 2)"
      ]
     },
     "execution_count": 27,
     "metadata": {},
     "output_type": "execute_result"
    }
   ],
   "source": [
    "entering_ind = obj.argmin()\n",
    "entering = nonbase_ind[entering_ind]\n",
    "entering_ind, entering"
   ]
  },
  {
   "cell_type": "code",
   "execution_count": 28,
   "id": "f8906fb6-8e9d-4281-a907-2777cc3b5268",
   "metadata": {},
   "outputs": [
    {
     "data": {
      "text/plain": [
       "FractionArray(data=[mpq(1,1) mpq(1,1) mpq(3,1)])"
      ]
     },
     "execution_count": 28,
     "metadata": {},
     "output_type": "execute_result"
    }
   ],
   "source": [
    "a = csc_select_columns(A, [entering])[:, 0]\n",
    "a"
   ]
  },
  {
   "cell_type": "code",
   "execution_count": 29,
   "id": "2b7b38cf-70ae-41bf-af3e-660b8fb38b3a",
   "metadata": {},
   "outputs": [
    {
     "data": {
      "text/plain": [
       "FractionArray(data=[mpq(1,1) mpq(1,1) mpq(3,1)])"
      ]
     },
     "execution_count": 29,
     "metadata": {},
     "output_type": "execute_result"
    }
   ],
   "source": [
    "d = eta_file.ftran(a)\n",
    "d"
   ]
  },
  {
   "cell_type": "code",
   "execution_count": 30,
   "id": "83c21345-5d2c-4688-ae98-60ddf386b09b",
   "metadata": {},
   "outputs": [
    {
     "data": {
      "text/plain": [
       "(1, 5)"
      ]
     },
     "execution_count": 30,
     "metadata": {},
     "output_type": "execute_result"
    }
   ],
   "source": [
    "valid = np.where(d > 0)[0]\n",
    "\n",
    "bounds = p[valid] / d[valid]\n",
    "arg_min_bound = bounds.argmin()\n",
    "\n",
    "min_bound = bounds[arg_min_bound]\n",
    "leaving_ind = valid[arg_min_bound]\n",
    "\n",
    "leaving = base_ind[leaving_ind]\n",
    "leaving_ind, leaving"
   ]
  },
  {
   "cell_type": "code",
   "execution_count": 31,
   "id": "b5a2b7e6-6ace-44be-b01d-7a954de1a50e",
   "metadata": {},
   "outputs": [
    {
     "name": "stdout",
     "output_type": "stream",
     "text": [
      "[False False  True False  True False  True]\n",
      "[4 2 6]\n",
      "[0 1 5 3]\n",
      "new FractionArray(data=[mpq(117,1) mpq(117,1) mpq(351,1)])\n",
      "FractionArray(data=[mpq(108,1) mpq(117,1) mpq(69,1)])\n"
     ]
    }
   ],
   "source": [
    "# Change basis\n",
    "base[entering] = True\n",
    "base[leaving] = False\n",
    "print(base)\n",
    "\n",
    "base_ind[leaving_ind] = entering\n",
    "nonbase_ind[entering_ind] = leaving\n",
    "print(base_ind)\n",
    "print(nonbase_ind)\n",
    "\n",
    "new_p = p.copy()\n",
    "print(\"new\", min_bound * d[valid])\n",
    "new_p[valid] = p[valid] - min_bound *  d[valid]\n",
    "new_p[leaving_ind] = min_bound\n",
    "print(new_p)\n",
    "\n",
    "p = new_p"
   ]
  },
  {
   "cell_type": "code",
   "execution_count": 32,
   "id": "0b6e886c-9072-4ee6-ad80-e50870381454",
   "metadata": {},
   "outputs": [],
   "source": [
    "# Update eta file\n",
    "eta = EtaSolver(index=leaving_ind, column=d)\n",
    "eta_file.extend(eta)"
   ]
  },
  {
   "cell_type": "markdown",
   "id": "3451f9bd-f84e-4daf-9a30-bcf5fbce1428",
   "metadata": {},
   "source": [
    "## Second iteration"
   ]
  },
  {
   "cell_type": "code",
   "execution_count": 33,
   "id": "bdadf216-b942-4381-956b-d0491a89a8fa",
   "metadata": {},
   "outputs": [
    {
     "data": {
      "text/plain": [
       "FractionArray(data=[mpq(0,1) mpq(12,1) mpq(0,1)])"
      ]
     },
     "execution_count": 33,
     "metadata": {},
     "output_type": "execute_result"
    }
   ],
   "source": [
    "y = eta_file.btran(c[base_ind])\n",
    "y"
   ]
  },
  {
   "cell_type": "code",
   "execution_count": 34,
   "id": "b1959db4-b6b5-4116-a362-a67c31e7ef1c",
   "metadata": {},
   "outputs": [
    {
     "data": {
      "text/plain": [
       "FractionArray(data=[mpq(7,1) mpq(1,1) mpq(-12,1) mpq(5,1)])"
      ]
     },
     "execution_count": 34,
     "metadata": {},
     "output_type": "execute_result"
    }
   ],
   "source": [
    "obj = compute_objective(c, y, A, nonbase_ind)\n",
    "obj"
   ]
  },
  {
   "cell_type": "code",
   "execution_count": 35,
   "id": "6d8e22d9-c3cc-47bd-b57f-e43f1eda8c3c",
   "metadata": {},
   "outputs": [
    {
     "data": {
      "text/plain": [
       "(0, 0)"
      ]
     },
     "execution_count": 35,
     "metadata": {},
     "output_type": "execute_result"
    }
   ],
   "source": [
    "nonbase_ind\n",
    "entering_ind = 0\n",
    "entering = 0\n",
    "entering_ind, entering"
   ]
  },
  {
   "cell_type": "code",
   "execution_count": 36,
   "id": "c4449f90-5713-4326-a244-b3524031c72a",
   "metadata": {},
   "outputs": [
    {
     "data": {
      "text/plain": [
       "FractionArray(data=[mpq(3,1) mpq(1,1) mpq(4,1)])"
      ]
     },
     "execution_count": 36,
     "metadata": {},
     "output_type": "execute_result"
    }
   ],
   "source": [
    "a = csc_select_columns(A, [entering])[:, 0]\n",
    "a"
   ]
  },
  {
   "cell_type": "code",
   "execution_count": 37,
   "id": "a893fb1a-1de8-4095-a9d9-6f9c0b77a435",
   "metadata": {},
   "outputs": [
    {
     "data": {
      "text/plain": [
       "FractionArray(data=[mpq(2,1) mpq(1,1) mpq(1,1)])"
      ]
     },
     "execution_count": 37,
     "metadata": {},
     "output_type": "execute_result"
    }
   ],
   "source": [
    "d = eta_file.ftran(a)\n",
    "d"
   ]
  },
  {
   "cell_type": "code",
   "execution_count": 38,
   "id": "9127bc33-cfc3-4283-8663-b18a180c3c21",
   "metadata": {},
   "outputs": [
    {
     "data": {
      "text/plain": [
       "(0, 4)"
      ]
     },
     "execution_count": 38,
     "metadata": {},
     "output_type": "execute_result"
    }
   ],
   "source": [
    "valid = np.where(d > 0)[0]\n",
    "\n",
    "bounds = p[valid] / d[valid]\n",
    "arg_min_bound = bounds.argmin()\n",
    "\n",
    "min_bound = bounds[arg_min_bound]\n",
    "leaving_ind = valid[arg_min_bound]\n",
    "\n",
    "leaving = base_ind[leaving_ind]\n",
    "leaving_ind, leaving"
   ]
  },
  {
   "cell_type": "code",
   "execution_count": 39,
   "id": "f3915c21-0732-438f-86a3-4519ce9aa382",
   "metadata": {},
   "outputs": [
    {
     "name": "stdout",
     "output_type": "stream",
     "text": [
      "[ True False  True False False False  True]\n",
      "[0 2 6]\n",
      "[4 1 5 3]\n",
      "FractionArray(data=[mpq(54,1) mpq(63,1) mpq(15,1)])\n"
     ]
    }
   ],
   "source": [
    "# Change basis\n",
    "base[entering] = True\n",
    "base[leaving] = False\n",
    "print(base)\n",
    "\n",
    "base_ind[leaving_ind] = entering\n",
    "nonbase_ind[entering_ind] = leaving\n",
    "print(base_ind)\n",
    "print(nonbase_ind)\n",
    "\n",
    "new_p = p.copy()\n",
    "new_p[valid] = p[valid] - min_bound *  d[valid]\n",
    "new_p[leaving_ind] = min_bound\n",
    "print(new_p)\n",
    "\n",
    "p = new_p"
   ]
  },
  {
   "cell_type": "code",
   "execution_count": 40,
   "id": "f2404d60-f6c0-499a-bdca-1a65b38406ab",
   "metadata": {},
   "outputs": [
    {
     "data": {
      "text/plain": [
       "EtaFile(file=[PLUSolver(lu=FractionArray(data=[[mpq(1,1) mpq(0,1) mpq(0,1)]\n",
       " [mpq(0,1) mpq(1,1) mpq(0,1)]\n",
       " [mpq(0,1) mpq(0,1) mpq(1,1)]]), perm=array([0, 1, 2]), _perm_trans=array([0, 1, 2])), EtaSolver(index=1, column=FractionArray(data=[mpq(1,1) mpq(1,1) mpq(3,1)])), EtaSolver(index=0, column=FractionArray(data=[mpq(2,1) mpq(1,1) mpq(1,1)]))])"
      ]
     },
     "execution_count": 40,
     "metadata": {},
     "output_type": "execute_result"
    }
   ],
   "source": [
    "# Update eta file\n",
    "eta = EtaSolver(index=leaving_ind, column=d)\n",
    "eta_file.extend(eta)\n",
    "eta_file"
   ]
  },
  {
   "cell_type": "markdown",
   "id": "569dd8d7-1db4-4b1d-a373-fab9645f5849",
   "metadata": {},
   "source": [
    "## Third iteration"
   ]
  },
  {
   "cell_type": "code",
   "execution_count": 41,
   "id": "8c8dda55-2c2d-4694-b1b5-f229e51015d2",
   "metadata": {},
   "outputs": [
    {
     "name": "stdout",
     "output_type": "stream",
     "text": [
      "y: FractionArray(data=[mpq(7,2) mpq(17,2) mpq(0,1)])\n",
      "obj: FractionArray(data=[mpq(-7,2) mpq(-5,2) mpq(-17,2) mpq(3,2)])\n",
      "entering_ind 3 entering 3\n",
      "a FractionArray(data=[mpq(2,1) mpq(1,1) mpq(4,1)])\n",
      "d FractionArray(data=[mpq(1,2) mpq(1,2) mpq(1,2)])\n",
      "leaving_ind 2 leaving 6\n",
      "[ True False  True  True False False False]\n",
      "base_ind [0 2 3]\n",
      "nonbase_ind [4 1 5 6]\n",
      "p FractionArray(data=[mpq(39,1) mpq(48,1) mpq(30,1)])\n"
     ]
    },
    {
     "data": {
      "text/plain": [
       "EtaFile(file=[PLUSolver(lu=FractionArray(data=[[mpq(1,1) mpq(0,1) mpq(0,1)]\n",
       " [mpq(0,1) mpq(1,1) mpq(0,1)]\n",
       " [mpq(0,1) mpq(0,1) mpq(1,1)]]), perm=array([0, 1, 2]), _perm_trans=array([0, 1, 2])), EtaSolver(index=1, column=FractionArray(data=[mpq(1,1) mpq(1,1) mpq(3,1)])), EtaSolver(index=0, column=FractionArray(data=[mpq(2,1) mpq(1,1) mpq(1,1)])), EtaSolver(index=2, column=FractionArray(data=[mpq(1,2) mpq(1,2) mpq(1,2)]))])"
      ]
     },
     "execution_count": 41,
     "metadata": {},
     "output_type": "execute_result"
    }
   ],
   "source": [
    "y = eta_file.btran(c[base_ind])\n",
    "print(\"y:\", y)\n",
    "\n",
    "# Compute objective function\n",
    "obj = compute_objective(c, y, A, nonbase_ind)\n",
    "print(\"obj:\", obj)\n",
    "\n",
    "# Determine entering\n",
    "valid_entering = np.where(obj > 0)[0]\n",
    "entering_ind = valid_entering[obj[valid_entering].argmax()]\n",
    "entering = nonbase_ind[entering_ind]\n",
    "print(\"entering_ind\", entering_ind, \"entering\", entering)\n",
    "\n",
    "# Determine entering column\n",
    "a = csc_select_columns(A, [entering])[:, 0]\n",
    "print(\"a\", a)\n",
    "\n",
    "d = eta_file.ftran(a)\n",
    "print(\"d\", d)\n",
    "\n",
    "# Determine leaving\n",
    "valid = np.where(d > 0)[0]\n",
    "\n",
    "bounds = p[valid] / d[valid]\n",
    "arg_min_bound = bounds.argmin()\n",
    "\n",
    "min_bound = bounds[arg_min_bound]\n",
    "leaving_ind = valid[arg_min_bound]\n",
    "\n",
    "leaving = base_ind[leaving_ind]\n",
    "print(\"leaving_ind\", leaving_ind, \"leaving\", leaving)\n",
    "\n",
    "# Change basis\n",
    "base[entering] = True\n",
    "base[leaving] = False\n",
    "print(base)\n",
    "\n",
    "base_ind[leaving_ind] = entering\n",
    "nonbase_ind[entering_ind] = leaving\n",
    "print(\"base_ind\", base_ind)\n",
    "print(\"nonbase_ind\", nonbase_ind)\n",
    "\n",
    "new_p = p.copy()\n",
    "new_p[valid] = p[valid] - min_bound *  d[valid]\n",
    "new_p[leaving_ind] = min_bound\n",
    "print(\"p\", new_p)\n",
    "\n",
    "p = new_p\n",
    "\n",
    "# Update eta file\n",
    "eta = EtaSolver(index=leaving_ind, column=d)\n",
    "eta_file.extend(eta)\n",
    "eta_file"
   ]
  },
  {
   "cell_type": "markdown",
   "id": "0eed5910-00e2-409a-8e90-2208832a9be9",
   "metadata": {},
   "source": [
    "## Fourth iteration"
   ]
  },
  {
   "cell_type": "code",
   "execution_count": 42,
   "id": "30af2451-fdaf-4a2d-b09e-f0893283cd46",
   "metadata": {},
   "outputs": [
    {
     "name": "stdout",
     "output_type": "stream",
     "text": [
      "y: FractionArray(data=[mpq(2,1) mpq(1,1) mpq(3,1)])\n",
      "obj: FractionArray(data=[mpq(-2,1) mpq(-1,1) mpq(-1,1) mpq(-3,1)])\n"
     ]
    }
   ],
   "source": [
    "y = eta_file.btran(c[base_ind])\n",
    "print(\"y:\", y)\n",
    "\n",
    "# Compute objective function\n",
    "obj = compute_objective(c, y, A, nonbase_ind)\n",
    "print(\"obj:\", obj)"
   ]
  },
  {
   "cell_type": "markdown",
   "id": "4204a541-076f-497f-a144-d2ec0c271bf6",
   "metadata": {},
   "source": [
    "## Everything together\n",
    "\n"
   ]
  },
  {
   "cell_type": "code",
   "execution_count": null,
   "id": "a41d0c1f-338e-4fc3-a7f0-7ce17401217d",
   "metadata": {},
   "outputs": [],
   "source": []
  },
  {
   "cell_type": "code",
   "execution_count": 43,
   "id": "8f874bda-196c-45e6-877d-89d815c4e8e5",
   "metadata": {},
   "outputs": [
    {
     "name": "stderr",
     "output_type": "stream",
     "text": [
      "08:47:59 INFO:Starting the revised simplex algorithm.\n",
      "08:47:59 DEBUG:refactorization_period=25\n",
      "08:47:59 INFO:Refactorizing base...\n",
      "08:47:59 INFO:Base refactorized. Time: 0.0010863800052902661\n",
      "08:47:59 INFO:\n",
      "Iteration: 0\n",
      "08:47:59 DEBUG:y= FractionArray(data=[mpq(0,1) mpq(0,1) mpq(0,1)])\n",
      "08:47:59 DEBUG:nonbasic_objective= FractionArray(data=[mpq(19,1) mpq(13,1) mpq(12,1) mpq(17,1)])\n",
      "08:47:59 DEBUG:entering_index= 0\n",
      "08:47:59 DEBUG:Entering= 0\n",
      "08:47:59 DEBUG:Entering column= FractionArray(data=[mpq(3,1) mpq(1,1) mpq(4,1)])\n",
      "08:47:59 DEBUG:d= FractionArray(data=[mpq(3,1) mpq(1,1) mpq(4,1)])\n",
      "08:47:59 DEBUG:leaving_index= 0\n",
      "08:47:59 DEBUG:leaving= 4\n",
      "08:47:59 DEBUG:min_bound= 75\n",
      "08:47:59 DEBUG:Updating base\n",
      "08:47:59 DEBUG:base= [ True False False False False  True  True]\n",
      "08:47:59 DEBUG:base_indices= [0 5 6]\n",
      "08:47:59 DEBUG:nonbase_indices= [4 1 2 3]\n",
      "08:47:59 INFO:base values: FractionArray(data=[mpq(75,1) mpq(42,1) mpq(120,1)])\n",
      "08:47:59 INFO:optimum: 1425\n",
      "08:47:59 DEBUG:Solution for the current basis: FractionArray(data=[mpq(75,1) mpq(42,1) mpq(120,1)]) \n",
      "08:47:59 DEBUG:\n",
      "Iteration: 1\n",
      "08:47:59 DEBUG:y= FractionArray(data=[mpq(19,3) mpq(0,1) mpq(0,1)])\n",
      "08:47:59 DEBUG:nonbasic_objective= FractionArray(data=[mpq(-19,3) mpq(1,3) mpq(17,3) mpq(13,3)])\n",
      "08:47:59 DEBUG:entering_index= 2\n",
      "08:47:59 DEBUG:Entering= 2\n",
      "08:47:59 DEBUG:Entering column= FractionArray(data=[mpq(1,1) mpq(1,1) mpq(3,1)])\n",
      "08:47:59 DEBUG:d= FractionArray(data=[mpq(1,3) mpq(2,3) mpq(5,3)])\n",
      "08:47:59 DEBUG:leaving_index= 1\n",
      "08:47:59 DEBUG:leaving= 5\n",
      "08:47:59 DEBUG:min_bound= 63\n",
      "08:47:59 DEBUG:Updating base\n",
      "08:47:59 DEBUG:base= [ True False  True False False False  True]\n",
      "08:47:59 DEBUG:base_indices= [0 2 6]\n",
      "08:47:59 DEBUG:nonbase_indices= [4 1 5 3]\n",
      "08:47:59 INFO:base values: FractionArray(data=[mpq(54,1) mpq(63,1) mpq(15,1)])\n",
      "08:47:59 INFO:optimum: 1782\n",
      "08:47:59 DEBUG:Solution for the current basis: FractionArray(data=[mpq(54,1) mpq(63,1) mpq(15,1)]) \n",
      "08:47:59 DEBUG:\n",
      "Iteration: 2\n",
      "08:47:59 DEBUG:y= FractionArray(data=[mpq(7,2) mpq(17,2) mpq(0,1)])\n",
      "08:47:59 DEBUG:nonbasic_objective= FractionArray(data=[mpq(-7,2) mpq(-5,2) mpq(-17,2) mpq(3,2)])\n",
      "08:47:59 DEBUG:entering_index= 3\n",
      "08:47:59 DEBUG:Entering= 3\n",
      "08:47:59 DEBUG:Entering column= FractionArray(data=[mpq(2,1) mpq(1,1) mpq(4,1)])\n",
      "08:47:59 DEBUG:d= FractionArray(data=[mpq(1,2) mpq(1,2) mpq(1,2)])\n",
      "08:47:59 DEBUG:leaving_index= 2\n",
      "08:47:59 DEBUG:leaving= 6\n",
      "08:47:59 DEBUG:min_bound= 30\n",
      "08:47:59 DEBUG:Updating base\n",
      "08:47:59 DEBUG:base= [ True False  True  True False False False]\n",
      "08:47:59 DEBUG:base_indices= [0 2 3]\n",
      "08:47:59 DEBUG:nonbase_indices= [4 1 5 6]\n",
      "08:47:59 INFO:base values: FractionArray(data=[mpq(39,1) mpq(48,1) mpq(30,1)])\n",
      "08:47:59 INFO:optimum: 1827\n",
      "08:47:59 DEBUG:Solution for the current basis: FractionArray(data=[mpq(39,1) mpq(48,1) mpq(30,1)]) \n",
      "08:47:59 DEBUG:\n",
      "Iteration: 3\n",
      "08:47:59 DEBUG:y= FractionArray(data=[mpq(2,1) mpq(1,1) mpq(3,1)])\n",
      "08:47:59 DEBUG:nonbasic_objective= FractionArray(data=[mpq(-2,1) mpq(-1,1) mpq(-1,1) mpq(-3,1)])\n",
      "08:47:59 DEBUG:entering_index= None\n",
      "08:47:59 INFO:Optimal solution found.\n",
      "08:47:59 INFO:base values: FractionArray(data=[mpq(39,1) mpq(48,1) mpq(30,1)])\n",
      "08:47:59 INFO:optimum: 1827\n"
     ]
    },
    {
     "name": "stdout",
     "output_type": "stream",
     "text": [
      "variables: [Variable(index=0, name='x_0'), Variable(index=1, name='x_1'), Variable(index=2, name='x_2'), Variable(index=3, name='x_3')]\n",
      "objective_function LinearCombination(combination=[FactorVar(factor=19, var=Variable(index=0, name='x_0')), FactorVar(factor=13, var=Variable(index=1, name='x_1')), FactorVar(factor=12, var=Variable(index=2, name='x_2')), FactorVar(factor=17, var=Variable(index=3, name='x_3'))])\n",
      "self.base  [False False False False  True  True  True]\n",
      "0\n",
      "1\n",
      "2\n",
      "3\n"
     ]
    },
    {
     "data": {
      "text/plain": [
       "LPResult(status='success', value=mpq(1827,1))"
      ]
     },
     "execution_count": 43,
     "metadata": {},
     "output_type": "execute_result"
    }
   ],
   "source": [
    "from mcf_simplex_analyzer.simplex import RevisedSimplex, LPModel\n",
    "\n",
    "model = LPModel(name=\"example\")\n",
    "x = [ model.new_variable(name=f\"x_{i}\") for i in range(4)]\n",
    "print(\"variables:\", x)\n",
    "\n",
    "objective_function = 19 * x[0] + 13 * x[1] + 12 * x[2] + 17 * x[3]\n",
    "print(\"objective_function\", objective_function)\n",
    "\n",
    "c1 = 3 * x[0] + 2 * x[1] + x[2] + 2 * x[3] <= 225\n",
    "c2 = x[0] + x[1] + x[2] + x[3] <= 117\n",
    "c3 = 4 * x[0] + 3 * x[1] + 3 * x[2] + 4 * x[3] <= 420\n",
    "\n",
    "model.constraints = [c1, c2, c3]\n",
    "model.objective_function = objective_function\n",
    "model\n",
    "\n",
    "simplex = RevisedSimplex.instantiate(model)\n",
    "simplex\n",
    "\n",
    "simplex.solve()"
   ]
  },
  {
   "cell_type": "code",
   "execution_count": null,
   "id": "008c55ed-2683-4374-b113-4773ac84eba6",
   "metadata": {},
   "outputs": [],
   "source": []
  },
  {
   "cell_type": "code",
   "execution_count": null,
   "id": "14a9b21e-a4ed-42cf-8742-f00511b59215",
   "metadata": {},
   "outputs": [],
   "source": []
  },
  {
   "cell_type": "code",
   "execution_count": 44,
   "id": "ada29033-65b7-4cd6-91e1-d3277ef7ed4b",
   "metadata": {},
   "outputs": [
    {
     "data": {
      "text/plain": [
       "False"
      ]
     },
     "execution_count": 44,
     "metadata": {},
     "output_type": "execute_result"
    }
   ],
   "source": [
    "isinstance(simplex.table.data, np.ndarray) and simplex.table.data.dtype"
   ]
  },
  {
   "cell_type": "code",
   "execution_count": 45,
   "id": "431ddaa0-0fad-4067-a7cf-2d837e60ad15",
   "metadata": {},
   "outputs": [
    {
     "name": "stderr",
     "output_type": "stream",
     "text": [
      "08:47:59 INFO:Starting the revised simplex algorithm.\n",
      "08:47:59 DEBUG:refactorization_period=25\n",
      "08:47:59 INFO:Refactorizing base...\n",
      "08:47:59 INFO:Base refactorized. Time: 0.003522774997691158\n"
     ]
    },
    {
     "name": "stdout",
     "output_type": "stream",
     "text": [
      "self.base  [False False False False False  True  True  True]\n"
     ]
    },
    {
     "name": "stderr",
     "output_type": "stream",
     "text": [
      "08:47:59 INFO:\n",
      "Iteration: 0\n",
      "08:47:59 DEBUG:y= FractionArray(data=[mpq(-1,1) mpq(-1,1) mpq(-1,1)])\n",
      "08:47:59 DEBUG:nonbasic_objective= FractionArray(data=[mpq(2,1) mpq(3,1) mpq(-1,1) mpq(-1,1) mpq(1,1)])\n",
      "08:47:59 DEBUG:entering_index= 1\n",
      "08:47:59 DEBUG:Entering= 1\n",
      "08:47:59 DEBUG:Entering column= FractionArray(data=[mpq(1,1) mpq(1,1) mpq(1,1)])\n",
      "08:47:59 DEBUG:d= FractionArray(data=[mpq(1,1) mpq(1,1) mpq(1,1)])\n",
      "08:47:59 DEBUG:leaving_index= 0\n",
      "08:47:59 DEBUG:leaving= 5\n",
      "08:47:59 DEBUG:min_bound= 1\n",
      "08:47:59 DEBUG:Updating base\n",
      "08:47:59 DEBUG:base= [False  True False False False False  True  True]\n",
      "08:47:59 DEBUG:base_indices= [1 6 7]\n",
      "08:47:59 DEBUG:nonbase_indices= [0 5 2 3 4]\n"
     ]
    },
    {
     "name": "stdout",
     "output_type": "stream",
     "text": [
      "0\n"
     ]
    },
    {
     "name": "stderr",
     "output_type": "stream",
     "text": [
      "08:47:59 INFO:base values: FractionArray(data=[mpq(1,1) mpq(2,1) mpq(1,1)])\n",
      "08:47:59 INFO:optimum: -3\n",
      "08:47:59 DEBUG:Solution for the current basis: FractionArray(data=[mpq(1,1) mpq(2,1) mpq(1,1)]) \n",
      "08:47:59 DEBUG:\n",
      "Iteration: 1\n",
      "08:47:59 DEBUG:y= FractionArray(data=[mpq(2,1) mpq(-1,1) mpq(-1,1)])\n",
      "08:47:59 DEBUG:nonbasic_objective= FractionArray(data=[mpq(5,1) mpq(-3,1) mpq(2,1) mpq(-1,1) mpq(1,1)])\n",
      "08:47:59 DEBUG:entering_index= 0\n",
      "08:47:59 DEBUG:Entering= 0\n",
      "08:47:59 DEBUG:Entering column= FractionArray(data=[mpq(-1,1) mpq(1,1) mpq(2,1)])\n",
      "08:47:59 DEBUG:d= FractionArray(data=[mpq(-1,1) mpq(2,1) mpq(3,1)])\n",
      "08:47:59 DEBUG:leaving_index= 2\n",
      "08:47:59 DEBUG:leaving= 7\n",
      "08:47:59 DEBUG:min_bound= 1/3\n",
      "08:47:59 DEBUG:Updating base\n",
      "08:47:59 DEBUG:base= [ True  True False False False False  True False]\n",
      "08:47:59 DEBUG:base_indices= [1 6 0]\n",
      "08:47:59 DEBUG:nonbase_indices= [7 5 2 3 4]\n",
      "08:47:59 INFO:base values: FractionArray(data=[mpq(4,3) mpq(4,3) mpq(1,3)])\n"
     ]
    },
    {
     "name": "stdout",
     "output_type": "stream",
     "text": [
      "1\n"
     ]
    },
    {
     "name": "stderr",
     "output_type": "stream",
     "text": [
      "08:47:59 INFO:optimum: -4/3\n",
      "08:47:59 DEBUG:Solution for the current basis: FractionArray(data=[mpq(4,3) mpq(4,3) mpq(1,3)]) \n",
      "08:47:59 DEBUG:\n",
      "Iteration: 2\n",
      "08:47:59 DEBUG:y= FractionArray(data=[mpq(1,3) mpq(-1,1) mpq(2,3)])\n",
      "08:47:59 DEBUG:nonbasic_objective= FractionArray(data=[mpq(-5,3) mpq(-4,3) mpq(1,3) mpq(-1,1) mpq(-2,3)])\n",
      "08:47:59 DEBUG:entering_index= 2\n",
      "08:47:59 DEBUG:Entering= 2\n",
      "08:47:59 DEBUG:Entering column= FractionArray(data=[mpq(-1,1) mpq(0,1) mpq(0,1)])\n",
      "08:47:59 DEBUG:d= FractionArray(data=[mpq(-2,3) mpq(1,3) mpq(1,3)])\n",
      "08:47:59 DEBUG:leaving_index= 2\n",
      "08:47:59 DEBUG:leaving= 0\n",
      "08:47:59 DEBUG:min_bound= 1\n",
      "08:47:59 DEBUG:Updating base\n",
      "08:47:59 DEBUG:base= [False  True  True False False False  True False]\n",
      "08:47:59 DEBUG:base_indices= [1 6 2]\n",
      "08:47:59 DEBUG:nonbase_indices= [7 5 0 3 4]\n",
      "08:47:59 INFO:base values: FractionArray(data=[mpq(2,1) mpq(1,1) mpq(1,1)])\n",
      "08:47:59 INFO:optimum: -1\n",
      "08:47:59 DEBUG:Solution for the current basis: FractionArray(data=[mpq(2,1) mpq(1,1) mpq(1,1)]) \n",
      "08:47:59 DEBUG:\n",
      "Iteration: 3\n",
      "08:47:59 DEBUG:y= FractionArray(data=[mpq(0,1) mpq(-1,1) mpq(1,1)])\n",
      "08:47:59 DEBUG:nonbasic_objective= FractionArray(data=[mpq(-2,1) mpq(-1,1) mpq(-1,1) mpq(-1,1) mpq(-1,1)])\n",
      "08:47:59 DEBUG:entering_index= None\n",
      "08:47:59 INFO:Optimal solution found.\n",
      "08:47:59 INFO:base values: FractionArray(data=[mpq(2,1) mpq(1,1) mpq(1,1)])\n",
      "08:47:59 INFO:optimum: -1\n",
      "08:47:59 INFO:Starting the revised simplex algorithm.\n",
      "08:47:59 DEBUG:refactorization_period=25\n",
      "08:47:59 INFO:Problem is infeasible\n"
     ]
    },
    {
     "name": "stdout",
     "output_type": "stream",
     "text": [
      "2\n",
      "3\n"
     ]
    }
   ],
   "source": [
    "model = LPModel(name=\"problem_four_infeasible\")\n",
    "x = [model.new_variable(name=f\"x_{i}\") for i in range(2)]\n",
    "slack = [model.new_variable(name=f\"slack_{i}\") for i in range(3)]\n",
    "\n",
    "model.objective_function = 3 * x[0] + x[1]\n",
    "model.constraints = [\n",
    "    x[0] - x[1] + slack[0] == -1,\n",
    "    -x[0] - x[1] + slack[1] == -3,\n",
    "    2 * x[0] + x[1] + slack[2] == 2,\n",
    "]\n",
    "\n",
    "simplex = RevisedSimplex.instantiate(model)\n",
    "ans = simplex.solve()\n",
    "\n",
    "assert ans.status == \"infeasible\""
   ]
  },
  {
   "cell_type": "code",
   "execution_count": null,
   "id": "abe900f7-5f61-4f2c-a102-4f9200b6f30d",
   "metadata": {},
   "outputs": [],
   "source": []
  }
 ],
 "metadata": {
  "kernelspec": {
   "display_name": "Python 3 (ipykernel)",
   "language": "python",
   "name": "python3"
  },
  "language_info": {
   "codemirror_mode": {
    "name": "ipython",
    "version": 3
   },
   "file_extension": ".py",
   "mimetype": "text/x-python",
   "name": "python",
   "nbconvert_exporter": "python",
   "pygments_lexer": "ipython3",
   "version": "3.9.6"
  }
 },
 "nbformat": 4,
 "nbformat_minor": 5
}
