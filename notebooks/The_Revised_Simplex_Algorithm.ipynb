{
 "cells": [
  {
   "cell_type": "markdown",
   "id": "3fc704f1-783c-4077-9beb-504884fe5e30",
   "metadata": {},
   "source": [
    "# The revised simplex algorithm"
   ]
  },
  {
   "cell_type": "code",
   "execution_count": 67,
   "id": "ec5ac7e2-95c2-4510-99cb-8856d37df5c7",
   "metadata": {},
   "outputs": [],
   "source": [
    "import numpy as np"
   ]
  },
  {
   "cell_type": "code",
   "execution_count": 68,
   "id": "8b23b853-7d5f-4bba-8a05-07cdafdf448f",
   "metadata": {},
   "outputs": [
    {
     "data": {
      "text/plain": [
       "array([[3, 2, 1, 2, 1, 0, 0],\n",
       "       [1, 1, 1, 1, 0, 1, 0],\n",
       "       [4, 3, 3, 4, 0, 0, 1]])"
      ]
     },
     "execution_count": 68,
     "metadata": {},
     "output_type": "execute_result"
    }
   ],
   "source": [
    "A = np.array(\n",
    "    [[3, 2, 1, 2, 1, 0, 0], [1, 1, 1, 1, 0, 1, 0], [4, 3, 3, 4, 0, 0, 1]], dtype=int\n",
    ")\n",
    "A"
   ]
  },
  {
   "cell_type": "code",
   "execution_count": 69,
   "id": "d9ffe696-98bd-415e-8720-6b4ad8011f88",
   "metadata": {},
   "outputs": [
    {
     "data": {
      "text/plain": [
       "array([225, 117, 420])"
      ]
     },
     "execution_count": 69,
     "metadata": {},
     "output_type": "execute_result"
    }
   ],
   "source": [
    "b = np.array([225, 117, 420], dtype=int)\n",
    "b"
   ]
  },
  {
   "cell_type": "code",
   "execution_count": 70,
   "id": "60f6cd37-7520-42b4-bc2a-4f2de35059cf",
   "metadata": {},
   "outputs": [
    {
     "data": {
      "text/plain": [
       "array([19, 13, 12, 17,  0,  0,  0])"
      ]
     },
     "execution_count": 70,
     "metadata": {},
     "output_type": "execute_result"
    }
   ],
   "source": [
    "c = np.array([19, 13, 12, 17, 0, 0, 0], dtype=int)\n",
    "c"
   ]
  },
  {
   "cell_type": "code",
   "execution_count": 71,
   "id": "0f26ca26-aa23-47f9-a2a6-8d47b6bf7615",
   "metadata": {},
   "outputs": [
    {
     "data": {
      "text/plain": [
       "array([ True, False,  True, False, False, False,  True])"
      ]
     },
     "execution_count": 71,
     "metadata": {},
     "output_type": "execute_result"
    }
   ],
   "source": [
    "base = np.zeros(A.shape[1], dtype=bool)\n",
    "base[[0, 2, 6]] = True\n",
    "base"
   ]
  },
  {
   "cell_type": "code",
   "execution_count": 72,
   "id": "769ac5be-059c-4ced-adb4-8c67c2b4d52f",
   "metadata": {},
   "outputs": [
    {
     "data": {
      "text/plain": [
       "array([[3, 1, 0],\n",
       "       [1, 1, 0],\n",
       "       [4, 3, 1]])"
      ]
     },
     "execution_count": 72,
     "metadata": {},
     "output_type": "execute_result"
    }
   ],
   "source": [
    "A[..., base]"
   ]
  },
  {
   "cell_type": "code",
   "execution_count": 73,
   "id": "ec65c59a-6d17-4ce3-b24c-ff0b1c20b2c2",
   "metadata": {},
   "outputs": [
    {
     "data": {
      "text/plain": [
       "array([[2, 2, 1, 0],\n",
       "       [1, 1, 0, 1],\n",
       "       [3, 4, 0, 0]])"
      ]
     },
     "execution_count": 73,
     "metadata": {},
     "output_type": "execute_result"
    }
   ],
   "source": [
    "A[..., ~base]"
   ]
  },
  {
   "cell_type": "code",
   "execution_count": 74,
   "id": "ffde650c-94ae-4aa8-a743-3157ae50c15f",
   "metadata": {},
   "outputs": [
    {
     "data": {
      "text/plain": [
       "array([[ 0.5, -0.5,  0. ],\n",
       "       [-0.5,  1.5, -0. ],\n",
       "       [-0.5, -2.5,  1. ]])"
      ]
     },
     "execution_count": 74,
     "metadata": {},
     "output_type": "execute_result"
    }
   ],
   "source": [
    "A_B_inv = np.linalg.inv(A[..., base])\n",
    "A_B_inv"
   ]
  },
  {
   "cell_type": "code",
   "execution_count": 75,
   "id": "ef2e4313-e243-4be3-9d5c-845736fcc734",
   "metadata": {},
   "outputs": [
    {
     "data": {
      "text/plain": [
       "1782.0"
      ]
     },
     "execution_count": 75,
     "metadata": {},
     "output_type": "execute_result"
    }
   ],
   "source": [
    "c[base] @ A_B_inv @ b"
   ]
  },
  {
   "cell_type": "code",
   "execution_count": 76,
   "id": "20919ab0-7d38-4337-a9ce-5614242157d0",
   "metadata": {},
   "outputs": [
    {
     "data": {
      "text/plain": [
       "array([54., 63., 15.])"
      ]
     },
     "execution_count": 76,
     "metadata": {},
     "output_type": "execute_result"
    }
   ],
   "source": [
    "p = A_B_inv @ b\n",
    "p"
   ]
  },
  {
   "cell_type": "code",
   "execution_count": 77,
   "id": "00af7cb5-e3e1-4ce0-8dff-099d358676d4",
   "metadata": {},
   "outputs": [
    {
     "data": {
      "text/plain": [
       "array([[3, 1, 0],\n",
       "       [1, 1, 0],\n",
       "       [4, 3, 1]])"
      ]
     },
     "execution_count": 77,
     "metadata": {},
     "output_type": "execute_result"
    }
   ],
   "source": [
    "B = A[..., base]\n",
    "B"
   ]
  },
  {
   "cell_type": "code",
   "execution_count": 78,
   "id": "f0522362-8eaa-4667-8cbf-47ea06b863cb",
   "metadata": {},
   "outputs": [
    {
     "data": {
      "text/plain": [
       "array([3.5, 8.5, 0. ])"
      ]
     },
     "execution_count": 78,
     "metadata": {},
     "output_type": "execute_result"
    }
   ],
   "source": [
    "# c_N - c_B B^-1 A_N\n",
    "\n",
    "# Find:\n",
    "#     y = c_B @ B^-1\n",
    "# by solving\n",
    "#     yB = c_B\n",
    "\n",
    "y = c[base] @ A_B_inv\n",
    "y"
   ]
  },
  {
   "cell_type": "code",
   "execution_count": 79,
   "id": "8ad4f889-66d8-4386-b922-b9ee46bc462f",
   "metadata": {},
   "outputs": [
    {
     "data": {
      "text/plain": [
       "array([-2.5,  1.5, -3.5, -8.5])"
      ]
     },
     "execution_count": 79,
     "metadata": {},
     "output_type": "execute_result"
    }
   ],
   "source": [
    "z = c[~base] - y @ A[..., ~base]\n",
    "z"
   ]
  },
  {
   "cell_type": "code",
   "execution_count": 80,
   "id": "24a95390-6802-4602-98e0-482775c4cf9f",
   "metadata": {},
   "outputs": [
    {
     "data": {
      "text/plain": [
       "-2.5"
      ]
     },
     "execution_count": 80,
     "metadata": {},
     "output_type": "execute_result"
    }
   ],
   "source": [
    "# Example calculating only one element\n",
    "index = 0\n",
    "c[~base][index] -  y @ A[..., ~base][..., index]"
   ]
  },
  {
   "cell_type": "code",
   "execution_count": 81,
   "id": "f6dde67d-4aeb-4d93-88d5-8068da99dce1",
   "metadata": {},
   "outputs": [
    {
     "data": {
      "text/plain": [
       "3"
      ]
     },
     "execution_count": 81,
     "metadata": {},
     "output_type": "execute_result"
    }
   ],
   "source": [
    "entering = np.where(~base)[0][z.argmax()]\n",
    "entering"
   ]
  },
  {
   "cell_type": "code",
   "execution_count": 82,
   "id": "4d31618c-626f-436b-a747-e3631a72ef95",
   "metadata": {},
   "outputs": [],
   "source": [
    "# Find d = B^-1 a\n",
    "# where\n",
    "#     a - is the entering column (A_N[..., entering])"
   ]
  },
  {
   "cell_type": "code",
   "execution_count": 83,
   "id": "cd33f2d2-ff26-4dd7-a826-231d485e640e",
   "metadata": {},
   "outputs": [
    {
     "data": {
      "text/plain": [
       "array([2, 1, 4])"
      ]
     },
     "execution_count": 83,
     "metadata": {},
     "output_type": "execute_result"
    }
   ],
   "source": [
    "a = A[..., entering]\n",
    "a"
   ]
  },
  {
   "cell_type": "code",
   "execution_count": 84,
   "id": "6e994b3a-cd43-40e0-81b6-42852de555bd",
   "metadata": {},
   "outputs": [
    {
     "data": {
      "text/plain": [
       "array([0.5, 0.5, 0.5])"
      ]
     },
     "execution_count": 84,
     "metadata": {},
     "output_type": "execute_result"
    }
   ],
   "source": [
    "d = A_B_inv @ a\n",
    "d"
   ]
  },
  {
   "cell_type": "code",
   "execution_count": 91,
   "id": "030862bf-0350-44de-8e56-b7fea9a08863",
   "metadata": {},
   "outputs": [
    {
     "data": {
      "text/plain": [
       "(6, 2, 30.0)"
      ]
     },
     "execution_count": 91,
     "metadata": {},
     "output_type": "execute_result"
    }
   ],
   "source": [
    "valid = np.where(d > 0)[0]\n",
    "\n",
    "bounds = p[valid] / d[valid]\n",
    "arg_min_bound = bounds.argmin()\n",
    "\n",
    "min_bound = bounds[arg_min_bound]\n",
    "leaving_rel = valid[arg_min_bound]\n",
    "leaving = np.where(base)[0][leaving_rel]\n",
    "\n",
    "leaving, leaving_rel, min_bound"
   ]
  },
  {
   "cell_type": "code",
   "execution_count": 88,
   "id": "d1b0fc5c-5c0f-4d62-af49-bd6a6de39266",
   "metadata": {},
   "outputs": [
    {
     "data": {
      "text/plain": [
       "array([39., 48., 30.])"
      ]
     },
     "execution_count": 88,
     "metadata": {},
     "output_type": "execute_result"
    }
   ],
   "source": [
    "p_new = p - min_bound * d \n",
    "p_new[leaving_rel] = min_bound\n",
    "p_new"
   ]
  },
  {
   "cell_type": "code",
   "execution_count": 93,
   "id": "70a3ee65-000f-4d6f-8bc9-b7bf7be40c9f",
   "metadata": {},
   "outputs": [
    {
     "data": {
      "text/plain": [
       "array([ True, False,  True,  True, False, False, False])"
      ]
     },
     "execution_count": 93,
     "metadata": {},
     "output_type": "execute_result"
    }
   ],
   "source": [
    "base[entering] = True\n",
    "base[leaving] = False\n",
    "base"
   ]
  },
  {
   "cell_type": "code",
   "execution_count": null,
   "id": "5edea069-4420-45ac-94c2-20a497d19991",
   "metadata": {},
   "outputs": [],
   "source": []
  }
 ],
 "metadata": {
  "kernelspec": {
   "display_name": "Python 3 (ipykernel)",
   "language": "python",
   "name": "python3"
  },
  "language_info": {
   "codemirror_mode": {
    "name": "ipython",
    "version": 3
   },
   "file_extension": ".py",
   "mimetype": "text/x-python",
   "name": "python",
   "nbconvert_exporter": "python",
   "pygments_lexer": "ipython3",
   "version": "3.9.6"
  }
 },
 "nbformat": 4,
 "nbformat_minor": 5
}
