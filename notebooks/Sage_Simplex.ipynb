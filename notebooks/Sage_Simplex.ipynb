{
 "cells": [
  {
   "cell_type": "markdown",
   "id": "979aab1a-eb4b-4944-b898-115f017553c0",
   "metadata": {},
   "source": [
    "# Sage Simplex Implementations"
   ]
  },
  {
   "cell_type": "code",
   "execution_count": 9,
   "id": "2ec474ff-a276-4545-8525-a9711299a893",
   "metadata": {},
   "outputs": [],
   "source": [
    "import numpy as np"
   ]
  },
  {
   "cell_type": "markdown",
   "id": "827962f1-cfe9-43c1-af56-efd5fbc5d542",
   "metadata": {},
   "source": [
    "## ``GLPK/exact`` backend"
   ]
  },
  {
   "cell_type": "code",
   "execution_count": 18,
   "id": "1f8f6fe7-bef4-4ad3-bce8-ccd89b222345",
   "metadata": {},
   "outputs": [
    {
     "name": "stdout",
     "output_type": "stream",
     "text": [
      "Minimization:\n",
      "  x_3 \n",
      "\n",
      "Constraints:\n",
      "  0.0 <= x_0 + x_1 + x_2 - 14.0 x_3 <= 0.0\n",
      "  0.0 <= x_1 + 2.0 x_2 - 8.0 x_3 <= 0.0\n",
      "  0.0 <= 2.0 x_2 - 3.0 x_3 <= 0.0\n",
      "  - x_0 + x_1 + x_2 <= 0.0\n",
      "  - x_3 <= -1.0\n",
      "Variables:\n",
      "  x_0 is a continuous variable (min=0.0, max=+oo)\n",
      "  x_1 is a continuous variable (min=0.0, max=+oo)\n",
      "  x_2 is a continuous variable (min=0.0, max=+oo)\n",
      "  x_3 is a continuous variable (min=0.0, max=+oo)\n"
     ]
    }
   ],
   "source": [
    "p = MixedIntegerLinearProgram(maximization=False, solver = \"GLPK/exact\")\n",
    "w = p.new_variable(nonnegative=True)\n",
    "p.add_constraint(w[0] + w[1] + w[2] - 14*w[3] == 0)\n",
    "p.add_constraint(w[1] + 2*w[2] - 8*w[3] == 0)\n",
    "p.add_constraint(2*w[2] - 3*w[3] == 0)\n",
    "p.add_constraint(w[0] - w[1] - w[2] >= 0)\n",
    "p.add_constraint(w[3] >= 1)\n",
    "p.set_objective(w[3])\n",
    "p.show()"
   ]
  },
  {
   "cell_type": "code",
   "execution_count": 9,
   "id": "087d25c5-7e25-41a2-bcaf-df24647852ea",
   "metadata": {},
   "outputs": [
    {
     "data": {
      "text/plain": [
       "1"
      ]
     },
     "execution_count": 9,
     "metadata": {},
     "output_type": "execute_result"
    }
   ],
   "source": [
    "p.solve()"
   ]
  },
  {
   "cell_type": "code",
   "execution_count": 10,
   "id": "6883c4bb-67dc-4f81-8ed9-1c36d345fa0d",
   "metadata": {},
   "outputs": [
    {
     "name": "stdout",
     "output_type": "stream",
     "text": [
      "Maximization:\n",
      "  19.0 x_0 + 13.0 x_1 + 12.0 x_2 + 17.0 x_3 \n",
      "\n",
      "Constraints:\n",
      "  3.0 x_0 + 2.0 x_1 + x_2 + 2.0 x_3 <= 225.0\n",
      "  x_0 + x_1 + x_2 + x_3 <= 117.0\n",
      "  4.0 x_0 + 3.0 x_1 + 3.0 x_2 + 4.0 x_3 <= 420.0\n",
      "Variables:\n",
      "  x_0 is a continuous variable (min=0.0, max=+oo)\n",
      "  x_1 is a continuous variable (min=0.0, max=+oo)\n",
      "  x_2 is a continuous variable (min=0.0, max=+oo)\n",
      "  x_3 is a continuous variable (min=0.0, max=+oo)\n"
     ]
    }
   ],
   "source": [
    "p2 = MixedIntegerLinearProgram(maximization=True, solver = \"GLPK/exact\")\n",
    "x = p2.new_variable(nonnegative=True)\n",
    "p2.set_objective(19 * x[0] + 13 * x[1] + 12 * x[2] + 17 * x[3])\n",
    "p2.add_constraint(3 * x[0] + 2 * x[1] + x[2] + 2 * x[3] <= 225)\n",
    "p2.add_constraint(x[0] + x[1] + x[2] + x[3] <= 117)\n",
    "p2.add_constraint(4 * x[0] + 3 * x[1] + 3 * x[2] + 4 * x[3] <= 420)\n",
    "p2.show()"
   ]
  },
  {
   "cell_type": "code",
   "execution_count": 11,
   "id": "52963a53-8eab-456a-ac0c-ce6f06060169",
   "metadata": {},
   "outputs": [
    {
     "data": {
      "text/plain": [
       "1827.0"
      ]
     },
     "execution_count": 11,
     "metadata": {},
     "output_type": "execute_result"
    }
   ],
   "source": [
    "p2.solve()"
   ]
  },
  {
   "cell_type": "code",
   "execution_count": 12,
   "id": "52130706-3aac-4f6f-9985-bca651cf4da3",
   "metadata": {},
   "outputs": [
    {
     "name": "stdout",
     "output_type": "stream",
     "text": [
      "Maximization:\n",
      "  x_0 - x_1 + x_2 \n",
      "\n",
      "Constraints:\n",
      "  4.0 <= 2.0 x_0 - x_1 + 2.0 x_2 + x_3 <= 4.0\n",
      "  -5.0 <= 2.0 x_0 - 3.0 x_1 + x_2 + x_4 <= -5.0\n",
      "  -1.0 <= - x_0 + x_1 - 2.0 x_2 + x_5 <= -1.0\n",
      "Variables:\n",
      "  x_0 is a continuous variable (min=0.0, max=+oo)\n",
      "  x_1 is a continuous variable (min=0.0, max=+oo)\n",
      "  x_2 is a continuous variable (min=0.0, max=+oo)\n",
      "  x_3 is a continuous variable (min=0.0, max=+oo)\n",
      "  x_4 is a continuous variable (min=0.0, max=+oo)\n",
      "  x_5 is a continuous variable (min=0.0, max=+oo)\n"
     ]
    }
   ],
   "source": [
    "two_phase = MixedIntegerLinearProgram(maximization=True, solver = \"GLPK\")\n",
    "x = two_phase.new_variable(nonnegative=True)\n",
    "slack = two_phase.new_variable(nonnegative=True)\n",
    "two_phase.set_objective(x[0] - x[1] + x[2])\n",
    "two_phase.add_constraint(2 * x[0] - x[1] + 2 * x[2] + slack[0] == 4)\n",
    "two_phase.add_constraint(2 * x[0] - 3 * x[1] + x[2] + slack[1] == -5)\n",
    "two_phase.add_constraint(-x[0] + x[1] - 2 * x[2] + slack[2] == -1)\n",
    "two_phase.show()"
   ]
  },
  {
   "cell_type": "code",
   "execution_count": 13,
   "id": "0b085000-1373-4e44-8626-e4eb88a8dbdd",
   "metadata": {},
   "outputs": [
    {
     "data": {
      "text/plain": [
       "True"
      ]
     },
     "execution_count": 13,
     "metadata": {},
     "output_type": "execute_result"
    }
   ],
   "source": [
    "np.isclose(two_phase.solve(), 3/5)"
   ]
  },
  {
   "cell_type": "code",
   "execution_count": 14,
   "id": "f5132496-5497-48b2-8005-6a8846994164",
   "metadata": {},
   "outputs": [
    {
     "data": {
      "text/plain": [
       "<sage.numerical.backends.glpk_backend.GLPKBackend object at 0x7fec0cd1cac0>"
      ]
     },
     "execution_count": 14,
     "metadata": {},
     "output_type": "execute_result"
    }
   ],
   "source": [
    "backend = two_phase.get_backend()\n",
    "backend"
   ]
  },
  {
   "cell_type": "code",
   "execution_count": 15,
   "id": "fc6fff05-e469-4623-9c77-623cc70dfcc4",
   "metadata": {},
   "outputs": [
    {
     "data": {
      "text/plain": [
       "0.0"
      ]
     },
     "execution_count": 15,
     "metadata": {},
     "output_type": "execute_result"
    }
   ],
   "source": [
    "backend.get_col_dual(2)"
   ]
  },
  {
   "cell_type": "code",
   "execution_count": 16,
   "id": "b8ab65cc-a581-42cf-9eea-b96eaa913017",
   "metadata": {},
   "outputs": [
    {
     "data": {
      "text/plain": [
       "0.6000000000000001"
      ]
     },
     "execution_count": 16,
     "metadata": {},
     "output_type": "execute_result"
    }
   ],
   "source": [
    "backend.solve()\n",
    "backend.get_objective_value()"
   ]
  },
  {
   "cell_type": "code",
   "execution_count": 17,
   "id": "23c0fd2f-44da-41d8-946d-10232050e7be",
   "metadata": {},
   "outputs": [
    {
     "data": {
      "text/plain": [
       "Real Double Field"
      ]
     },
     "execution_count": 17,
     "metadata": {},
     "output_type": "execute_result"
    }
   ],
   "source": [
    "backend.base_ring()"
   ]
  },
  {
   "cell_type": "code",
   "execution_count": 18,
   "id": "e1ca929e-c33c-4132-bc34-6b7031628082",
   "metadata": {},
   "outputs": [
    {
     "data": {
      "text/plain": [
       "[False, True, True, False, False, True]"
      ]
     },
     "execution_count": 18,
     "metadata": {},
     "output_type": "execute_result"
    }
   ],
   "source": [
    "[ backend.is_variable_basic(i) for i in range(backend.ncols()) ]"
   ]
  },
  {
   "cell_type": "markdown",
   "id": "a118f0c2-6dd0-4612-891a-e7fb983f6941",
   "metadata": {
    "tags": []
   },
   "source": [
    "### Find initial basis"
   ]
  },
  {
   "cell_type": "code",
   "execution_count": 19,
   "id": "7a64a633-fa07-4343-a049-e6f00183fc3a",
   "metadata": {},
   "outputs": [
    {
     "name": "stdout",
     "output_type": "stream",
     "text": [
      "Maximization:\n",
      "  \n",
      "\n",
      "Constraints:\n",
      "  2.0 x_0 - x_1 + 2.0 x_2 <= 4.0\n",
      "  2.0 x_0 - 3.0 x_1 + x_2 <= -5.0\n",
      "  - x_0 + x_1 - 2.0 x_2 <= -1.0\n",
      "Variables:\n",
      "  x_0 is a continuous variable (min=0.0, max=+oo)\n",
      "  x_1 is a continuous variable (min=0.0, max=+oo)\n",
      "  x_2 is a continuous variable (min=0.0, max=+oo)\n"
     ]
    }
   ],
   "source": [
    "aux = MixedIntegerLinearProgram(solver = \"GLPK/exact\")\n",
    "x = aux.new_variable(nonnegative=True)\n",
    "aux.set_objective(0)\n",
    "aux.add_constraint(2 * x[0] - x[1] + 2 * x[2] <= 4)\n",
    "aux.add_constraint(2 * x[0] - 3 * x[1] + x[2] <= -5)\n",
    "aux.add_constraint(-x[0] + x[1] - 2 * x[2] <= -1)\n",
    "aux.show()"
   ]
  },
  {
   "cell_type": "code",
   "execution_count": 20,
   "id": "59c73e24-5c85-4d45-9bca-d91b64692229",
   "metadata": {},
   "outputs": [
    {
     "data": {
      "text/plain": [
       "[False, True, True]"
      ]
     },
     "execution_count": 20,
     "metadata": {},
     "output_type": "execute_result"
    }
   ],
   "source": [
    "aux_backend = aux.get_backend()\n",
    "aux_backend.solve()\n",
    "[ aux_backend.is_variable_basic(i) for i in range(aux_backend.ncols()) ]"
   ]
  },
  {
   "cell_type": "markdown",
   "id": "ea20552b-dfee-4348-98dc-1c377f3f4168",
   "metadata": {},
   "source": [
    "## Interactive Simplex Method"
   ]
  },
  {
   "cell_type": "code",
   "execution_count": 21,
   "id": "72581dfa-52c5-4369-b018-3eb22bc0deba",
   "metadata": {},
   "outputs": [
    {
     "data": {
      "text/plain": [
       "[1 2 3]\n",
       "[4 5 6]"
      ]
     },
     "execution_count": 21,
     "metadata": {},
     "output_type": "execute_result"
    }
   ],
   "source": [
    "m = matrix(QQ,[[1,2,3],[4,5,6]])\n",
    "m"
   ]
  },
  {
   "cell_type": "code",
   "execution_count": 4,
   "id": "0fd6480f-7f5a-4dac-adb1-52f433725596",
   "metadata": {},
   "outputs": [
    {
     "name": "stdout",
     "output_type": "stream",
     "text": [
      "InstanceInfo(products_no=92, nodes_no=30, links_no=150, bundled_links_no=150)\n"
     ]
    }
   ],
   "source": [
    "from pathlib import Path\n",
    "from mcf_simplex_analyzer.load_instance import load_instance\n",
    "\n",
    "# Path to data directory\n",
    "instances_path = Path(\"example/\")\n",
    "\n",
    "assert instances_path.exists()\n",
    "\n",
    "instance_format = \"planar\"\n",
    "nod_file = instances_path / (instance_format + \".nod\")\n",
    "arc_file = instances_path / (instance_format + \".arc\")\n",
    "sup_file = instances_path / (instance_format + \".sup\")\n",
    "mut_file = instances_path / (instance_format + \".mut\")\n",
    "\n",
    "instance = load_instance(instance_format, nod_file, arc_file, sup_file, mut_file)\n",
    "print(instance.info)"
   ]
  },
  {
   "cell_type": "code",
   "execution_count": 5,
   "id": "7938d133-e817-4fc2-9dc0-00d13185eaa8",
   "metadata": {},
   "outputs": [],
   "source": [
    "from mcf_simplex_analyzer.formulate import formulate_concurrent_flow_problem\n",
    "\n",
    "network_info, max_flow_sum = formulate_concurrent_flow_problem(instance)"
   ]
  },
  {
   "cell_type": "code",
   "execution_count": 6,
   "id": "051378a5-3699-41c6-bfa4-57836021b19e",
   "metadata": {},
   "outputs": [],
   "source": [
    "def solve_for(instance, network_info, y=1, product_limit=infinity, solver=\"GLPK/exact\"):\n",
    "    model = MixedIntegerLinearProgram(maximization=False, solver=solver)\n",
    "    \n",
    "    flow = model.new_variable(nonnegative=True)\n",
    "    violation = model.new_variable(nonnegative=True)\n",
    "\n",
    "    # Objective\n",
    "    model.set_objective(model.sum(\n",
    "            violation[(u, v)]\n",
    "            for u in network_info.capacities\n",
    "            for v in network_info.capacities[u]\n",
    "        \n",
    "    ))\n",
    "\n",
    "    # Edges\n",
    "    for u in network_info.capacities:\n",
    "        for v in network_info.capacities[u]:\n",
    "            model.add_constraint(\n",
    "                model.sum(\n",
    "                    \n",
    "                        flow[(u, v, commodity)]\n",
    "                        for commodity in range(1, min(instance.info.products_no + 1, product_limit))\n",
    "                    \n",
    "                )\n",
    "                - violation[(u, v)]\n",
    "                <= network_info.capacities[u][v]\n",
    "            )\n",
    "\n",
    "    vertices = set()\n",
    "    for u in network_info.capacities:\n",
    "        for v in network_info.capacities[u]:\n",
    "            vertices.add(u)\n",
    "            vertices.add(v)\n",
    "\n",
    "    # Kirchhof\n",
    "    for commodity in range(1, min(instance.info.products_no + 1, product_limit)):\n",
    "        for vertex in vertices:\n",
    "            if vertex in network_info.sources and commodity in network_info.sources[vertex]:\n",
    "                continue\n",
    "\n",
    "            if (\n",
    "                vertex in network_info.destinations\n",
    "                and commodity in network_info.destinations[vertex]\n",
    "            ):\n",
    "                continue\n",
    "\n",
    "            outgoing = model.sum(\n",
    "                    flow[(vertex, u, commodity)]\n",
    "                    for u in network_info.capacities.get(vertex, [])\n",
    "            )\n",
    "\n",
    "            incomming = model.sum(\n",
    "                    flow[(u, vertex, commodity)]\n",
    "                    for u in network_info.capacities\n",
    "                    if vertex in network_info.capacities.get(u, {})\n",
    "            )\n",
    "            model.add_constraint(outgoing - incomming == 0)\n",
    "\n",
    "    for destination in network_info.destinations:\n",
    "        for commodity in network_info.destinations[destination]:\n",
    "            incomming = model.sum(\n",
    "                    \n",
    "                        flow[(u, destination, commodity)]\n",
    "                        for u in network_info.capacities\n",
    "                        if destination in network_info.capacities.get(u, {})\n",
    "                    \n",
    "                )\n",
    "            model.add_constraint( incomming >= y * network_info.destinations[destination][commodity].numerator)\n",
    "            \n",
    "    return model"
   ]
  },
  {
   "cell_type": "code",
   "execution_count": null,
   "id": "34c92c9a-1023-46aa-9125-c58d0f65858f",
   "metadata": {},
   "outputs": [
    {
     "name": "stdout",
     "output_type": "stream",
     "text": [
      "GLPK\n",
      "\tLIM\tNVARS\tTTF\tTTS\t%TTF\n",
      "\t1\t623\t0.015655797004001215\t0.0012781200057361275\t13.249082193955902\n",
      "\t2\t768\t0.010975074997986667\t0.0020101760019315407\t6.459758243776128\n",
      "\t3\t915\t0.013719121008762158\t0.002973826995003037\t5.613288208027766\n",
      "\t4\t1059\t0.014567692996934056\t0.003436434009927325\t5.239188925162028\n",
      "\t5\t1207\t0.01738462499633897\t0.0039076999964891\t5.4488126038227875\n",
      "\t6\t1350\t0.01806392399885226\t0.004596067999955267\t4.930299551492292\n",
      "\t7\t1493\t0.020810155998333357\t0.005440518987597898\t4.82503140707197\n",
      "\t8\t1640\t0.02163652300077956\t0.005883570993319154\t4.677447425270813\n",
      "\t9\t1783\t0.023396390010020696\t0.007292086011148058\t4.208463253759289\n",
      "GLPK/exact\n",
      "\tLIM\tNVARS\tTTF\tTTS\t%TTF\n",
      "\t1\t623\t0.009174906997941434\t0.01672277200850658\t1.5486474965558532\n",
      "\t2\t768\t0.01174063301004935\t0.023474813002394512\t1.5001374455614094\n",
      "\t3\t915\t0.01303545200789813\t0.03739459998905659\t1.348591829079945\n",
      "\t4\t1059\t0.014718614998855628\t0.0455829449929297\t1.3228974126427901\n",
      "\t5\t1207\t0.016586532001383603\t0.05714300899126101\t1.2902635386932497\n",
      "\t6\t1350\t0.019477305002510548\t0.09169444799772464\t1.2124153144255132\n",
      "\t7\t1493\t0.019955943993409164\t0.10649299899523612\t1.1873920744245532\n",
      "\t8\t1640\t0.02246679899690207\t0.1468368060013745\t1.1530052281080791\n",
      "\t9\t1783\t0.025816559995291755\t0.2392795869964175\t1.1078928642403512\n",
      "InteractiveLP\n",
      "\tLIM\tNVARS\tTTF\tTTS\t%TTF\n",
      "\t1\t623\t9.151742121990537\t222.50629938900238\t1.0411302607931596\n",
      "\t2\t768\t14.184059988008812\t465.57622036899556\t1.0304656023384682\n",
      "\t3\t915\t20.55835465200653\t743.2483466350095\t1.0276601417885187\n",
      "\t4\t1059\t28.235901129999547\t1087.860912025004\t1.0259554331053586\n",
      "\t5\t1207\t36.955257124005584\t1630.08542424599\t1.022670748768335\n"
     ]
    }
   ],
   "source": [
    "import time\n",
    "\n",
    "data = {}\n",
    "solvers = [\"GLPK\", \"GLPK/exact\", \"InteractiveLP\"]\n",
    "for solver in solvers:\n",
    "    \n",
    "    data[solver] = []\n",
    "    with open(solver.replace('/', '') + \".benchmark\", 'w') as fout:\n",
    "        print(solver)\n",
    "        print('', 'LIM', 'NVARS', 'TTF', 'TTS', '%TTF', sep='\\t')\n",
    "        for limit in range(1, 10):\n",
    "            # Measure time to formulate\n",
    "            tic = time.perf_counter()\n",
    "            model = solve_for(instance, network_info, y=20, product_limit=limit, solver=solver)\n",
    "            toc = time.perf_counter()\n",
    "            time_to_formulate = toc - tic\n",
    "            \n",
    "            # Measure time to solve\n",
    "            tic = time.perf_counter()\n",
    "            out = model.solve()\n",
    "            toc = time.perf_counter()\n",
    "            time_to_solve = toc - tic\n",
    "\n",
    "            data[solver].append((limit, model.number_of_variables(), time_to_formulate, time_to_solve, (time_to_formulate + time_to_solve) / time_to_solve))\n",
    "            print('', *data[solver][-1], sep='\\t', flush=True)\n",
    "            fout.write(','.join(map(str, data[solver][-1])) + '\\n')"
   ]
  },
  {
   "cell_type": "code",
   "execution_count": null,
   "id": "e2ba6e13-3375-4988-b092-44c5dfddb619",
   "metadata": {},
   "outputs": [],
   "source": [
    "import matplotlib.pyplot as plt\n",
    "import csv\n",
    "\n",
    "solvers = [\"GLPK\", \"GLPK/exact\", \"InteractiveLP\"]\n",
    "for solver in solvers:\n",
    "    with open(solver.replace('/', '') + \".benchmark\", 'r') as fin:\n",
    "        print(fin.read())\n",
    "        \n",
    "\n",
    "fig, axs = plt.subplots(2, 1, figsize=(10, 10))\n",
    "\n",
    "axs[0].plot([ nvars for _, nvars, _, tts, _ in data[\"GLPK\"]], [ tts / nvars for _, nvars, _, tts, _ in data[\"GLPK\"]])\n",
    "axs[1].plot([ nvars for _, nvars, _, tts, _ in data[\"GLPK/exact\"]], [ tts / nvars for _, nvars, _, tts, _ in data[\"GLPK/exact\"]])\n",
    "axs[2].plot([ nvars for _, nvars, _, tts, _ in data[\"InteractiveLP\"]], [ tts / nvars for _, nvars, _, tts, _ in data[\"InteractiveLP\"]])"
   ]
  },
  {
   "cell_type": "code",
   "execution_count": 17,
   "id": "b14da6cb-53a6-45b1-90e5-d0036391ebec",
   "metadata": {},
   "outputs": [],
   "source": [
    "model = solve_for(instance, network_info, y=20, solver=\"GLPK\")\n",
    "backend = model.get_backend()\n",
    "backend.solve()\n",
    "basis = np.fromiter( (backend.is_variable_basic(i) for i in range(backend.ncols())) , dtype=bool)"
   ]
  },
  {
   "cell_type": "code",
   "execution_count": null,
   "id": "999cf0cc-eed2-43c0-9cc6-b8b0f1e53079",
   "metadata": {},
   "outputs": [],
   "source": []
  }
 ],
 "metadata": {
  "kernelspec": {
   "display_name": "SageMath 9.5",
   "language": "sage",
   "name": "sagemath"
  },
  "language_info": {
   "codemirror_mode": {
    "name": "ipython",
    "version": 3
   },
   "file_extension": ".py",
   "mimetype": "text/x-python",
   "name": "python",
   "nbconvert_exporter": "python",
   "pygments_lexer": "ipython3",
   "version": "3.10.2"
  }
 },
 "nbformat": 4,
 "nbformat_minor": 5
}
