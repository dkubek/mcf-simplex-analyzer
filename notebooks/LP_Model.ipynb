{
 "cells": [
  {
   "cell_type": "markdown",
   "id": "c1a69097-ed0c-4638-b4ba-da72e440bced",
   "metadata": {},
   "source": [
    "# LP Model"
   ]
  },
  {
   "cell_type": "code",
   "execution_count": 1,
   "id": "b1f62689-7082-4692-a923-ac9acfb515c5",
   "metadata": {},
   "outputs": [],
   "source": [
    "import numpy as np\n",
    "import mcf_simplex_analyzer.fractionarray as fa\n",
    "import mcf_simplex_analyzer.fractionarray.sparse as fas\n",
    "from mcf_simplex_analyzer.simplex import LPModel, InequalityType"
   ]
  },
  {
   "cell_type": "code",
   "execution_count": 2,
   "id": "70420739-4e64-42ea-a8aa-8de35e3fafe9",
   "metadata": {},
   "outputs": [
    {
     "data": {
      "text/plain": [
       "LPModel(name='test_problem', constraints=[], objective_function=None, variable_no=0)"
      ]
     },
     "execution_count": 2,
     "metadata": {},
     "output_type": "execute_result"
    }
   ],
   "source": [
    "model = LPModel(name=\"test_problem\")\n",
    "model"
   ]
  },
  {
   "cell_type": "code",
   "execution_count": 3,
   "id": "a61192d1-4c8a-4c2e-92c0-b2a355d85372",
   "metadata": {},
   "outputs": [
    {
     "data": {
      "text/plain": [
       "[Variable(index=0, name='x_0'),\n",
       " Variable(index=1, name='x_1'),\n",
       " Variable(index=2, name='x_2'),\n",
       " Variable(index=3, name='x_3')]"
      ]
     },
     "execution_count": 3,
     "metadata": {},
     "output_type": "execute_result"
    }
   ],
   "source": [
    "xs = [ model.new_variable(f\"x_{i}\") for i in range(4) ]\n",
    "xs"
   ]
  },
  {
   "cell_type": "code",
   "execution_count": 4,
   "id": "15d7ab8b-32c3-46de-863e-056f1e820cb6",
   "metadata": {},
   "outputs": [
    {
     "name": "stdout",
     "output_type": "stream",
     "text": [
      "Constraint(combination=LinearCombination(combination=[FactorVar(factor=3, var=Variable(index=0, name='x_0')), FactorVar(factor=2, var=Variable(index=1, name='x_1')), FactorVar(factor=1, var=Variable(index=2, name='x_2')), FactorVar(factor=2, var=Variable(index=3, name='x_3'))]), right_hand_side=225, type=<InequalityType.LE: 0>)\n",
      "Constraint(combination=LinearCombination(combination=[FactorVar(factor=1, var=Variable(index=1, name='x_1')), FactorVar(factor=1, var=Variable(index=0, name='x_0')), FactorVar(factor=2, var=Variable(index=3, name='x_3'))]), right_hand_side=117, type=<InequalityType.LE: 0>)\n",
      "Constraint(combination=LinearCombination(combination=[FactorVar(factor=4, var=Variable(index=0, name='x_0')), FactorVar(factor=3, var=Variable(index=1, name='x_1')), FactorVar(factor=3, var=Variable(index=2, name='x_2')), FactorVar(factor=4, var=Variable(index=3, name='x_3'))]), right_hand_side=420, type=<InequalityType.LE: 0>)\n"
     ]
    }
   ],
   "source": [
    "c1 = 3 * xs[0] + 2 * xs[1] + xs[2] + 2 * xs[3] <= 225\n",
    "c2 = xs[0] + xs[1] + xs[3] + xs[3] <= 117 \n",
    "c3 = 4 * xs[0] + 3 * xs[1] + 3 * xs[2] + 4 * xs[3] <= 420\n",
    "model.constraints.extend((c1, c2, c3))\n",
    "\n",
    "print(c1, c2, c3, sep='\\n')"
   ]
  },
  {
   "cell_type": "code",
   "execution_count": 5,
   "id": "4d3594b9-f6ca-4d1c-9e12-9ed65d49e094",
   "metadata": {},
   "outputs": [
    {
     "data": {
      "text/plain": [
       "LinearCombination(combination=[FactorVar(factor=19, var=Variable(index=0, name='x_0')), FactorVar(factor=13, var=Variable(index=1, name='x_1')), FactorVar(factor=12, var=Variable(index=2, name='x_2')), FactorVar(factor=17, var=Variable(index=3, name='x_3'))])"
      ]
     },
     "execution_count": 5,
     "metadata": {},
     "output_type": "execute_result"
    }
   ],
   "source": [
    "objective_function = 19 * xs[0] + 13 * xs[1] + 12 * xs[2] + 17 * xs[3]\n",
    "model.objective_function = objective_function\n",
    "model.objective_function"
   ]
  },
  {
   "cell_type": "code",
   "execution_count": 6,
   "id": "cc82e9e8-cf46-48e1-8085-316a00061f4a",
   "metadata": {},
   "outputs": [
    {
     "data": {
      "text/plain": [
       "(FractionCSCMatrix(shape=(3, 4), indptr=array([ 0,  3,  6,  8, 11]), indices=array([0, 1, 2, 0, 1, 2, 0, 2, 0, 1, 2]), data=FractionArray(numerator=[3 1 4 2 1 3 1 3 2 2 4], denominator=[1 1 1 1 1 1 1 1 1 1 1])),\n",
       " FractionArray(numerator=[225 117 420], denominator=[1 1 1]),\n",
       " FractionArray(numerator=[19 13 12 17], denominator=[1 1 1 1]))"
      ]
     },
     "execution_count": 6,
     "metadata": {},
     "output_type": "execute_result"
    }
   ],
   "source": [
    "shape = (len(model.constraints), model.variable_no)\n",
    "\n",
    "cols = []\n",
    "rows = []\n",
    "data = []\n",
    "rhs = []\n",
    "for row, constraint in enumerate(model.constraints):\n",
    "    if constraint.type == InequalityType.GE:\n",
    "        constraint = -constraint\n",
    "\n",
    "    rhs.append(constraint.right_hand_side)\n",
    "    for fv in constraint.combination:\n",
    "        cols.append(fv.var.index)\n",
    "        rows.append(row)\n",
    "        data.append(fv.factor)\n",
    "\n",
    "c = fa.zeros(model.variable_no)\n",
    "for fv in objective_function.combination:\n",
    "    c[fv.var.index] = fv.factor\n",
    "\n",
    "tmp = fas.FractionCOOMatrix(\n",
    "    shape=shape,\n",
    "    col=np.array(cols, dtype=np.int64),\n",
    "    row=np.array(rows, dtype=np.int64),\n",
    "    data=fa.FractionArray.from_array(data),\n",
    ")\n",
    "table = fas.coo_to_csc(tmp)\n",
    "b = fa.FractionArray.from_array(rhs)\n",
    "table, b, c"
   ]
  },
  {
   "cell_type": "code",
   "execution_count": null,
   "id": "e78cb26f-699b-4d3e-ba4a-d2827d80c437",
   "metadata": {},
   "outputs": [],
   "source": []
  }
 ],
 "metadata": {
  "kernelspec": {
   "display_name": "Python 3 (ipykernel)",
   "language": "python",
   "name": "python3"
  },
  "language_info": {
   "codemirror_mode": {
    "name": "ipython",
    "version": 3
   },
   "file_extension": ".py",
   "mimetype": "text/x-python",
   "name": "python",
   "nbconvert_exporter": "python",
   "pygments_lexer": "ipython3",
   "version": "3.9.9"
  }
 },
 "nbformat": 4,
 "nbformat_minor": 5
}
