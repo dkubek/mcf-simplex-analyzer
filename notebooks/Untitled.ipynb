{
 "cells": [
  {
   "cell_type": "markdown",
   "metadata": {},
   "source": [
    "# MCF Instances"
   ]
  },
  {
   "cell_type": "code",
   "execution_count": 3,
   "metadata": {},
   "outputs": [
    {
     "name": "stdout",
     "output_type": "stream",
     "text": [
      "fast:  0.1157219409942627\n",
      "slow:  1.0213544368743896\n"
     ]
    }
   ],
   "source": [
    "import numpy as np\n",
    "import numba\n",
    "import time\n",
    "\n",
    "@numba.njit\n",
    "def fast_loop():\n",
    "    ans = 0\n",
    "    for _ in range(1_000_000):\n",
    "        for _ in range(100):\n",
    "            ans += 1\n",
    "    \n",
    "    return ans\n",
    "\n",
    "def slow_loop():\n",
    "    ans = 0\n",
    "    for _ in range(1_000_000):\n",
    "        for _ in range(10):\n",
    "            ans += 1\n",
    "    \n",
    "    return ans\n",
    "\n",
    "start = time.time()\n",
    "fast_loop()\n",
    "stop = time.time()\n",
    "print(\"fast: \", stop - start)\n",
    "\n",
    "start = time.time()\n",
    "slow_loop()\n",
    "stop = time.time()\n",
    "print(\"slow: \", stop - start)"
   ]
  },
  {
   "cell_type": "code",
   "execution_count": null,
   "metadata": {},
   "outputs": [],
   "source": []
  }
 ],
 "metadata": {
  "kernelspec": {
   "display_name": "Python 3",
   "language": "python",
   "name": "python3"
  },
  "language_info": {
   "codemirror_mode": {
    "name": "ipython",
    "version": 3
   },
   "file_extension": ".py",
   "mimetype": "text/x-python",
   "name": "python",
   "nbconvert_exporter": "python",
   "pygments_lexer": "ipython3",
   "version": "3.8.8"
  }
 },
 "nbformat": 4,
 "nbformat_minor": 4
}
