{
 "cells": [
  {
   "cell_type": "markdown",
   "id": "a9e009d3-52c8-46ee-8b3d-d2529cd35f7f",
   "metadata": {},
   "source": [
    "# The Simplex algotithm"
   ]
  },
  {
   "cell_type": "markdown",
   "id": "60adec82-8d6f-4fd6-aafa-a40acb9c8031",
   "metadata": {},
   "source": [
    "A simple implementation for the primal formulation of the simplex algorithm."
   ]
  },
  {
   "cell_type": "markdown",
   "id": "003c8891-b6bd-46ff-ab35-a7af75240e99",
   "metadata": {},
   "source": [
    "## Formulation of a simple problem"
   ]
  },
  {
   "cell_type": "code",
   "execution_count": 1,
   "id": "8eb4a17c-9832-433f-9c9d-7e2dde9188ef",
   "metadata": {},
   "outputs": [],
   "source": [
    "import numpy as np\n",
    "from fractions import Fraction"
   ]
  },
  {
   "cell_type": "code",
   "execution_count": 2,
   "id": "fd699014-b581-4f6a-bd3d-801de357b2a3",
   "metadata": {},
   "outputs": [
    {
     "data": {
      "text/plain": [
       "array([[ 1,  3,  1,  1,  0,  0,  0],\n",
       "       [-1,  0,  3,  0,  1,  0,  0],\n",
       "       [ 2, -1,  2,  0,  0,  1,  0],\n",
       "       [ 2,  3, -1,  0,  0,  0,  1]])"
      ]
     },
     "execution_count": 2,
     "metadata": {},
     "output_type": "execute_result"
    }
   ],
   "source": [
    "_A = np.array(\n",
    "    [\n",
    "        [1, 3, 1, 1, 0, 0, 0],\n",
    "        [-1, 0, 3, 0, 1, 0, 0],\n",
    "        [2, -1, 2, 0, 0, 1, 0],\n",
    "        [2, 3, -1, 0, 0, 0, 1]\n",
    "    ],\n",
    "    dtype=np.int64\n",
    ")\n",
    "\n",
    "_A"
   ]
  },
  {
   "cell_type": "code",
   "execution_count": 3,
   "id": "f8626a44-2f04-4c67-bbae-af79714fd903",
   "metadata": {},
   "outputs": [
    {
     "data": {
      "text/plain": [
       "array([0, 0, 0, 3, 2, 4, 2])"
      ]
     },
     "execution_count": 3,
     "metadata": {},
     "output_type": "execute_result"
    }
   ],
   "source": [
    "_p = np.array([ 0, 0, 0, 3, 2, 4, 2], dtype=np.int64)\n",
    "_p"
   ]
  },
  {
   "cell_type": "code",
   "execution_count": 4,
   "id": "c50c59ae-2f23-4175-aecb-3a0cb3048eaf",
   "metadata": {},
   "outputs": [
    {
     "data": {
      "text/plain": [
       "array([5, 5, 3, 0, 0, 0, 0])"
      ]
     },
     "execution_count": 4,
     "metadata": {},
     "output_type": "execute_result"
    }
   ],
   "source": [
    "_z = np.array([5, 5, 3, 0, 0, 0, 0], dtype=np.int64)\n",
    "_z"
   ]
  },
  {
   "cell_type": "code",
   "execution_count": 5,
   "id": "155238b3-246b-4cca-a073-4b2c1173b5a5",
   "metadata": {},
   "outputs": [
    {
     "data": {
      "text/plain": [
       "Fraction(0, 1)"
      ]
     },
     "execution_count": 5,
     "metadata": {},
     "output_type": "execute_result"
    }
   ],
   "source": [
    "r = Fraction(0)\n",
    "r"
   ]
  },
  {
   "cell_type": "code",
   "execution_count": 6,
   "id": "9cba33c8-01bb-41c8-9b51-e356ea07226d",
   "metadata": {},
   "outputs": [],
   "source": [
    "from mcf_simplex_analyzer.load_instance import FractionArray"
   ]
  },
  {
   "cell_type": "code",
   "execution_count": 7,
   "id": "dd23ee79-8c02-488f-af4a-b20767f59710",
   "metadata": {},
   "outputs": [
    {
     "data": {
      "text/plain": [
       "FractionArray(numerators=array([[ 1,  3,  1,  1,  0,  0,  0],\n",
       "       [-1,  0,  3,  0,  1,  0,  0],\n",
       "       [ 2, -1,  2,  0,  0,  1,  0],\n",
       "       [ 2,  3, -1,  0,  0,  0,  1]]), denominators=array([[1, 1, 1, 1, 1, 1, 1],\n",
       "       [1, 1, 1, 1, 1, 1, 1],\n",
       "       [1, 1, 1, 1, 1, 1, 1],\n",
       "       [1, 1, 1, 1, 1, 1, 1]]))"
      ]
     },
     "execution_count": 7,
     "metadata": {},
     "output_type": "execute_result"
    }
   ],
   "source": [
    "A = FractionArray(_A, np.ones_like(_A))\n",
    "A"
   ]
  },
  {
   "cell_type": "code",
   "execution_count": 8,
   "id": "f168637d-44c1-4200-8b16-0f108ac9e62a",
   "metadata": {},
   "outputs": [
    {
     "data": {
      "text/plain": [
       "FractionArray(numerators=array([0, 0, 0, 3, 2, 4, 2]), denominators=array([1, 1, 1, 1, 1, 1, 1]))"
      ]
     },
     "execution_count": 8,
     "metadata": {},
     "output_type": "execute_result"
    }
   ],
   "source": [
    "p = FractionArray(_p, np.ones_like(_p))\n",
    "p"
   ]
  },
  {
   "cell_type": "code",
   "execution_count": 9,
   "id": "9814b6fd-9321-48b1-99f6-587539533022",
   "metadata": {},
   "outputs": [
    {
     "data": {
      "text/plain": [
       "array([3, 4, 5, 6])"
      ]
     },
     "execution_count": 9,
     "metadata": {},
     "output_type": "execute_result"
    }
   ],
   "source": [
    "base = np.array([0, 0, 0, 1, 1, 1, 1], dtype=bool)\n",
    "base_ind = np.where(base)[0]\n",
    "base_ind"
   ]
  },
  {
   "cell_type": "code",
   "execution_count": 10,
   "id": "e5aaa0c7-7e6d-4916-a6c0-72fa48f375da",
   "metadata": {},
   "outputs": [
    {
     "data": {
      "text/plain": [
       "FractionArray(numerators=array([5, 5, 3, 0, 0, 0, 0]), denominators=array([1, 1, 1, 1, 1, 1, 1]))"
      ]
     },
     "execution_count": 10,
     "metadata": {},
     "output_type": "execute_result"
    }
   ],
   "source": [
    "z = FractionArray(_z, np.ones_like(_z))\n",
    "z"
   ]
  },
  {
   "cell_type": "markdown",
   "id": "96c046e2-766e-45d6-90b2-f1a3706e9cc9",
   "metadata": {},
   "source": [
    "## Entering variable (Dantzig)"
   ]
  },
  {
   "cell_type": "code",
   "execution_count": 52,
   "id": "2ab813ba-5808-445f-bb39-8bdc8739f5c0",
   "metadata": {},
   "outputs": [
    {
     "data": {
      "text/plain": [
       "0"
      ]
     },
     "execution_count": 52,
     "metadata": {},
     "output_type": "execute_result"
    }
   ],
   "source": [
    "lcm_z = np.lcm.reduce(z.denominators)\n",
    "entering = np.argmax((lcm_z // z.denominators) * z.numerators)\n",
    "entering"
   ]
  },
  {
   "cell_type": "markdown",
   "id": "fc6efef4-78c4-4fd1-a62c-b0bb33bb6f46",
   "metadata": {},
   "source": [
    "## Leaving variable (Dantzig)"
   ]
  },
  {
   "cell_type": "code",
   "execution_count": 12,
   "id": "61419d6c-6e28-4e95-968b-0d7fb1cca6bf",
   "metadata": {},
   "outputs": [
    {
     "data": {
      "text/plain": [
       "array([ 1, -1,  2,  2])"
      ]
     },
     "execution_count": 12,
     "metadata": {},
     "output_type": "execute_result"
    }
   ],
   "source": [
    "lcm_A = np.lcm.reduce(A.denominators[..., entering])\n",
    "np.amin(A.numerators[..., entering] * lcm_A)"
   ]
  },
  {
   "cell_type": "code",
   "execution_count": 66,
   "id": "6d8dfa7e-32b2-4a2a-9a66-910b267f6e86",
   "metadata": {},
   "outputs": [
    {
     "data": {
      "text/plain": [
       "(array([False,  True, False, False]), array([ 6, -4,  4,  2]))"
      ]
     },
     "execution_count": 66,
     "metadata": {},
     "output_type": "execute_result"
    }
   ],
   "source": [
    "bound_nominators = p.numerators[base] * A.denominators[..., entering]\n",
    "bound_denominators = p.denominators[base] *  A.numerators[..., entering]\n",
    "\n",
    "sign_nominators = bound_nominators < 0\n",
    "sign_denominators = bound_denominators < 0\n",
    "sign = np.logical_xor(sign_nominators, sign_denominators)\n",
    "\n",
    "lcm_bound = np.lcm.reduce(bound_denominators)\n",
    "bounds = bound_nominators * (lcm_bound // bound_denominators)\n",
    "\n",
    "sign, bounds"
   ]
  },
  {
   "cell_type": "code",
   "execution_count": 59,
   "id": "2fdf240a-5b41-48a4-a741-653027f4b3e3",
   "metadata": {},
   "outputs": [
    {
     "data": {
      "text/plain": [
       "array([0, 2, 3])"
      ]
     },
     "execution_count": 59,
     "metadata": {},
     "output_type": "execute_result"
    }
   ],
   "source": [
    "valid = np.where(~sign)[0]\n",
    "valid"
   ]
  },
  {
   "cell_type": "code",
   "execution_count": 60,
   "id": "4ed50b1e-8d8f-43bb-9e8c-8b790d4cc39f",
   "metadata": {},
   "outputs": [
    {
     "data": {
      "text/plain": [
       "3"
      ]
     },
     "execution_count": 60,
     "metadata": {},
     "output_type": "execute_result"
    }
   ],
   "source": [
    "leaving_base_ind = valid[bounds[valid].argmin()]\n",
    "leaving_base_ind"
   ]
  },
  {
   "cell_type": "code",
   "execution_count": 67,
   "id": "555b751b-23ef-4f99-b45d-66dfe9ec73d4",
   "metadata": {},
   "outputs": [
    {
     "data": {
      "text/plain": [
       "6"
      ]
     },
     "execution_count": 67,
     "metadata": {},
     "output_type": "execute_result"
    }
   ],
   "source": [
    "leaving = base_ind[leaving_base_ind]\n",
    "leaving"
   ]
  },
  {
   "cell_type": "code",
   "execution_count": 68,
   "id": "11cc165e-499d-4cd9-a0fc-ee7e10d0ddc2",
   "metadata": {},
   "outputs": [
    {
     "data": {
      "text/plain": [
       "Fraction(1, 1)"
      ]
     },
     "execution_count": 68,
     "metadata": {},
     "output_type": "execute_result"
    }
   ],
   "source": [
    "new_r = r + Fraction(bounds[leaving_base_ind], lcm_bound)\n",
    "new_r"
   ]
  }
 ],
 "metadata": {
  "kernelspec": {
   "display_name": "Python 3 (ipykernel)",
   "language": "python",
   "name": "python3"
  },
  "language_info": {
   "codemirror_mode": {
    "name": "ipython",
    "version": 3
   },
   "file_extension": ".py",
   "mimetype": "text/x-python",
   "name": "python",
   "nbconvert_exporter": "python",
   "pygments_lexer": "ipython3",
   "version": "3.9.6"
  }
 },
 "nbformat": 4,
 "nbformat_minor": 5
}
