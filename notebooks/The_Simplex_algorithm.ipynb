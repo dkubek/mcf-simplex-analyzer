{
 "cells": [
  {
   "cell_type": "markdown",
   "id": "a9e009d3-52c8-46ee-8b3d-d2529cd35f7f",
   "metadata": {},
   "source": [
    "# The Simplex algotithm"
   ]
  },
  {
   "cell_type": "markdown",
   "id": "60adec82-8d6f-4fd6-aafa-a40acb9c8031",
   "metadata": {},
   "source": [
    "A simple implementation for the primal formulation of the simplex algorithm."
   ]
  },
  {
   "cell_type": "markdown",
   "id": "003c8891-b6bd-46ff-ab35-a7af75240e99",
   "metadata": {},
   "source": [
    "## Formulation of a simple problem"
   ]
  },
  {
   "cell_type": "code",
   "execution_count": 1,
   "id": "8eb4a17c-9832-433f-9c9d-7e2dde9188ef",
   "metadata": {},
   "outputs": [],
   "source": [
    "import numpy as np\n",
    "from fractions import Fraction"
   ]
  },
  {
   "cell_type": "code",
   "execution_count": 2,
   "id": "fd699014-b581-4f6a-bd3d-801de357b2a3",
   "metadata": {},
   "outputs": [
    {
     "data": {
      "text/plain": [
       "array([[ 1,  3,  1,  1,  0,  0,  0],\n",
       "       [-1,  0,  3,  0,  1,  0,  0],\n",
       "       [ 2, -1,  2,  0,  0,  1,  0],\n",
       "       [ 2,  3, -1,  0,  0,  0,  1]])"
      ]
     },
     "execution_count": 2,
     "metadata": {},
     "output_type": "execute_result"
    }
   ],
   "source": [
    "_A = np.array(\n",
    "    [\n",
    "        [1, 3, 1, 1, 0, 0, 0],\n",
    "        [-1, 0, 3, 0, 1, 0, 0],\n",
    "        [2, -1, 2, 0, 0, 1, 0],\n",
    "        [2, 3, -1, 0, 0, 0, 1]\n",
    "    ],\n",
    "    dtype=np.int64\n",
    ")\n",
    "\n",
    "_A"
   ]
  },
  {
   "cell_type": "code",
   "execution_count": 3,
   "id": "f8626a44-2f04-4c67-bbae-af79714fd903",
   "metadata": {},
   "outputs": [
    {
     "data": {
      "text/plain": [
       "array([3, 2, 4, 2])"
      ]
     },
     "execution_count": 3,
     "metadata": {},
     "output_type": "execute_result"
    }
   ],
   "source": [
    "_p = np.array([3, 2, 4, 2], dtype=np.int64)\n",
    "_p"
   ]
  },
  {
   "cell_type": "code",
   "execution_count": 4,
   "id": "87bd17a8-38d5-4f05-b744-3663c82a03bd",
   "metadata": {},
   "outputs": [
    {
     "data": {
      "text/plain": [
       "array([[ 1,  3,  1,  1,  0,  0,  0,  3],\n",
       "       [-1,  0,  3,  0,  1,  0,  0,  2],\n",
       "       [ 2, -1,  2,  0,  0,  1,  0,  4],\n",
       "       [ 2,  3, -1,  0,  0,  0,  1,  2]])"
      ]
     },
     "execution_count": 4,
     "metadata": {},
     "output_type": "execute_result"
    }
   ],
   "source": [
    "_B = np.hstack([_A, _p[..., np.newaxis]])\n",
    "_B"
   ]
  },
  {
   "cell_type": "code",
   "execution_count": 5,
   "id": "c50c59ae-2f23-4175-aecb-3a0cb3048eaf",
   "metadata": {},
   "outputs": [
    {
     "data": {
      "text/plain": [
       "array([5, 5, 3, 0, 0, 0, 0, 0])"
      ]
     },
     "execution_count": 5,
     "metadata": {},
     "output_type": "execute_result"
    }
   ],
   "source": [
    "_z = np.array([5, 5, 3, 0, 0, 0, 0] + [0], dtype=np.int64)\n",
    "_z"
   ]
  },
  {
   "cell_type": "code",
   "execution_count": 6,
   "id": "9cba33c8-01bb-41c8-9b51-e356ea07226d",
   "metadata": {},
   "outputs": [],
   "source": [
    "from mcf_simplex_analyzer.load_instance import FractionArray"
   ]
  },
  {
   "cell_type": "code",
   "execution_count": 7,
   "id": "dd23ee79-8c02-488f-af4a-b20767f59710",
   "metadata": {},
   "outputs": [
    {
     "data": {
      "text/plain": [
       "FractionArray(numerator=array([[ 1,  3,  1,  1,  0,  0,  0],\n",
       "       [-1,  0,  3,  0,  1,  0,  0],\n",
       "       [ 2, -1,  2,  0,  0,  1,  0],\n",
       "       [ 2,  3, -1,  0,  0,  0,  1]]), denominator=array([[1, 1, 1, 1, 1, 1, 1],\n",
       "       [1, 1, 1, 1, 1, 1, 1],\n",
       "       [1, 1, 1, 1, 1, 1, 1],\n",
       "       [1, 1, 1, 1, 1, 1, 1]]))"
      ]
     },
     "execution_count": 7,
     "metadata": {},
     "output_type": "execute_result"
    }
   ],
   "source": [
    "A = FractionArray(_A, np.ones_like(_A))\n",
    "A"
   ]
  },
  {
   "cell_type": "code",
   "execution_count": 8,
   "id": "f168637d-44c1-4200-8b16-0f108ac9e62a",
   "metadata": {},
   "outputs": [
    {
     "data": {
      "text/plain": [
       "FractionArray(numerator=array([3, 2, 4, 2]), denominator=array([1, 1, 1, 1]))"
      ]
     },
     "execution_count": 8,
     "metadata": {},
     "output_type": "execute_result"
    }
   ],
   "source": [
    "p = FractionArray(_p, np.ones_like(_p))\n",
    "p"
   ]
  },
  {
   "cell_type": "code",
   "execution_count": 9,
   "id": "a587c673-864f-4600-9fec-a566861a0221",
   "metadata": {},
   "outputs": [
    {
     "data": {
      "text/plain": [
       "FractionArray(numerator=array([[ 1,  3,  1,  1,  0,  0,  0,  3],\n",
       "       [-1,  0,  3,  0,  1,  0,  0,  2],\n",
       "       [ 2, -1,  2,  0,  0,  1,  0,  4],\n",
       "       [ 2,  3, -1,  0,  0,  0,  1,  2]]), denominator=array([[1, 1, 1, 1, 1, 1, 1, 1],\n",
       "       [1, 1, 1, 1, 1, 1, 1, 1],\n",
       "       [1, 1, 1, 1, 1, 1, 1, 1],\n",
       "       [1, 1, 1, 1, 1, 1, 1, 1]]))"
      ]
     },
     "execution_count": 9,
     "metadata": {},
     "output_type": "execute_result"
    }
   ],
   "source": [
    "B = FractionArray(_B, np.ones_like(_B))\n",
    "B"
   ]
  },
  {
   "cell_type": "code",
   "execution_count": 10,
   "id": "9814b6fd-9321-48b1-99f6-587539533022",
   "metadata": {},
   "outputs": [
    {
     "data": {
      "text/plain": [
       "array([False, False, False,  True,  True,  True,  True, False])"
      ]
     },
     "execution_count": 10,
     "metadata": {},
     "output_type": "execute_result"
    }
   ],
   "source": [
    "base_ind = np.array([3, 4, 5, 6])\n",
    "base = np.zeros_like(_B[0], dtype=bool)\n",
    "base[base_ind] = True\n",
    "base"
   ]
  },
  {
   "cell_type": "code",
   "execution_count": 11,
   "id": "87e617fc-7be6-4a5d-9321-ec3bfbb021d4",
   "metadata": {},
   "outputs": [],
   "source": [
    "# TODO: How to determine this?\n",
    "row_to_var_index = np.array([3, 4, 5, 6])\n",
    "var_index_to_row = np.array([0, 0, 0, 0, 1, 2, 3])"
   ]
  },
  {
   "cell_type": "code",
   "execution_count": 12,
   "id": "e5aaa0c7-7e6d-4916-a6c0-72fa48f375da",
   "metadata": {},
   "outputs": [
    {
     "data": {
      "text/plain": [
       "FractionArray(numerator=array([5, 5, 3, 0, 0, 0, 0, 0]), denominator=array([1, 1, 1, 1, 1, 1, 1, 1]))"
      ]
     },
     "execution_count": 12,
     "metadata": {},
     "output_type": "execute_result"
    }
   ],
   "source": [
    "z = FractionArray(_z, np.ones_like(_z))\n",
    "z"
   ]
  },
  {
   "cell_type": "markdown",
   "id": "96c046e2-766e-45d6-90b2-f1a3706e9cc9",
   "metadata": {},
   "source": [
    "## Entering variable (Dantzig)"
   ]
  },
  {
   "cell_type": "code",
   "execution_count": 13,
   "id": "2ab813ba-5808-445f-bb39-8bdc8739f5c0",
   "metadata": {},
   "outputs": [
    {
     "ename": "AttributeError",
     "evalue": "'FractionArray' object has no attribute 'numerators'",
     "output_type": "error",
     "traceback": [
      "\u001b[0;31m---------------------------------------------------------------------------\u001b[0m",
      "\u001b[0;31mAttributeError\u001b[0m                            Traceback (most recent call last)",
      "\u001b[0;32m/tmp/ipykernel_4635/781699095.py\u001b[0m in \u001b[0;36m<module>\u001b[0;34m\u001b[0m\n\u001b[1;32m      8\u001b[0m     \u001b[0;32mreturn\u001b[0m \u001b[0mentering\u001b[0m\u001b[0;34m\u001b[0m\u001b[0;34m\u001b[0m\u001b[0m\n\u001b[1;32m      9\u001b[0m \u001b[0;34m\u001b[0m\u001b[0m\n\u001b[0;32m---> 10\u001b[0;31m \u001b[0mentering\u001b[0m \u001b[0;34m=\u001b[0m \u001b[0mdantzig_entering\u001b[0m\u001b[0;34m(\u001b[0m\u001b[0mz\u001b[0m\u001b[0;34m,\u001b[0m \u001b[0mbase\u001b[0m\u001b[0;34m)\u001b[0m\u001b[0;34m\u001b[0m\u001b[0;34m\u001b[0m\u001b[0m\n\u001b[0m\u001b[1;32m     11\u001b[0m \u001b[0mentering\u001b[0m\u001b[0;34m\u001b[0m\u001b[0;34m\u001b[0m\u001b[0m\n",
      "\u001b[0;32m/tmp/ipykernel_4635/781699095.py\u001b[0m in \u001b[0;36mdantzig_entering\u001b[0;34m(z, base)\u001b[0m\n\u001b[1;32m      1\u001b[0m \u001b[0;32mdef\u001b[0m \u001b[0mdantzig_entering\u001b[0m\u001b[0;34m(\u001b[0m\u001b[0mz\u001b[0m\u001b[0;34m,\u001b[0m \u001b[0mbase\u001b[0m\u001b[0;34m)\u001b[0m\u001b[0;34m:\u001b[0m\u001b[0;34m\u001b[0m\u001b[0;34m\u001b[0m\u001b[0m\n\u001b[1;32m      2\u001b[0m     \u001b[0mpositive\u001b[0m \u001b[0;34m=\u001b[0m \u001b[0mnp\u001b[0m\u001b[0;34m.\u001b[0m\u001b[0mwhere\u001b[0m\u001b[0;34m(\u001b[0m\u001b[0;34m~\u001b[0m\u001b[0mbase\u001b[0m\u001b[0;34m)\u001b[0m\u001b[0;34m[\u001b[0m\u001b[0;36m0\u001b[0m\u001b[0;34m]\u001b[0m\u001b[0;34m\u001b[0m\u001b[0;34m\u001b[0m\u001b[0m\n\u001b[0;32m----> 3\u001b[0;31m     \u001b[0mprint\u001b[0m\u001b[0;34m(\u001b[0m\u001b[0mz\u001b[0m\u001b[0;34m.\u001b[0m\u001b[0mnumerators\u001b[0m\u001b[0;34m[\u001b[0m\u001b[0mpositive\u001b[0m\u001b[0;34m]\u001b[0m\u001b[0;34m,\u001b[0m \u001b[0mz\u001b[0m\u001b[0;34m.\u001b[0m\u001b[0mdenominators\u001b[0m\u001b[0;34m[\u001b[0m\u001b[0mpositive\u001b[0m\u001b[0;34m]\u001b[0m\u001b[0;34m)\u001b[0m\u001b[0;34m\u001b[0m\u001b[0;34m\u001b[0m\u001b[0m\n\u001b[0m\u001b[1;32m      4\u001b[0m     \u001b[0mlcm_z\u001b[0m \u001b[0;34m=\u001b[0m \u001b[0mnp\u001b[0m\u001b[0;34m.\u001b[0m\u001b[0mlcm\u001b[0m\u001b[0;34m.\u001b[0m\u001b[0mreduce\u001b[0m\u001b[0;34m(\u001b[0m\u001b[0mz\u001b[0m\u001b[0;34m.\u001b[0m\u001b[0mdenominators\u001b[0m\u001b[0;34m[\u001b[0m\u001b[0mpositive\u001b[0m\u001b[0;34m]\u001b[0m\u001b[0;34m)\u001b[0m\u001b[0;34m\u001b[0m\u001b[0;34m\u001b[0m\u001b[0m\n\u001b[1;32m      5\u001b[0m     \u001b[0mprint\u001b[0m\u001b[0;34m(\u001b[0m\u001b[0;34m(\u001b[0m\u001b[0mlcm_z\u001b[0m \u001b[0;34m//\u001b[0m \u001b[0mz\u001b[0m\u001b[0;34m.\u001b[0m\u001b[0mdenominators\u001b[0m\u001b[0;34m[\u001b[0m\u001b[0;34m~\u001b[0m\u001b[0mbase\u001b[0m\u001b[0;34m]\u001b[0m\u001b[0;34m)\u001b[0m \u001b[0;34m*\u001b[0m \u001b[0mz\u001b[0m\u001b[0;34m.\u001b[0m\u001b[0mnumerators\u001b[0m\u001b[0;34m[\u001b[0m\u001b[0mpositive\u001b[0m\u001b[0;34m]\u001b[0m\u001b[0;34m)\u001b[0m\u001b[0;34m\u001b[0m\u001b[0;34m\u001b[0m\u001b[0m\n",
      "\u001b[0;31mAttributeError\u001b[0m: 'FractionArray' object has no attribute 'numerators'"
     ]
    }
   ],
   "source": [
    "def dantzig_entering(z, base):\n",
    "    positive = np.where(~base)[0]\n",
    "    print(z.numerators[positive], z.denominators[positive])\n",
    "    lcm_z = np.lcm.reduce(z.denominators[positive])\n",
    "    print((lcm_z // z.denominators[~base]) * z.numerators[positive])\n",
    "    entering = positive[np.argmax((lcm_z // z.denominators[positive]) * z.numerators[positive])]\n",
    "    \n",
    "    return entering\n",
    "\n",
    "entering = dantzig_entering(z, base)\n",
    "entering"
   ]
  },
  {
   "cell_type": "code",
   "execution_count": null,
   "id": "2bb6763f-76bc-4f30-981b-00e2df5d2f08",
   "metadata": {},
   "outputs": [],
   "source": [
    "# Possible speedup: Convert to floats\n",
    "rng = np.random.default_rng()\n",
    "x = rng.uniform(size=1000)\n",
    "m = x.max()\n",
    "eps = 0.001\n",
    "np.where((m - eps <= x) & (x <= m + eps))[0]"
   ]
  },
  {
   "cell_type": "markdown",
   "id": "fc6efef4-78c4-4fd1-a62c-b0bb33bb6f46",
   "metadata": {},
   "source": [
    "## Leaving variable (Dantzig)"
   ]
  },
  {
   "cell_type": "code",
   "execution_count": null,
   "id": "7f4f993a-4d87-4b10-a7f9-71ca2e16c158",
   "metadata": {},
   "outputs": [],
   "source": [
    "B.denominators[..., -1] * B.numerators[..., entering]\n",
    "B.denominators[..., -1]\n",
    "B.numerators[..., entering]"
   ]
  },
  {
   "cell_type": "code",
   "execution_count": null,
   "id": "b2fb5dc4-e6d3-4d5f-b526-26cb7afb1677",
   "metadata": {},
   "outputs": [],
   "source": [
    "def dantzig_leaving(B, entering):\n",
    "    lcm_B = np.lcm.reduce(B.denominators[..., entering])\n",
    "    np.amin(B.numerators[..., entering] * lcm_B)\n",
    "    \n",
    "    positive = np.where(B.numerators[..., entering] > 0)[0]\n",
    "    print(positive)\n",
    "    \n",
    "    bound_nominators = B.numerators[..., -1][positive] * B.denominators[..., entering][positive]\n",
    "    bound_denominators = B.denominators[..., -1][positive] * B.numerators[..., entering][positive]\n",
    "\n",
    "    print(bound_denominators, bound_nominators)\n",
    "    lcm_bound = np.lcm.reduce(bound_denominators)\n",
    "    bounds = bound_nominators * (lcm_bound // bound_denominators)\n",
    "    \n",
    "    valid = np.where(bounds >= 0)[0]\n",
    "    \n",
    "    leaving_row = positive[valid[bounds[valid].argmin()]]\n",
    "    \n",
    "    return leaving_row"
   ]
  },
  {
   "cell_type": "code",
   "execution_count": null,
   "id": "4ed50b1e-8d8f-43bb-9e8c-8b790d4cc39f",
   "metadata": {},
   "outputs": [],
   "source": [
    "leaving_row = dantzig_leaving(B, entering)\n",
    "leaving_row"
   ]
  },
  {
   "cell_type": "code",
   "execution_count": null,
   "id": "555b751b-23ef-4f99-b45d-66dfe9ec73d4",
   "metadata": {},
   "outputs": [],
   "source": [
    "leaving = row_to_var_index[leaving_row]\n",
    "leaving"
   ]
  },
  {
   "cell_type": "markdown",
   "id": "3d5b3831-ccc2-490e-803a-a7dcce001ab0",
   "metadata": {},
   "source": [
    "## Update"
   ]
  },
  {
   "cell_type": "code",
   "execution_count": null,
   "id": "96a77dd8-c829-47ba-8824-70028e569824",
   "metadata": {},
   "outputs": [],
   "source": [
    "def determine_update_row(B, leaving_row):\n",
    "    new_row_num = B.numerators[leaving_row] * B.denominators[leaving_row][entering]\n",
    "    new_row_denom = B.denominators[leaving_row] * B.numerators[leaving_row][entering]\n",
    "    \n",
    "    new_row_gcd = np.gcd(new_row_num, new_row_denom)\n",
    "    update_row = FractionArray(new_row_num // new_row_gcd, new_row_denom // new_row_gcd)\n",
    "    \n",
    "    return update_row"
   ]
  },
  {
   "cell_type": "code",
   "execution_count": null,
   "id": "8a1152e1-937d-47a0-93b5-9584ad2c9b70",
   "metadata": {},
   "outputs": [],
   "source": [
    "update_row = determine_update_row(B, leaving_row)"
   ]
  },
  {
   "cell_type": "code",
   "execution_count": null,
   "id": "e62759f1-3be3-45ee-9ff1-b83350770688",
   "metadata": {},
   "outputs": [],
   "source": [
    "B"
   ]
  },
  {
   "cell_type": "code",
   "execution_count": null,
   "id": "976b4560-86b7-437e-b312-3464c34c59ed",
   "metadata": {},
   "outputs": [],
   "source": [
    "def update_table(B, entering, leaving_row):\n",
    "    update_row = determine_update_row(B, leaving_row)\n",
    "    \n",
    "    B.numerators[leaving_row] = update_row.numerators\n",
    "    B.denominators[leaving_row] = update_row.denominators\n",
    "    \n",
    "    for row in range(B.numerators.shape[0]):\n",
    "        if row == leaving_row:\n",
    "            continue\n",
    "\n",
    "        coeff =  B[row, entering]\n",
    "        \n",
    "        update_num = - coeff.numerator * update_row.numerators\n",
    "        update_denom = coeff.denominator * update_row.denominators\n",
    "        \n",
    "        print(coeff)\n",
    "        print(update_row.numerators)\n",
    "        print(update_row.denominators)\n",
    "        \n",
    "        print(update_num, update_denom)\n",
    "\n",
    "        new_num = update_num * B.denominators[row] + B.numerators[row] * update_denom\n",
    "        new_denom = update_denom * B.denominators[row]\n",
    "\n",
    "        print(new_num, new_denom)\n",
    "        update_gcd = np.gcd(new_num, new_denom)\n",
    "\n",
    "        print(update_gcd)\n",
    "        print(new_num // update_gcd, new_denom // update_gcd)\n",
    "        print()\n",
    "\n",
    "        B.numerators[row] = new_num // update_gcd\n",
    "        B.denominators[row] = new_denom // update_gcd"
   ]
  },
  {
   "cell_type": "code",
   "execution_count": null,
   "id": "9d5c7bab-1191-424e-8722-78f67cedcfd2",
   "metadata": {},
   "outputs": [],
   "source": [
    "update_table(B, entering, leaving_row)\n",
    "B"
   ]
  },
  {
   "cell_type": "code",
   "execution_count": null,
   "id": "6f6b2f78-5c3c-4a70-b93d-4267c1e4ef2f",
   "metadata": {},
   "outputs": [],
   "source": [
    "def update_objective(z, entering, leaving_row):\n",
    "    coeff = z[entering]\n",
    "\n",
    "    update_num = coeff.numerator * update_row.numerators\n",
    "    update_num[:-1] *= -1\n",
    "    update_denom = coeff.denominator * update_row.denominators\n",
    "\n",
    "    new_num = update_num * z.denominators + z.numerators * update_denom\n",
    "    new_denom = update_denom * z.denominators\n",
    "\n",
    "    update_gcd = np.gcd(new_num, new_denom)\n",
    "\n",
    "    z.numerators = new_num // update_gcd\n",
    "    z.denominators  = new_denom // update_gcd"
   ]
  },
  {
   "cell_type": "code",
   "execution_count": null,
   "id": "1ea899e5-81f6-4994-96bb-14ff23ab53a7",
   "metadata": {},
   "outputs": [],
   "source": [
    "update_objective(z, entering, leaving_row)\n",
    "z"
   ]
  },
  {
   "cell_type": "code",
   "execution_count": null,
   "id": "ccfc894f-6621-4023-9559-487f382e99e7",
   "metadata": {},
   "outputs": [],
   "source": [
    "def update_base(base, entering, leaving_row):\n",
    "    row_to_var_index[leaving_row] = entering\n",
    "    var_index_to_row[entering] = var_index_to_row[leaving]\n",
    "\n",
    "    base[entering] = True\n",
    "    base[leaving] = False\n",
    "    \n",
    "    return base\n",
    "    \n",
    "update_base(base, entering, leaving_row)\n",
    "base"
   ]
  },
  {
   "cell_type": "markdown",
   "id": "eef8badb-94f3-426c-ac6e-0d61552042c6",
   "metadata": {},
   "source": [
    "# Second iteration"
   ]
  },
  {
   "cell_type": "code",
   "execution_count": null,
   "id": "e5bbccd1-83d6-438a-8c3d-6abe7d444b0e",
   "metadata": {},
   "outputs": [],
   "source": [
    "entering2 = dantzig_entering(z, base)\n",
    "entering2"
   ]
  },
  {
   "cell_type": "code",
   "execution_count": null,
   "id": "222ac776-a826-4d16-b5e9-089dbfc6d6ca",
   "metadata": {},
   "outputs": [],
   "source": [
    "leaving_row2 = dantzig_leaving(B, entering2)\n",
    "leaving_row2"
   ]
  },
  {
   "cell_type": "code",
   "execution_count": null,
   "id": "4d8fd42e-e570-4c46-ac01-4c9afbcc9189",
   "metadata": {},
   "outputs": [],
   "source": [
    "leaving2 = row_to_var_index[leaving_row2]\n",
    "leaving2"
   ]
  },
  {
   "cell_type": "code",
   "execution_count": null,
   "id": "70593e39-5acc-45dd-8cd5-ea4ed0a8dfa6",
   "metadata": {},
   "outputs": [],
   "source": [
    "update_table(B, entering2, leaving_row2)\n",
    "update_objective(z, entering2, leaving_row2)\n",
    "update_base(base, entering2, leaving_row2)\n",
    "B, z, base"
   ]
  },
  {
   "cell_type": "code",
   "execution_count": null,
   "id": "1e157dc8-316a-41c4-8f9f-68175b8d496e",
   "metadata": {},
   "outputs": [],
   "source": []
  }
 ],
 "metadata": {
  "kernelspec": {
   "display_name": "Python 3 (ipykernel)",
   "language": "python",
   "name": "python3"
  },
  "language_info": {
   "codemirror_mode": {
    "name": "ipython",
    "version": 3
   },
   "file_extension": ".py",
   "mimetype": "text/x-python",
   "name": "python",
   "nbconvert_exporter": "python",
   "pygments_lexer": "ipython3",
   "version": "3.9.6"
  }
 },
 "nbformat": 4,
 "nbformat_minor": 5
}
