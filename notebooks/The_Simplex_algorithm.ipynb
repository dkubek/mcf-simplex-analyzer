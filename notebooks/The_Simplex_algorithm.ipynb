{
 "cells": [
  {
   "cell_type": "markdown",
   "id": "a9e009d3-52c8-46ee-8b3d-d2529cd35f7f",
   "metadata": {},
   "source": [
    "# The Simplex algotithm"
   ]
  },
  {
   "cell_type": "markdown",
   "id": "60adec82-8d6f-4fd6-aafa-a40acb9c8031",
   "metadata": {},
   "source": [
    "A simple implementation for the primal formulation of the simplex algorithm."
   ]
  },
  {
   "cell_type": "markdown",
   "id": "003c8891-b6bd-46ff-ab35-a7af75240e99",
   "metadata": {},
   "source": [
    "## Formulation of a simple problem"
   ]
  },
  {
   "cell_type": "code",
   "execution_count": 1,
   "id": "8eb4a17c-9832-433f-9c9d-7e2dde9188ef",
   "metadata": {},
   "outputs": [],
   "source": [
    "import numpy as np\n",
    "import attr\n",
    "from fractions import Fraction"
   ]
  },
  {
   "cell_type": "code",
   "execution_count": 2,
   "id": "fd699014-b581-4f6a-bd3d-801de357b2a3",
   "metadata": {},
   "outputs": [
    {
     "data": {
      "text/plain": [
       "array([[ 1,  3,  1,  1,  0,  0,  0],\n",
       "       [-1,  0,  3,  0,  1,  0,  0],\n",
       "       [ 2, -1,  2,  0,  0,  1,  0],\n",
       "       [ 2,  3, -1,  0,  0,  0,  1]])"
      ]
     },
     "execution_count": 2,
     "metadata": {},
     "output_type": "execute_result"
    }
   ],
   "source": [
    "_A = np.array(\n",
    "    [\n",
    "        [1, 3, 1, 1, 0, 0, 0],\n",
    "        [-1, 0, 3, 0, 1, 0, 0],\n",
    "        [2, -1, 2, 0, 0, 1, 0],\n",
    "        [2, 3, -1, 0, 0, 0, 1]\n",
    "    ],\n",
    "    dtype=np.int64\n",
    ")\n",
    "\n",
    "_A"
   ]
  },
  {
   "cell_type": "code",
   "execution_count": 3,
   "id": "f8626a44-2f04-4c67-bbae-af79714fd903",
   "metadata": {},
   "outputs": [
    {
     "data": {
      "text/plain": [
       "array([3, 2, 4, 2])"
      ]
     },
     "execution_count": 3,
     "metadata": {},
     "output_type": "execute_result"
    }
   ],
   "source": [
    "_p = np.array([3, 2, 4, 2], dtype=np.int64)\n",
    "_p"
   ]
  },
  {
   "cell_type": "code",
   "execution_count": 4,
   "id": "87bd17a8-38d5-4f05-b744-3663c82a03bd",
   "metadata": {},
   "outputs": [
    {
     "data": {
      "text/plain": [
       "array([[ 1,  3,  1,  1,  0,  0,  0,  3],\n",
       "       [-1,  0,  3,  0,  1,  0,  0,  2],\n",
       "       [ 2, -1,  2,  0,  0,  1,  0,  4],\n",
       "       [ 2,  3, -1,  0,  0,  0,  1,  2]])"
      ]
     },
     "execution_count": 4,
     "metadata": {},
     "output_type": "execute_result"
    }
   ],
   "source": [
    "_B = np.hstack([_A, _p[..., np.newaxis]])\n",
    "_B"
   ]
  },
  {
   "cell_type": "code",
   "execution_count": 5,
   "id": "c50c59ae-2f23-4175-aecb-3a0cb3048eaf",
   "metadata": {},
   "outputs": [
    {
     "data": {
      "text/plain": [
       "array([5, 5, 3, 0, 0, 0, 0, 0])"
      ]
     },
     "execution_count": 5,
     "metadata": {},
     "output_type": "execute_result"
    }
   ],
   "source": [
    "_z = np.array([5, 5, 3, 0, 0, 0, 0] + [0], dtype=np.int64)\n",
    "_z"
   ]
  },
  {
   "cell_type": "code",
   "execution_count": 6,
   "id": "9cba33c8-01bb-41c8-9b51-e356ea07226d",
   "metadata": {},
   "outputs": [],
   "source": [
    "from mcf_simplex_analyzer.fractionarray import FractionArray"
   ]
  },
  {
   "cell_type": "code",
   "execution_count": 7,
   "id": "dd23ee79-8c02-488f-af4a-b20767f59710",
   "metadata": {},
   "outputs": [
    {
     "data": {
      "text/plain": [
       "FractionArray(numerator=[[ 1  3  1  1  0  0  0]\n",
       " [-1  0  3  0  1  0  0]\n",
       " [ 2 -1  2  0  0  1  0]\n",
       " [ 2  3 -1  0  0  0  1]], denominator=[[1 1 1 1 1 1 1]\n",
       " [1 1 1 1 1 1 1]\n",
       " [1 1 1 1 1 1 1]\n",
       " [1 1 1 1 1 1 1]])"
      ]
     },
     "execution_count": 7,
     "metadata": {},
     "output_type": "execute_result"
    }
   ],
   "source": [
    "A = FractionArray(_A, np.ones_like(_A))\n",
    "A"
   ]
  },
  {
   "cell_type": "code",
   "execution_count": 8,
   "id": "7028fe53-2ff6-4dbc-970c-6db17b66a6b9",
   "metadata": {},
   "outputs": [
    {
     "data": {
      "text/plain": [
       "FractionArray(numerator=[ 3  0 -1  3], denominator=[1 1 1 1])"
      ]
     },
     "execution_count": 8,
     "metadata": {},
     "output_type": "execute_result"
    }
   ],
   "source": [
    "A[..., 1]"
   ]
  },
  {
   "cell_type": "code",
   "execution_count": 9,
   "id": "f168637d-44c1-4200-8b16-0f108ac9e62a",
   "metadata": {},
   "outputs": [
    {
     "data": {
      "text/plain": [
       "FractionArray(numerator=[3 2 4 2], denominator=[1 1 1 1])"
      ]
     },
     "execution_count": 9,
     "metadata": {},
     "output_type": "execute_result"
    }
   ],
   "source": [
    "p = FractionArray(_p, np.ones_like(_p))\n",
    "p"
   ]
  },
  {
   "cell_type": "code",
   "execution_count": 10,
   "id": "a587c673-864f-4600-9fec-a566861a0221",
   "metadata": {},
   "outputs": [
    {
     "data": {
      "text/plain": [
       "FractionArray(numerator=[[ 1  3  1  1  0  0  0  3]\n",
       " [-1  0  3  0  1  0  0  2]\n",
       " [ 2 -1  2  0  0  1  0  4]\n",
       " [ 2  3 -1  0  0  0  1  2]], denominator=[[1 1 1 1 1 1 1 1]\n",
       " [1 1 1 1 1 1 1 1]\n",
       " [1 1 1 1 1 1 1 1]\n",
       " [1 1 1 1 1 1 1 1]])"
      ]
     },
     "execution_count": 10,
     "metadata": {},
     "output_type": "execute_result"
    }
   ],
   "source": [
    "B = FractionArray(_B, np.ones_like(_B))\n",
    "B"
   ]
  },
  {
   "cell_type": "code",
   "execution_count": 11,
   "id": "9814b6fd-9321-48b1-99f6-587539533022",
   "metadata": {},
   "outputs": [
    {
     "data": {
      "text/plain": [
       "array([False, False, False,  True,  True,  True,  True,  True])"
      ]
     },
     "execution_count": 11,
     "metadata": {},
     "output_type": "execute_result"
    }
   ],
   "source": [
    "base_ind = np.array([3, 4, 5, 6, -1])\n",
    "base = np.zeros_like(_B[0], dtype=bool)\n",
    "base[base_ind] = True\n",
    "base"
   ]
  },
  {
   "cell_type": "code",
   "execution_count": 12,
   "id": "87e617fc-7be6-4a5d-9321-ec3bfbb021d4",
   "metadata": {},
   "outputs": [],
   "source": [
    "# TODO: How to determine this?\n",
    "row_to_var_index = np.array([3, 4, 5, 6])\n",
    "var_index_to_row = np.array([0, 0, 0, 0, 1, 2, 3])"
   ]
  },
  {
   "cell_type": "code",
   "execution_count": 13,
   "id": "e5aaa0c7-7e6d-4916-a6c0-72fa48f375da",
   "metadata": {},
   "outputs": [
    {
     "data": {
      "text/plain": [
       "FractionArray(numerator=[5 5 3 0 0 0 0 0], denominator=[1 1 1 1 1 1 1 1])"
      ]
     },
     "execution_count": 13,
     "metadata": {},
     "output_type": "execute_result"
    }
   ],
   "source": [
    "z = FractionArray(_z, np.ones_like(_z))\n",
    "z"
   ]
  },
  {
   "cell_type": "markdown",
   "id": "96c046e2-766e-45d6-90b2-f1a3706e9cc9",
   "metadata": {},
   "source": [
    "## Entering variable (Dantzig)"
   ]
  },
  {
   "cell_type": "code",
   "execution_count": 14,
   "id": "2ab813ba-5808-445f-bb39-8bdc8739f5c0",
   "metadata": {},
   "outputs": [
    {
     "data": {
      "text/plain": [
       "0"
      ]
     },
     "execution_count": 14,
     "metadata": {},
     "output_type": "execute_result"
    }
   ],
   "source": [
    "def dantzig_entering(z, base):\n",
    "    positive = np.where(~base)[0]\n",
    "    entering = positive[z[positive].argmax()]\n",
    "    \n",
    "    return entering\n",
    "\n",
    "entering = dantzig_entering(z, base)\n",
    "entering"
   ]
  },
  {
   "cell_type": "code",
   "execution_count": 15,
   "id": "2bb6763f-76bc-4f30-981b-00e2df5d2f08",
   "metadata": {},
   "outputs": [
    {
     "data": {
      "text/plain": [
       "array([514])"
      ]
     },
     "execution_count": 15,
     "metadata": {},
     "output_type": "execute_result"
    }
   ],
   "source": [
    "# Possible speedup: Convert to floats\n",
    "rng = np.random.default_rng()\n",
    "x = rng.uniform(size=1000)\n",
    "m = x.max()\n",
    "eps = 0.001\n",
    "np.where((m - eps <= x) & (x <= m + eps))[0]"
   ]
  },
  {
   "cell_type": "markdown",
   "id": "fc6efef4-78c4-4fd1-a62c-b0bb33bb6f46",
   "metadata": {},
   "source": [
    "## Leaving variable (Dantzig)"
   ]
  },
  {
   "cell_type": "code",
   "execution_count": 16,
   "id": "b2fb5dc4-e6d3-4d5f-b526-26cb7afb1677",
   "metadata": {},
   "outputs": [],
   "source": [
    "def dantzig_leaving(T, entering):   \n",
    "    positive = np.where(T[..., entering].numerator >= 0)[0]\n",
    "    \n",
    "    bounds = T[..., -1][positive] / T[..., entering][positive]\n",
    "    print(\"Bounds:\", bounds)\n",
    "    valid = np.where(bounds.numerator > 0)[0]\n",
    "    leaving_row = positive[valid[bounds[valid].argmin()]]\n",
    "    \n",
    "    return leaving_row"
   ]
  },
  {
   "cell_type": "code",
   "execution_count": 17,
   "id": "4ed50b1e-8d8f-43bb-9e8c-8b790d4cc39f",
   "metadata": {},
   "outputs": [
    {
     "name": "stdout",
     "output_type": "stream",
     "text": [
      "Bounds: FractionArray(numerator=[3 2 1], denominator=[1 1 1])\n"
     ]
    },
    {
     "data": {
      "text/plain": [
       "3"
      ]
     },
     "execution_count": 17,
     "metadata": {},
     "output_type": "execute_result"
    }
   ],
   "source": [
    "leaving_row = dantzig_leaving(B, entering)\n",
    "leaving_row"
   ]
  },
  {
   "cell_type": "code",
   "execution_count": 18,
   "id": "555b751b-23ef-4f99-b45d-66dfe9ec73d4",
   "metadata": {},
   "outputs": [
    {
     "data": {
      "text/plain": [
       "6"
      ]
     },
     "execution_count": 18,
     "metadata": {},
     "output_type": "execute_result"
    }
   ],
   "source": [
    "leaving = row_to_var_index[leaving_row]\n",
    "leaving"
   ]
  },
  {
   "cell_type": "markdown",
   "id": "3d5b3831-ccc2-490e-803a-a7dcce001ab0",
   "metadata": {},
   "source": [
    "## Update"
   ]
  },
  {
   "cell_type": "code",
   "execution_count": 19,
   "id": "96a77dd8-c829-47ba-8824-70028e569824",
   "metadata": {},
   "outputs": [],
   "source": [
    "def determine_update_row(B, entering, leaving_row):\n",
    "    if B[leaving_row, entering] == 0:\n",
    "        return FractionArray.from_array(np.ones_like(B[leaving_row].numerator))\n",
    "    \n",
    "\n",
    "    return B[leaving_row] / B[leaving_row, entering]"
   ]
  },
  {
   "cell_type": "code",
   "execution_count": 20,
   "id": "8a1152e1-937d-47a0-93b5-9584ad2c9b70",
   "metadata": {},
   "outputs": [
    {
     "data": {
      "text/plain": [
       "FractionArray(numerator=[ 1  3 -1  0  0  0  1  1], denominator=[1 2 2 1 1 1 2 1])"
      ]
     },
     "execution_count": 20,
     "metadata": {},
     "output_type": "execute_result"
    }
   ],
   "source": [
    "update_row = determine_update_row(B, entering, leaving_row)\n",
    "update_row"
   ]
  },
  {
   "cell_type": "code",
   "execution_count": 21,
   "id": "e62759f1-3be3-45ee-9ff1-b83350770688",
   "metadata": {},
   "outputs": [
    {
     "data": {
      "text/plain": [
       "FractionArray(numerator=[[ 1  3  1  1  0  0  0  3]\n",
       " [-1  0  3  0  1  0  0  2]\n",
       " [ 2 -1  2  0  0  1  0  4]\n",
       " [ 2  3 -1  0  0  0  1  2]], denominator=[[1 1 1 1 1 1 1 1]\n",
       " [1 1 1 1 1 1 1 1]\n",
       " [1 1 1 1 1 1 1 1]\n",
       " [1 1 1 1 1 1 1 1]])"
      ]
     },
     "execution_count": 21,
     "metadata": {},
     "output_type": "execute_result"
    }
   ],
   "source": [
    "B"
   ]
  },
  {
   "cell_type": "code",
   "execution_count": 22,
   "id": "976b4560-86b7-437e-b312-3464c34c59ed",
   "metadata": {},
   "outputs": [],
   "source": [
    "def update_table(B, update_row, entering, leaving_row):\n",
    "    B[leaving_row] = update_row\n",
    "    \n",
    "    for row in range(B.numerator.shape[0]):\n",
    "        if row == leaving_row:\n",
    "            continue\n",
    "            \n",
    "        B[row] -= B[row, entering] * update_row"
   ]
  },
  {
   "cell_type": "code",
   "execution_count": 23,
   "id": "9d5c7bab-1191-424e-8722-78f67cedcfd2",
   "metadata": {},
   "outputs": [
    {
     "data": {
      "text/plain": [
       "FractionArray(numerator=[[ 0  3  3  1  0  0 -1  2]\n",
       " [ 0  3  5  0  1  0  1  3]\n",
       " [ 0 -4  3  0  0  1 -1  2]\n",
       " [ 1  3 -1  0  0  0  1  1]], denominator=[[1 2 2 1 1 1 2 1]\n",
       " [1 2 2 1 1 1 2 1]\n",
       " [1 1 1 1 1 1 1 1]\n",
       " [1 2 2 1 1 1 2 1]])"
      ]
     },
     "execution_count": 23,
     "metadata": {},
     "output_type": "execute_result"
    }
   ],
   "source": [
    "update_table(B, update_row, entering, leaving_row)\n",
    "B"
   ]
  },
  {
   "cell_type": "code",
   "execution_count": 24,
   "id": "6f6b2f78-5c3c-4a70-b93d-4267c1e4ef2f",
   "metadata": {},
   "outputs": [],
   "source": [
    "def update_objective(z, update_row, entering, leaving_row):\n",
    "    update = update_row * z[entering]\n",
    "    update[:-1] *= -1\n",
    "    \n",
    "    z += update"
   ]
  },
  {
   "cell_type": "code",
   "execution_count": 25,
   "id": "1ea899e5-81f6-4994-96bb-14ff23ab53a7",
   "metadata": {},
   "outputs": [
    {
     "data": {
      "text/plain": [
       "FractionArray(numerator=[ 0 -5 11  0  0  0 -5  5], denominator=[1 2 2 1 1 1 2 1])"
      ]
     },
     "execution_count": 25,
     "metadata": {},
     "output_type": "execute_result"
    }
   ],
   "source": [
    "update_objective(z, update_row, entering, leaving_row)\n",
    "z"
   ]
  },
  {
   "cell_type": "code",
   "execution_count": 26,
   "id": "ccfc894f-6621-4023-9559-487f382e99e7",
   "metadata": {},
   "outputs": [
    {
     "data": {
      "text/plain": [
       "array([ True, False, False,  True,  True,  True, False,  True])"
      ]
     },
     "execution_count": 26,
     "metadata": {},
     "output_type": "execute_result"
    }
   ],
   "source": [
    "def update_base(base, entering, leaving_row):\n",
    "    leaving = row_to_var_index[leaving_row]\n",
    "    row_to_var_index[leaving_row] = entering\n",
    "    \n",
    "    var_index_to_row[entering] = var_index_to_row[leaving]\n",
    "\n",
    "    base[entering] = True\n",
    "    base[leaving] = False\n",
    "    \n",
    "    return base\n",
    "    \n",
    "update_base(base, entering, leaving_row)\n",
    "base"
   ]
  },
  {
   "cell_type": "markdown",
   "id": "eef8badb-94f3-426c-ac6e-0d61552042c6",
   "metadata": {},
   "source": [
    "# Second iteration"
   ]
  },
  {
   "cell_type": "code",
   "execution_count": 27,
   "id": "e5bbccd1-83d6-438a-8c3d-6abe7d444b0e",
   "metadata": {},
   "outputs": [
    {
     "data": {
      "text/plain": [
       "2"
      ]
     },
     "execution_count": 27,
     "metadata": {},
     "output_type": "execute_result"
    }
   ],
   "source": [
    "entering2 = dantzig_entering(z, base)\n",
    "entering2"
   ]
  },
  {
   "cell_type": "code",
   "execution_count": 28,
   "id": "222ac776-a826-4d16-b5e9-089dbfc6d6ca",
   "metadata": {},
   "outputs": [
    {
     "name": "stdout",
     "output_type": "stream",
     "text": [
      "Bounds: FractionArray(numerator=[4 6 2], denominator=[3 5 3])\n"
     ]
    }
   ],
   "source": [
    "leaving_row2 = dantzig_leaving(B, entering2)"
   ]
  },
  {
   "cell_type": "code",
   "execution_count": 29,
   "id": "4d8fd42e-e570-4c46-ac01-4c9afbcc9189",
   "metadata": {},
   "outputs": [
    {
     "data": {
      "text/plain": [
       "5"
      ]
     },
     "execution_count": 29,
     "metadata": {},
     "output_type": "execute_result"
    }
   ],
   "source": [
    "leaving2 = row_to_var_index[leaving_row2]\n",
    "leaving2"
   ]
  },
  {
   "cell_type": "code",
   "execution_count": 30,
   "id": "52df26b4-919a-49e5-89b8-7c1e470741ef",
   "metadata": {},
   "outputs": [
    {
     "data": {
      "text/plain": [
       "FractionArray(numerator=[ 0 -4  1  0  0  1 -1  2], denominator=[1 3 1 1 1 3 3 3])"
      ]
     },
     "execution_count": 30,
     "metadata": {},
     "output_type": "execute_result"
    }
   ],
   "source": [
    "update_row = determine_update_row(B, entering2, leaving_row2)\n",
    "update_row"
   ]
  },
  {
   "cell_type": "code",
   "execution_count": 31,
   "id": "70593e39-5acc-45dd-8cd5-ea4ed0a8dfa6",
   "metadata": {},
   "outputs": [
    {
     "data": {
      "text/plain": [
       "FractionArray(numerator=[[ 0  7  0  1  0 -1  0  1]\n",
       " [ 0 29  0  0  1 -5  4  4]\n",
       " [ 0 -4  1  0  0  1 -1  2]\n",
       " [ 1  5  0  0  0  1  1  4]], denominator=[[1 2 1 1 1 2 1 1]\n",
       " [1 6 1 1 1 6 3 3]\n",
       " [1 3 1 1 1 3 3 3]\n",
       " [1 6 1 1 1 6 3 3]])"
      ]
     },
     "execution_count": 31,
     "metadata": {},
     "output_type": "execute_result"
    }
   ],
   "source": [
    "update_table(B, update_row, entering2, leaving_row2)\n",
    "B"
   ]
  },
  {
   "cell_type": "code",
   "execution_count": 32,
   "id": "4a57093c-8a74-4706-bf3e-d69bc65fd18c",
   "metadata": {},
   "outputs": [
    {
     "data": {
      "text/plain": [
       "fractions.Fraction"
      ]
     },
     "execution_count": 32,
     "metadata": {},
     "output_type": "execute_result"
    }
   ],
   "source": [
    "type(Fraction(3, 2))"
   ]
  },
  {
   "cell_type": "code",
   "execution_count": 33,
   "id": "bb9780ed-bdd9-4bb8-a95a-3c47100a30cb",
   "metadata": {},
   "outputs": [
    {
     "data": {
      "text/plain": [
       "FractionArray(numerator=[  0  29   0   0   0 -11  -2  26], denominator=[1 6 1 1 1 6 3 3])"
      ]
     },
     "execution_count": 33,
     "metadata": {},
     "output_type": "execute_result"
    }
   ],
   "source": [
    "update_objective(z, update_row, entering2, leaving_row2)\n",
    "z"
   ]
  },
  {
   "cell_type": "code",
   "execution_count": 34,
   "id": "1e157dc8-316a-41c4-8f9f-68175b8d496e",
   "metadata": {},
   "outputs": [
    {
     "data": {
      "text/plain": [
       "array([ True, False,  True,  True,  True, False, False,  True])"
      ]
     },
     "execution_count": 34,
     "metadata": {},
     "output_type": "execute_result"
    }
   ],
   "source": [
    "update_base(base, entering2, leaving_row2)\n",
    "base"
   ]
  },
  {
   "cell_type": "code",
   "execution_count": 35,
   "id": "4f946d3f-26cf-4071-85cc-3e3f4df87d0a",
   "metadata": {},
   "outputs": [
    {
     "name": "stdout",
     "output_type": "stream",
     "text": [
      "Objective function: 26/3\n",
      "x_3: 1\n",
      "x_4: 4/3\n",
      "x_2: 2/3\n",
      "x_0: 4/3\n"
     ]
    }
   ],
   "source": [
    "print(\"Objective function:\", z[-1])\n",
    "for var in row_to_var_index:\n",
    "    print(f\"x_{var}:\", B[var_index_to_row[var], -1])"
   ]
  },
  {
   "cell_type": "markdown",
   "id": "e75b1948-8e96-435f-89d6-bf200633487d",
   "metadata": {},
   "source": [
    "## Third iteration"
   ]
  },
  {
   "cell_type": "code",
   "execution_count": 36,
   "id": "fc90a68a-3d30-4844-9729-78440c7ab2f2",
   "metadata": {},
   "outputs": [
    {
     "name": "stdout",
     "output_type": "stream",
     "text": [
      "Bounds: FractionArray(numerator=[2 8 8], denominator=[ 7 29  5])\n"
     ]
    },
    {
     "data": {
      "text/plain": [
       "array([ True,  True,  True,  True, False, False, False,  True])"
      ]
     },
     "execution_count": 36,
     "metadata": {},
     "output_type": "execute_result"
    }
   ],
   "source": [
    "entering2 = dantzig_entering(z, base)\n",
    "\n",
    "leaving_row2 = dantzig_leaving(B, entering2)\n",
    "\n",
    "leaving2 = row_to_var_index[leaving_row2]\n",
    "\n",
    "update_row = determine_update_row(B, entering2, leaving_row2)\n",
    "\n",
    "update_table(B, update_row, entering2, leaving_row2)\n",
    "update_objective(z, update_row, entering2, leaving_row2)\n",
    "update_base(base, entering2, leaving_row2)"
   ]
  },
  {
   "cell_type": "code",
   "execution_count": 37,
   "id": "2e8b948d-aa72-40a6-a9de-deeb09d681c1",
   "metadata": {},
   "outputs": [
    {
     "name": "stdout",
     "output_type": "stream",
     "text": [
      "Objective function: 10\n",
      "x_3: 1/29\n",
      "x_1: 8/29\n",
      "x_2: 30/29\n",
      "x_0: 32/29\n"
     ]
    }
   ],
   "source": [
    "print(\"Objective function:\", z[-1])\n",
    "for var in row_to_var_index:\n",
    "    print(f\"x_{var}:\", B[var_index_to_row[var], -1])"
   ]
  },
  {
   "cell_type": "markdown",
   "id": "65865e5d-9074-4b68-9441-a430c50a33ec",
   "metadata": {},
   "source": [
    "## Simplex class"
   ]
  },
  {
   "cell_type": "code",
   "execution_count": 38,
   "id": "d1db33ad-5c13-4da3-96f3-785b8385087d",
   "metadata": {},
   "outputs": [
    {
     "data": {
      "text/plain": [
       "FractionArray(numerator=[[ 1  3  1]\n",
       " [-1  0  3]\n",
       " [ 2 -1  2]\n",
       " [ 2  3 -1]], denominator=[[1 1 1]\n",
       " [1 1 1]\n",
       " [1 1 1]\n",
       " [1 1 1]])"
      ]
     },
     "execution_count": 38,
     "metadata": {},
     "output_type": "execute_result"
    }
   ],
   "source": [
    "_C = np.array(\n",
    "    [\n",
    "        [1, 3, 1 ],\n",
    "        [-1, 0, 3 ],\n",
    "        [2, -1, 2 ],\n",
    "        [2, 3, -1 ]\n",
    "    ],\n",
    "    dtype=np.int64\n",
    ")\n",
    "\n",
    "C = FractionArray.from_array(_C)\n",
    "C"
   ]
  },
  {
   "cell_type": "code",
   "execution_count": 39,
   "id": "8178acb1-c457-4b56-ab59-f95db966e918",
   "metadata": {},
   "outputs": [
    {
     "data": {
      "text/plain": [
       "FractionArray(numerator=[3 2 4 2], denominator=[1 1 1 1])"
      ]
     },
     "execution_count": 39,
     "metadata": {},
     "output_type": "execute_result"
    }
   ],
   "source": [
    "_p = np.array([3, 2, 4, 2], dtype=np.int64)\n",
    "_p\n",
    "p = FractionArray.from_array(_p)\n",
    "p"
   ]
  },
  {
   "cell_type": "code",
   "execution_count": 40,
   "id": "8002ac19-8fe6-4e11-b732-9ef89936e42e",
   "metadata": {},
   "outputs": [
    {
     "data": {
      "text/plain": [
       "FractionArray(numerator=[5 5 3], denominator=[1 1 1])"
      ]
     },
     "execution_count": 40,
     "metadata": {},
     "output_type": "execute_result"
    }
   ],
   "source": [
    "_z = np.array([5, 5, 3], dtype=np.int64)\n",
    "z = FractionArray.from_array(_z)\n",
    "z"
   ]
  },
  {
   "cell_type": "code",
   "execution_count": 41,
   "id": "bd214b90-a1d7-4ac4-8629-2fcc47d2c182",
   "metadata": {},
   "outputs": [],
   "source": [
    "from mcf_simplex_analyzer.simplex import (Simplex, LPFormType, LPFormulation)"
   ]
  },
  {
   "cell_type": "code",
   "execution_count": 42,
   "id": "70271c38-6155-48c7-9a68-c6e4873f3491",
   "metadata": {},
   "outputs": [
    {
     "data": {
      "text/plain": [
       "LPFormulation(type=<LPFormType.Canonical: 0>, table=FractionArray(numerator=[[ 1  3  1]\n",
       " [-1  0  3]\n",
       " [ 2 -1  2]\n",
       " [ 2  3 -1]], denominator=[[1 1 1]\n",
       " [1 1 1]\n",
       " [1 1 1]\n",
       " [1 1 1]]), rhs=FractionArray(numerator=[3 2 4 2], denominator=[1 1 1 1]), objective=FractionArray(numerator=[5 5 3], denominator=[1 1 1]), meta={})"
      ]
     },
     "execution_count": 42,
     "metadata": {},
     "output_type": "execute_result"
    }
   ],
   "source": [
    "form = LPFormulation(LPFormType.Canonical, C, p, z)\n",
    "form"
   ]
  },
  {
   "cell_type": "code",
   "execution_count": 43,
   "id": "855cd1da-4339-4119-9f50-81d58a92acce",
   "metadata": {},
   "outputs": [
    {
     "data": {
      "text/plain": [
       "Simplex(table=FractionArray(numerator=[[ 1  3  1  1  0  0  0  3]\n",
       " [-1  0  3  0  1  0  0  2]\n",
       " [ 2 -1  2  0  0  1  0  4]\n",
       " [ 2  3 -1  0  0  0  1  2]], denominator=[[1 1 1 1 1 1 1 1]\n",
       " [1 1 1 1 1 1 1 1]\n",
       " [1 1 1 1 1 1 1 1]\n",
       " [1 1 1 1 1 1 1 1]]), _objective_row=FractionArray(numerator=[5 5 3 0 0 0 0 0], denominator=[1 1 1 1 1 1 1 1]), base=array([False, False, False,  True,  True,  True,  True]), _row_to_var_index=array([3, 4, 5, 6]), _var_index_to_row=array([0, 0, 0, 0, 1, 2, 3]))"
      ]
     },
     "execution_count": 43,
     "metadata": {},
     "output_type": "execute_result"
    }
   ],
   "source": [
    "s = Simplex.instantiate(form)\n",
    "s"
   ]
  },
  {
   "cell_type": "code",
   "execution_count": 44,
   "id": "535eb493-ef41-4bdb-8343-884e7baf43ff",
   "metadata": {},
   "outputs": [
    {
     "data": {
      "text/plain": [
       "FractionArray(numerator=[[ 1  3  1  1  0  0  0]\n",
       " [-1  0  3  0  1  0  0]\n",
       " [ 2 -1  2  0  0  1  0]\n",
       " [ 2  3 -1  0  0  0  1]], denominator=[[1 1 1 1 1 1 1]\n",
       " [1 1 1 1 1 1 1]\n",
       " [1 1 1 1 1 1 1]\n",
       " [1 1 1 1 1 1 1]])"
      ]
     },
     "execution_count": 44,
     "metadata": {},
     "output_type": "execute_result"
    }
   ],
   "source": [
    "s.table[..., :-1]"
   ]
  },
  {
   "cell_type": "code",
   "execution_count": 45,
   "id": "6ca65f26-21d6-4c93-a5e4-41e7ab66a5a2",
   "metadata": {},
   "outputs": [
    {
     "data": {
      "text/plain": [
       "{'result': 'success',\n",
       " 'value': Fraction(10, 1),\n",
       " 'variables': FractionArray(numerator=[32  8 30  1  0  0  0  0], denominator=[29 29 29 29  1  1  1  1])}"
      ]
     },
     "execution_count": 45,
     "metadata": {},
     "output_type": "execute_result"
    }
   ],
   "source": [
    "s.solve()"
   ]
  },
  {
   "cell_type": "code",
   "execution_count": 46,
   "id": "5ef293ef-9a8f-4dab-a9f3-29b61c8cd612",
   "metadata": {},
   "outputs": [
    {
     "data": {
      "text/plain": [
       "{'value': Fraction(10, 1),\n",
       " 'variables': FractionArray(numerator=[32  8 30  1  0  0  0  0], denominator=[29 29 29 29  1  1  1  1])}"
      ]
     },
     "execution_count": 46,
     "metadata": {},
     "output_type": "execute_result"
    }
   ],
   "source": [
    "s.state()"
   ]
  },
  {
   "cell_type": "code",
   "execution_count": 47,
   "id": "5514ccb4-258d-4c5f-b220-5cf3c29cd569",
   "metadata": {},
   "outputs": [
    {
     "data": {
      "text/plain": [
       "LPFormulation(type=<LPFormType.Canonical: 0>, table=FractionArray(numerator=[[2 3 1]\n",
       " [4 1 2]\n",
       " [3 4 2]], denominator=[[1 1 1]\n",
       " [1 1 1]\n",
       " [1 1 1]]), rhs=FractionArray(numerator=[ 5 11  8], denominator=[1 1 1]), objective=FractionArray(numerator=[5 4 3], denominator=[1 1 1]), meta={})"
      ]
     },
     "execution_count": 47,
     "metadata": {},
     "output_type": "execute_result"
    }
   ],
   "source": [
    "problem2 = LPFormulation(LPFormType.Canonical,\n",
    "              table=FractionArray.from_array([[2,3,1], [4,1,2], [3, 4, 2]]),\n",
    "              rhs=FractionArray.from_array([5, 11, 8]),\n",
    "              objective=FractionArray.from_array([5,4,3])\n",
    "             )\n",
    "problem2"
   ]
  },
  {
   "cell_type": "code",
   "execution_count": 48,
   "id": "edcd0e3b-c955-49c8-a96b-423c3a1d4852",
   "metadata": {},
   "outputs": [
    {
     "data": {
      "text/plain": [
       "{'result': 'success',\n",
       " 'value': Fraction(13, 1),\n",
       " 'variables': FractionArray(numerator=[2 0 1 0 1 0 0], denominator=[1 1 1 1 1 1 1])}"
      ]
     },
     "execution_count": 48,
     "metadata": {},
     "output_type": "execute_result"
    }
   ],
   "source": [
    "Simplex.instantiate(problem2).solve()"
   ]
  },
  {
   "cell_type": "markdown",
   "id": "23e95e71-e54b-41f0-a5ec-b3734fdc5c41",
   "metadata": {},
   "source": [
    "## Degeneracy"
   ]
  },
  {
   "cell_type": "code",
   "execution_count": 49,
   "id": "60d3fd4c-7110-4b5a-9aa1-63cce8bec728",
   "metadata": {},
   "outputs": [
    {
     "data": {
      "text/plain": [
       "LPFormulation(type=<LPFormType.Canonical: 0>, table=FractionArray(numerator=[[ 0  0  2]\n",
       " [ 2 -4  6]\n",
       " [-1  3  4]], denominator=[[1 1 1]\n",
       " [1 1 1]\n",
       " [1 1 1]]), rhs=FractionArray(numerator=[1 3 2], denominator=[1 1 1]), objective=FractionArray(numerator=[ 2 -1  8], denominator=[1 1 1]), meta={})"
      ]
     },
     "execution_count": 49,
     "metadata": {},
     "output_type": "execute_result"
    }
   ],
   "source": [
    "problem3 = LPFormulation(LPFormType.Canonical,\n",
    "              table=FractionArray.from_array([[0, 0, 2], [2, -4, 6], [-1, 3, 4]]),\n",
    "              rhs=FractionArray.from_array([1, 3, 2]),\n",
    "              objective=FractionArray.from_array([2, -1, 8])\n",
    "             )\n",
    "problem3"
   ]
  },
  {
   "cell_type": "code",
   "execution_count": 50,
   "id": "466ec2b7-43f2-45ab-9300-64f23baf196d",
   "metadata": {},
   "outputs": [
    {
     "data": {
      "text/plain": [
       "{'result': 'success',\n",
       " 'value': Fraction(27, 2),\n",
       " 'variables': FractionArray(numerator=[17  7  0  1  0  0  0], denominator=[2 2 1 1 1 1 1])}"
      ]
     },
     "execution_count": 50,
     "metadata": {},
     "output_type": "execute_result"
    }
   ],
   "source": [
    "Simplex.instantiate(problem3).solve()"
   ]
  },
  {
   "cell_type": "markdown",
   "id": "ef442cdb-d5a6-4414-a2e1-af7dc5bfddcf",
   "metadata": {},
   "source": [
    "## Cycling"
   ]
  },
  {
   "cell_type": "code",
   "execution_count": 51,
   "id": "82bc6c42-f507-4548-a027-0c71dbfb991c",
   "metadata": {},
   "outputs": [
    {
     "data": {
      "text/plain": [
       "LPFormulation(type=<LPFormType.Canonical: 0>, table=FractionArray(numerator=[[  1 -11  -5   9]\n",
       " [  1  -3  -1   1]\n",
       " [  1   0   0   0]], denominator=[[2 2 2 1]\n",
       " [2 2 2 1]\n",
       " [1 1 1 1]]), rhs=FractionArray(numerator=[0 0 1], denominator=[1 1 1]), objective=FractionArray(numerator=[ 10 -57  -9 -24], denominator=[1 1 1 1]), meta={})"
      ]
     },
     "execution_count": 51,
     "metadata": {},
     "output_type": "execute_result"
    }
   ],
   "source": [
    "problem4 = LPFormulation(\n",
    "    LPFormType.Canonical,\n",
    "    table=FractionArray.from_array([\n",
    "        [Fraction(1, 2), Fraction(-55, 10), -Fraction(25, 10), 9],\n",
    "        [Fraction(1, 2), -Fraction(3,2), -Fraction(1, 2), 1],\n",
    "        [1, 0, 0, 0]]\n",
    "    ),\n",
    "    rhs=FractionArray.from_array([0, 0, 1]),\n",
    "    objective=FractionArray.from_array([10, -57, -9, -24])\n",
    ")\n",
    "problem4"
   ]
  },
  {
   "cell_type": "code",
   "execution_count": 52,
   "id": "6ea6c4ae-efdb-4b3c-b4cb-fd0ef6536a12",
   "metadata": {},
   "outputs": [
    {
     "data": {
      "text/plain": [
       "{'result': 'cycle'}"
      ]
     },
     "execution_count": 52,
     "metadata": {},
     "output_type": "execute_result"
    }
   ],
   "source": [
    "Simplex.instantiate(problem4).solve(degenerate_max_iter=100)"
   ]
  },
  {
   "cell_type": "code",
   "execution_count": null,
   "id": "d847e1cc-9469-4132-b351-1d4e9ecd73ab",
   "metadata": {},
   "outputs": [],
   "source": []
  }
 ],
 "metadata": {
  "kernelspec": {
   "display_name": "Python 3 (ipykernel)",
   "language": "python",
   "name": "python3"
  },
  "language_info": {
   "codemirror_mode": {
    "name": "ipython",
    "version": 3
   },
   "file_extension": ".py",
   "mimetype": "text/x-python",
   "name": "python",
   "nbconvert_exporter": "python",
   "pygments_lexer": "ipython3",
   "version": "3.9.6"
  }
 },
 "nbformat": 4,
 "nbformat_minor": 5
}
