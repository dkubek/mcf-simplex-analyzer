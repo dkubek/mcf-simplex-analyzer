{
 "cells": [
  {
   "cell_type": "markdown",
   "id": "2253023f-2f5f-4cde-8eaa-3204e24e2aff",
   "metadata": {},
   "source": [
    "# The ``attrs`` library"
   ]
  },
  {
   "cell_type": "markdown",
   "id": "5c2135b7-2f84-4d35-869d-281324b9fc02",
   "metadata": {},
   "source": [
    "## ``attrs`` by example\n",
    "\n",
    "https://www.attrs.org/en/stable/examples.html"
   ]
  },
  {
   "cell_type": "markdown",
   "id": "86b5b810-4a61-45f4-9dac-79faf53de8dd",
   "metadata": {},
   "source": [
    "### Basic usage"
   ]
  },
  {
   "cell_type": "markdown",
   "id": "7b74103e-637c-41ce-9991-d1d9c42a39c5",
   "metadata": {},
   "source": [
    "#### Without attributes"
   ]
  },
  {
   "cell_type": "code",
   "execution_count": 52,
   "id": "4480a7af-b70b-4a17-8fba-f6c6b7e383ac",
   "metadata": {},
   "outputs": [],
   "source": [
    "import attr"
   ]
  },
  {
   "cell_type": "code",
   "execution_count": 53,
   "id": "54b59cd9-1667-40f6-aff2-215fa1445743",
   "metadata": {},
   "outputs": [],
   "source": [
    "@attr.s\n",
    "class Empty(object):\n",
    "    pass"
   ]
  },
  {
   "cell_type": "code",
   "execution_count": 54,
   "id": "1b7b5d98-3a15-44ff-92a8-59209786b60c",
   "metadata": {},
   "outputs": [
    {
     "data": {
      "text/plain": [
       "Empty()"
      ]
     },
     "execution_count": 54,
     "metadata": {},
     "output_type": "execute_result"
    }
   ],
   "source": [
    "Empty()"
   ]
  },
  {
   "cell_type": "code",
   "execution_count": 55,
   "id": "3783519b-d974-4cc8-b6fa-7c04c4396859",
   "metadata": {},
   "outputs": [
    {
     "data": {
      "text/plain": [
       "True"
      ]
     },
     "execution_count": 55,
     "metadata": {},
     "output_type": "execute_result"
    }
   ],
   "source": [
    "Empty() == Empty()"
   ]
  },
  {
   "cell_type": "code",
   "execution_count": 56,
   "id": "110061b1-c0ea-47d6-8072-27248b8bf094",
   "metadata": {},
   "outputs": [
    {
     "data": {
      "text/plain": [
       "False"
      ]
     },
     "execution_count": 56,
     "metadata": {},
     "output_type": "execute_result"
    }
   ],
   "source": [
    "Empty() is Empty()"
   ]
  },
  {
   "cell_type": "markdown",
   "id": "e5dd9daf-7b10-40e0-aa76-3a04c2877a09",
   "metadata": {},
   "source": [
    "#### With simple attributes"
   ]
  },
  {
   "cell_type": "code",
   "execution_count": 57,
   "id": "54a6b10e-ba70-4b7f-940a-92b5a50d0e8b",
   "metadata": {},
   "outputs": [],
   "source": [
    "@attr.s\n",
    "class Coordinates(object):\n",
    "    x = attr.ib()\n",
    "    y = attr.ib()"
   ]
  },
  {
   "cell_type": "code",
   "execution_count": 58,
   "id": "3c248f98-7a06-49e4-b5cf-2948873e376d",
   "metadata": {},
   "outputs": [
    {
     "data": {
      "text/plain": [
       "Coordinates(x=1, y=2)"
      ]
     },
     "execution_count": 58,
     "metadata": {},
     "output_type": "execute_result"
    }
   ],
   "source": [
    "c1 = Coordinates(1, 2)\n",
    "c1"
   ]
  },
  {
   "cell_type": "code",
   "execution_count": 59,
   "id": "4b966822-5eee-4299-9749-12d28de3fed7",
   "metadata": {},
   "outputs": [
    {
     "data": {
      "text/plain": [
       "Coordinates(x=2, y=1)"
      ]
     },
     "execution_count": 59,
     "metadata": {},
     "output_type": "execute_result"
    }
   ],
   "source": [
    "c2 = Coordinates(x=2, y=1)\n",
    "c2"
   ]
  },
  {
   "cell_type": "code",
   "execution_count": 60,
   "id": "45647382-5852-4278-8a66-17942b4fc1ca",
   "metadata": {},
   "outputs": [
    {
     "data": {
      "text/plain": [
       "False"
      ]
     },
     "execution_count": 60,
     "metadata": {},
     "output_type": "execute_result"
    }
   ],
   "source": [
    "c1 == c2"
   ]
  },
  {
   "cell_type": "code",
   "execution_count": 61,
   "id": "b81c62b7-3f99-4166-b916-c8cd415f794c",
   "metadata": {},
   "outputs": [
    {
     "data": {
      "text/plain": [
       "mappingproxy({'__module__': '__main__',\n",
       "              '__dict__': <attribute '__dict__' of 'Coordinates' objects>,\n",
       "              '__weakref__': <attribute '__weakref__' of 'Coordinates' objects>,\n",
       "              '__doc__': None,\n",
       "              '__attrs_attrs__': (Attribute(name='x', default=NOTHING, validator=None, repr=True, eq=True, eq_key=None, order=True, order_key=None, hash=None, init=True, metadata=mappingproxy({}), type=None, converter=None, kw_only=False, inherited=False, on_setattr=None),\n",
       "               Attribute(name='y', default=NOTHING, validator=None, repr=True, eq=True, eq_key=None, order=True, order_key=None, hash=None, init=True, metadata=mappingproxy({}), type=None, converter=None, kw_only=False, inherited=False, on_setattr=None)),\n",
       "              '__repr__': <function __main__.Coordinates.__repr__(self)>,\n",
       "              '__eq__': <function __main__.Coordinates.__eq__(self, other)>,\n",
       "              '__ne__': <function __main__.Coordinates.__ne__(self, other)>,\n",
       "              '__lt__': <function __main__.Coordinates.__lt__(self, other)>,\n",
       "              '__le__': <function __main__.Coordinates.__le__(self, other)>,\n",
       "              '__gt__': <function __main__.Coordinates.__gt__(self, other)>,\n",
       "              '__ge__': <function __main__.Coordinates.__ge__(self, other)>,\n",
       "              '__hash__': None,\n",
       "              '__init__': <function __main__.Coordinates.__init__(self, x, y) -> None>})"
      ]
     },
     "execution_count": 61,
     "metadata": {},
     "output_type": "execute_result"
    }
   ],
   "source": [
    "Coordinates.__dict__"
   ]
  },
  {
   "cell_type": "code",
   "execution_count": 62,
   "id": "283e97e5-cc49-412d-b1ac-5cc25945fc9a",
   "metadata": {},
   "outputs": [],
   "source": [
    "from attr import attrs, attrib\n",
    "# Also serious naming\n",
    "@attrs\n",
    "class SeriousCoordinates:\n",
    "    x = attrib()\n",
    "    y = attrib()"
   ]
  },
  {
   "cell_type": "code",
   "execution_count": 63,
   "id": "2b31be3f-c0ff-4738-aed6-0cc85a376e73",
   "metadata": {},
   "outputs": [
    {
     "data": {
      "text/plain": [
       "SeriousCoordinates(x=1, y=2)"
      ]
     },
     "execution_count": 63,
     "metadata": {},
     "output_type": "execute_result"
    }
   ],
   "source": [
    "SeriousCoordinates(1, 2)"
   ]
  },
  {
   "cell_type": "code",
   "execution_count": 64,
   "id": "a9a5c5c0-ba90-4eed-89a5-47b8c86765d5",
   "metadata": {},
   "outputs": [
    {
     "data": {
      "text/plain": [
       "True"
      ]
     },
     "execution_count": 64,
     "metadata": {},
     "output_type": "execute_result"
    }
   ],
   "source": [
    "attr.fields(Coordinates) == attr.fields(Coordinates)"
   ]
  },
  {
   "cell_type": "markdown",
   "id": "6a8010fc-6d65-45c3-a40d-04ce906fe123",
   "metadata": {},
   "source": [
    "#### Private attributes"
   ]
  },
  {
   "cell_type": "code",
   "execution_count": 65,
   "id": "b2b6e6c9-4f56-49df-950f-fe22644df27f",
   "metadata": {},
   "outputs": [],
   "source": [
    "@attr.s\n",
    "class C:\n",
    "    _x = attr.ib()"
   ]
  },
  {
   "cell_type": "code",
   "execution_count": 66,
   "id": "774dccc9-65d5-42fa-a89a-3dc1c72744d1",
   "metadata": {},
   "outputs": [
    {
     "data": {
      "text/plain": [
       "C(_x=1)"
      ]
     },
     "execution_count": 66,
     "metadata": {},
     "output_type": "execute_result"
    }
   ],
   "source": [
    "C(x=1)"
   ]
  },
  {
   "cell_type": "code",
   "execution_count": 67,
   "id": "22cbd308-698b-4891-96a6-ac46d4cfe248",
   "metadata": {},
   "outputs": [],
   "source": [
    "# Default argument\n",
    "@attr.s\n",
    "class C:\n",
    "    _x = attr.ib(init=False, default=42)"
   ]
  },
  {
   "cell_type": "code",
   "execution_count": 68,
   "id": "3c399dde-442a-421b-a179-f0b8e323fafa",
   "metadata": {},
   "outputs": [
    {
     "data": {
      "text/plain": [
       "C(_x=42)"
      ]
     },
     "execution_count": 68,
     "metadata": {},
     "output_type": "execute_result"
    }
   ],
   "source": [
    "# Throws error\n",
    "# C(23) \n",
    "\n",
    "C()"
   ]
  },
  {
   "cell_type": "code",
   "execution_count": 69,
   "id": "5d3a2f2e-39e8-43c4-a0e1-003c7d576bd3",
   "metadata": {},
   "outputs": [],
   "source": [
    "class SomethingFromSomeoneElse:\n",
    "    def __init__(self, x):\n",
    "        self.x = x\n",
    "        \n",
    "SomethingFromSomeoneElse = attr.s(\n",
    "    these = {\n",
    "        \"x\": attr.ib()\n",
    "    }, init=False)(SomethingFromSomeoneElse)"
   ]
  },
  {
   "cell_type": "code",
   "execution_count": 70,
   "id": "526f7bb5-8d44-4814-b9a0-1cb6dd701763",
   "metadata": {},
   "outputs": [
    {
     "data": {
      "text/plain": [
       "SomethingFromSomeoneElse(x=10)"
      ]
     },
     "execution_count": 70,
     "metadata": {},
     "output_type": "execute_result"
    }
   ],
   "source": [
    "SomethingFromSomeoneElse(10)"
   ]
  },
  {
   "cell_type": "markdown",
   "id": "d4e52c9a-305c-4d60-9920-f92176e43062",
   "metadata": {},
   "source": [
    "#### Nested classes"
   ]
  },
  {
   "cell_type": "code",
   "execution_count": 71,
   "id": "2e772bd1-eb1a-4499-aca2-7ee5ddfd3ed4",
   "metadata": {},
   "outputs": [],
   "source": [
    "@attr.s\n",
    "class C(object):\n",
    "    @attr.s(repr_ns=\"C\")\n",
    "    class D(object):\n",
    "        pass"
   ]
  },
  {
   "cell_type": "code",
   "execution_count": 72,
   "id": "75420e7d-a775-4a8f-9655-fb10595731ed",
   "metadata": {},
   "outputs": [
    {
     "data": {
      "text/plain": [
       "C.D()"
      ]
     },
     "execution_count": 72,
     "metadata": {},
     "output_type": "execute_result"
    }
   ],
   "source": [
    "C.D()"
   ]
  },
  {
   "cell_type": "markdown",
   "id": "ec7740a8-4fa4-4d93-810a-315bf4958761",
   "metadata": {},
   "source": [
    "#### Keyword only attributes"
   ]
  },
  {
   "cell_type": "code",
   "execution_count": 73,
   "id": "cf8ae402-d632-4ee8-ab15-47f014978c88",
   "metadata": {},
   "outputs": [],
   "source": [
    "@attr.s\n",
    "class A:\n",
    "    a = attr.ib(kw_only=True)"
   ]
  },
  {
   "cell_type": "code",
   "execution_count": 74,
   "id": "bbc8b507-1c6d-4bfb-8d83-4354e879825f",
   "metadata": {},
   "outputs": [
    {
     "data": {
      "text/plain": [
       "A(a=1)"
      ]
     },
     "execution_count": 74,
     "metadata": {},
     "output_type": "execute_result"
    }
   ],
   "source": [
    "# VVV Throws error\n",
    "# A()\n",
    "\n",
    "A(a = 1)"
   ]
  },
  {
   "cell_type": "code",
   "execution_count": 75,
   "id": "08f59b70-4132-4354-b995-d69feef4dbff",
   "metadata": {},
   "outputs": [],
   "source": [
    "@attr.s(kw_only=True)\n",
    "class A:\n",
    "    a = attr.ib()\n",
    "    b = attr.ib()"
   ]
  },
  {
   "cell_type": "code",
   "execution_count": 76,
   "id": "b2012581-e065-414e-9944-eb647facd7dc",
   "metadata": {},
   "outputs": [
    {
     "data": {
      "text/plain": [
       "A(a=1, b=2)"
      ]
     },
     "execution_count": 76,
     "metadata": {},
     "output_type": "execute_result"
    }
   ],
   "source": [
    "# VVV Throws error\n",
    "# A(1, 2)\n",
    "\n",
    "A(a=1, b=2)"
   ]
  },
  {
   "cell_type": "code",
   "execution_count": 77,
   "id": "2ba64faa-e38f-4ff5-bc07-815de4da885b",
   "metadata": {},
   "outputs": [
    {
     "data": {
      "text/plain": [
       "B(a=NOTHING, b=2)"
      ]
     },
     "execution_count": 77,
     "metadata": {},
     "output_type": "execute_result"
    }
   ],
   "source": [
    "@attr.s(kw_only=True)\n",
    "class B:\n",
    "    a = attr.ib(init=False)\n",
    "    b = attr.ib()\n",
    "\n",
    "# VVV Throws error\n",
    "# A(a=1, b=2)\n",
    "\n",
    "B(b=2)"
   ]
  },
  {
   "cell_type": "markdown",
   "id": "3392b790-da39-439c-81d2-e679023a3421",
   "metadata": {},
   "source": [
    "### Converting to collections types"
   ]
  },
  {
   "cell_type": "markdown",
   "id": "d257f64d-24e1-4da8-83bd-aeb7cb4325d3",
   "metadata": {},
   "source": [
    "#### Converting to dict"
   ]
  },
  {
   "cell_type": "code",
   "execution_count": 78,
   "id": "9da63ad4-86cf-4390-b59e-df95da09a872",
   "metadata": {},
   "outputs": [
    {
     "data": {
      "text/plain": [
       "{'x': 1, 'y': 2}"
      ]
     },
     "execution_count": 78,
     "metadata": {},
     "output_type": "execute_result"
    }
   ],
   "source": [
    "attr.asdict(Coordinates(x=1, y=2))"
   ]
  },
  {
   "cell_type": "code",
   "execution_count": 79,
   "id": "71be0500-2daa-4582-915a-46eb19243f49",
   "metadata": {},
   "outputs": [
    {
     "data": {
      "text/plain": [
       "{'users': [{'email': 'jane@doe.invalid'}, {'email': 'joe@doe.invalid'}]}"
      ]
     },
     "execution_count": 79,
     "metadata": {},
     "output_type": "execute_result"
    }
   ],
   "source": [
    "# Excluding fields\n",
    "\n",
    "@attr.s\n",
    "class UserList:\n",
    "    users = attr.ib()\n",
    "\n",
    "@attr.s\n",
    "class User:\n",
    "    email = attr.ib()\n",
    "    password = attr.ib()\n",
    "\n",
    "attr.asdict(UserList([User(\"jane@doe.invalid\", \"s33kred\"),\n",
    "                      User(\"joe@doe.invalid\", \"p4ssw0rd\")]),\n",
    "            filter=lambda attr, value: attr.name != \"password\")"
   ]
  },
  {
   "cell_type": "code",
   "execution_count": 80,
   "id": "298a8851-9593-4d5c-a372-0d75bc46257e",
   "metadata": {},
   "outputs": [
    {
     "data": {
      "text/plain": [
       "{'login': 'jane'}"
      ]
     },
     "execution_count": 80,
     "metadata": {},
     "output_type": "execute_result"
    }
   ],
   "source": [
    "@attr.s\n",
    "class User:\n",
    "    login = attr.ib()\n",
    "    password = attr.ib()\n",
    "    id = attr.ib()\n",
    "\n",
    "attr.asdict(User(\"jane\", \"s33kred\", 42),\n",
    "            filter=attr.filters.exclude(attr.fields(User).password, int)\n",
    "           )"
   ]
  },
  {
   "cell_type": "code",
   "execution_count": 81,
   "id": "422331da-b50b-4491-9c24-9047ce785c27",
   "metadata": {},
   "outputs": [
    {
     "data": {
      "text/plain": [
       "{'x': 'foo', 'z': 3}"
      ]
     },
     "execution_count": 81,
     "metadata": {},
     "output_type": "execute_result"
    }
   ],
   "source": [
    "@attr.s\n",
    "class C:\n",
    "    x = attr.ib()\n",
    "    y = attr.ib()\n",
    "    z = attr.ib()\n",
    "\n",
    "attr.asdict(C(\"foo\", \"2\", 3),\n",
    "           filter=attr.filters.include(int, attr.fields(C).x))"
   ]
  },
  {
   "cell_type": "markdown",
   "id": "d10c0249-f147-4f27-9946-6c5ca023e471",
   "metadata": {},
   "source": [
    "#### Converting to tuple"
   ]
  },
  {
   "cell_type": "code",
   "execution_count": 82,
   "id": "29416a68-b5db-469c-bd09-7bcadec70221",
   "metadata": {},
   "outputs": [
    {
     "ename": "OperationalError",
     "evalue": "table foo already exists",
     "output_type": "error",
     "traceback": [
      "\u001b[0;31m---------------------------------------------------------------------------\u001b[0m",
      "\u001b[0;31mOperationalError\u001b[0m                          Traceback (most recent call last)",
      "\u001b[0;32m/tmp/ipykernel_4960/3560515935.py\u001b[0m in \u001b[0;36m<module>\u001b[0;34m\u001b[0m\n\u001b[1;32m     11\u001b[0m \u001b[0;32mwith\u001b[0m \u001b[0msqlite3\u001b[0m\u001b[0;34m.\u001b[0m\u001b[0mconnect\u001b[0m\u001b[0;34m(\u001b[0m\u001b[0;34m\":memory\"\u001b[0m\u001b[0;34m)\u001b[0m \u001b[0;32mas\u001b[0m \u001b[0mconn\u001b[0m\u001b[0;34m:\u001b[0m\u001b[0;34m\u001b[0m\u001b[0;34m\u001b[0m\u001b[0m\n\u001b[1;32m     12\u001b[0m     \u001b[0mc\u001b[0m \u001b[0;34m=\u001b[0m \u001b[0mconn\u001b[0m\u001b[0;34m.\u001b[0m\u001b[0mcursor\u001b[0m\u001b[0;34m(\u001b[0m\u001b[0;34m)\u001b[0m\u001b[0;34m\u001b[0m\u001b[0;34m\u001b[0m\u001b[0m\n\u001b[0;32m---> 13\u001b[0;31m     \u001b[0mc\u001b[0m\u001b[0;34m.\u001b[0m\u001b[0mexecute\u001b[0m\u001b[0;34m(\u001b[0m\u001b[0;34m\"CREATE TABLE foo (x INTEGER PRIMARY KEY ASC, y)\"\u001b[0m\u001b[0;34m)\u001b[0m\u001b[0;34m\u001b[0m\u001b[0;34m\u001b[0m\u001b[0m\n\u001b[0m\u001b[1;32m     14\u001b[0m     \u001b[0mc\u001b[0m\u001b[0;34m.\u001b[0m\u001b[0mexecute\u001b[0m\u001b[0;34m(\u001b[0m\u001b[0;34m\"INSERT INTO foo VALUES (?, ?)\"\u001b[0m\u001b[0;34m,\u001b[0m \u001b[0mattr\u001b[0m\u001b[0;34m.\u001b[0m\u001b[0mastuple\u001b[0m\u001b[0;34m(\u001b[0m\u001b[0mfoo\u001b[0m\u001b[0;34m)\u001b[0m\u001b[0;34m)\u001b[0m\u001b[0;34m\u001b[0m\u001b[0;34m\u001b[0m\u001b[0m\n\u001b[1;32m     15\u001b[0m     \u001b[0mfoo2\u001b[0m \u001b[0;34m=\u001b[0m \u001b[0mFoo\u001b[0m\u001b[0;34m(\u001b[0m\u001b[0;34m*\u001b[0m\u001b[0mc\u001b[0m\u001b[0;34m.\u001b[0m\u001b[0mexecute\u001b[0m\u001b[0;34m(\u001b[0m\u001b[0;34m\"SELECT x, y FROM foo\"\u001b[0m\u001b[0;34m)\u001b[0m\u001b[0;34m.\u001b[0m\u001b[0mfetchone\u001b[0m\u001b[0;34m(\u001b[0m\u001b[0;34m)\u001b[0m\u001b[0;34m)\u001b[0m\u001b[0;34m\u001b[0m\u001b[0;34m\u001b[0m\u001b[0m\n",
      "\u001b[0;31mOperationalError\u001b[0m: table foo already exists"
     ]
    }
   ],
   "source": [
    "import sqlite3\n",
    "import attr\n",
    "\n",
    "@attr.s\n",
    "class Foo:\n",
    "    a = attr.ib()\n",
    "    b = attr.ib()\n",
    "    \n",
    "foo = Foo(2, 3)\n",
    "\n",
    "with sqlite3.connect(\":memory:\") as conn:\n",
    "    c = conn.cursor()\n",
    "    c.execute(\"CREATE TABLE foo (x INTEGER PRIMARY KEY ASC, y)\") \n",
    "    c.execute(\"INSERT INTO foo VALUES (?, ?)\", attr.astuple(foo)) \n",
    "    foo2 = Foo(*c.execute(\"SELECT x, y FROM foo\").fetchone())\n",
    "    \n",
    "print(foo)\n",
    "print(foo2)"
   ]
  },
  {
   "cell_type": "code",
   "execution_count": null,
   "id": "4bb9c592-fac9-4cd6-be55-b66c2b52de5c",
   "metadata": {},
   "outputs": [],
   "source": [
    "foo == foo2"
   ]
  },
  {
   "cell_type": "markdown",
   "id": "03c0cf7b-dea2-46ac-ad2d-9d559c181938",
   "metadata": {},
   "source": [
    "### Defaults"
   ]
  },
  {
   "cell_type": "code",
   "execution_count": 83,
   "id": "90e3bca3-326d-4fa5-b395-d397e0dae949",
   "metadata": {},
   "outputs": [],
   "source": [
    "import collections\n",
    "\n",
    "@attr.s\n",
    "class Connection:\n",
    "    socket = attr.ib()\n",
    "    @classmethod\n",
    "    def connect(cls, db_string):\n",
    "        # ... get connection\n",
    "        return cls(socket=42)\n",
    "\n",
    "@attr.s\n",
    "class ConnectionPool:\n",
    "    db_string = attr.ib()\n",
    "    pool = attr.ib(default=attr.Factory(collections.deque))\n",
    "    debug = attr.ib(default=False)\n",
    "    \n",
    "    def get_connection(self):\n",
    "        try:\n",
    "            return self.pool.pop()\n",
    "        except IndexError:\n",
    "            if self.debug:\n",
    "                print(\"New connection!\")\n",
    "            \n",
    "            return Connection.connect(self.db_string)\n",
    "    \n",
    "    def free_connection(self, conn):\n",
    "        if self.debug:\n",
    "            print(\"Connection returned\")\n",
    "            \n",
    "        self.pool.appendleft(conn)"
   ]
  },
  {
   "cell_type": "code",
   "execution_count": 84,
   "id": "c123f7ba-c6fb-494e-ab5b-fd5f0d2e59fb",
   "metadata": {},
   "outputs": [
    {
     "data": {
      "text/plain": [
       "ConnectionPool(db_string='postgres://localhost', pool=deque([]), debug=False)"
      ]
     },
     "execution_count": 84,
     "metadata": {},
     "output_type": "execute_result"
    }
   ],
   "source": [
    "cp = ConnectionPool(\"postgres://localhost\")\n",
    "cp"
   ]
  },
  {
   "cell_type": "code",
   "execution_count": 85,
   "id": "c9ebea7e-d31e-4c2a-afac-ede4aa79590a",
   "metadata": {},
   "outputs": [
    {
     "data": {
      "text/plain": [
       "Connection(socket=42)"
      ]
     },
     "execution_count": 85,
     "metadata": {},
     "output_type": "execute_result"
    }
   ],
   "source": [
    "conn = cp.get_connection()\n",
    "conn"
   ]
  },
  {
   "cell_type": "code",
   "execution_count": 86,
   "id": "4f59b124-67d5-444c-924e-ce7f8f89d501",
   "metadata": {},
   "outputs": [
    {
     "data": {
      "text/plain": [
       "ConnectionPool(db_string='postgres://localhost', pool=deque([Connection(socket=42)]), debug=False)"
      ]
     },
     "execution_count": 86,
     "metadata": {},
     "output_type": "execute_result"
    }
   ],
   "source": [
    "cp.free_connection(conn)\n",
    "cp"
   ]
  },
  {
   "cell_type": "markdown",
   "id": "d6c7d51e-8470-4838-8635-99bb8af1b8a2",
   "metadata": {},
   "source": [
    "#### Default decorator"
   ]
  },
  {
   "cell_type": "code",
   "execution_count": 87,
   "id": "e37c8f51-3b2a-462c-833c-e4d70d3559fa",
   "metadata": {},
   "outputs": [
    {
     "data": {
      "text/plain": [
       "C(x=1, y=2)"
      ]
     },
     "execution_count": 87,
     "metadata": {},
     "output_type": "execute_result"
    }
   ],
   "source": [
    "@attr.s\n",
    "class C:\n",
    "    x = attr.ib(default=1)\n",
    "    y = attr.ib()\n",
    "    \n",
    "    @y.default\n",
    "    def  _any_name_exept_a_name_of_an_attribute(self):\n",
    "        return self.x + 1\n",
    "    \n",
    "C()"
   ]
  },
  {
   "cell_type": "code",
   "execution_count": 88,
   "id": "a3e42dac-88c6-4a0a-b96d-587b4e69738b",
   "metadata": {},
   "outputs": [
    {
     "data": {
      "text/plain": [
       "C(x=[])"
      ]
     },
     "execution_count": 88,
     "metadata": {},
     "output_type": "execute_result"
    }
   ],
   "source": [
    "@attr.s\n",
    "class C:\n",
    "    # Sugar for attr.ib(default=attr.Factory(f))\n",
    "    x = attr.ib(factory=list)\n",
    "\n",
    "C()"
   ]
  },
  {
   "cell_type": "markdown",
   "id": "c2029494-5e4e-42f4-b99a-6775c07064ca",
   "metadata": {},
   "source": [
    "### Validators"
   ]
  },
  {
   "cell_type": "markdown",
   "id": "15f1ce71-5a4b-4d8d-a4cd-f4b85e43fd0e",
   "metadata": {},
   "source": [
    "> [...] the validators runs *after* the instance is initialized, you can refer to other attributes while validating:"
   ]
  },
  {
   "cell_type": "code",
   "execution_count": 90,
   "id": "75a1f33a-01db-4a70-a3b7-00474b2c0339",
   "metadata": {},
   "outputs": [
    {
     "data": {
      "text/plain": [
       "C(x=42)"
      ]
     },
     "execution_count": 90,
     "metadata": {},
     "output_type": "execute_result"
    }
   ],
   "source": [
    "# Using a decorator\n",
    "\n",
    "@attr.s\n",
    "class C:\n",
    "    x = attr.ib()\n",
    "    @x.validator\n",
    "    def check(self, attribute, value):\n",
    "        if value > 42:\n",
    "            raise ValueError(\"x must be smaller or equal to 42\")\n",
    "            \n",
    "C(42)\n",
    "# C(43) <-- raises an error"
   ]
  },
  {
   "cell_type": "code",
   "execution_count": 99,
   "id": "d778bb89-d5b7-4e52-90e5-f9efc9857975",
   "metadata": {},
   "outputs": [
    {
     "data": {
      "text/plain": [
       "C(x=3, y=4)"
      ]
     },
     "execution_count": 99,
     "metadata": {},
     "output_type": "execute_result"
    }
   ],
   "source": [
    "# Callable\n",
    "\n",
    "def x_smaller_than_y(instance, attribute, value):\n",
    "    if value >= instance.y:\n",
    "        raise ValueError(\"'x' has to be smaller than 'y'\")\n",
    "        \n",
    "        \n",
    "@attr.s\n",
    "class C:\n",
    "    x = attr.ib(validator=[attr.validators.instance_of(int), x_smaller_than_y])\n",
    "    y = attr.ib()\n",
    "  \n",
    "# C(x=4, y=3) <-- raises an error\n",
    "\n",
    "C(x=3, y=4)"
   ]
  },
  {
   "cell_type": "markdown",
   "id": "864f92ad-ac1a-41dd-8005-9832b919f5f9",
   "metadata": {},
   "source": [
    "### Converters"
   ]
  },
  {
   "cell_type": "code",
   "execution_count": 103,
   "id": "db22850a-903e-4644-9270-3658e5157db9",
   "metadata": {},
   "outputs": [
    {
     "data": {
      "text/plain": [
       "1"
      ]
     },
     "execution_count": 103,
     "metadata": {},
     "output_type": "execute_result"
    }
   ],
   "source": [
    "@attr.s\n",
    "class C:\n",
    "    x = attr.ib(converter=int)\n",
    "    \n",
    "o = C(\"1\")\n",
    "o.x"
   ]
  },
  {
   "cell_type": "markdown",
   "id": "c5076bd1-44f3-4155-b6c7-be42b9153543",
   "metadata": {},
   "source": [
    "https://www.attrs.org/en/stable/init.html#converters"
   ]
  },
  {
   "cell_type": "markdown",
   "id": "d6f9ecbd-e549-46cd-8a81-b677e8a5b8ab",
   "metadata": {},
   "source": [
    "### Types"
   ]
  },
  {
   "cell_type": "code",
   "execution_count": 113,
   "id": "cfd48261-c3f0-444d-8f31-f69045a39c8b",
   "metadata": {},
   "outputs": [],
   "source": [
    "@attr.s\n",
    "class C:\n",
    "    x = attr.ib(type=int)\n",
    "    y : int = attr.ib()"
   ]
  },
  {
   "cell_type": "code",
   "execution_count": 110,
   "id": "51dda8ee-9250-48a1-93a4-8e0ad313e6ea",
   "metadata": {},
   "outputs": [
    {
     "data": {
      "text/plain": [
       "int"
      ]
     },
     "execution_count": 110,
     "metadata": {},
     "output_type": "execute_result"
    }
   ],
   "source": [
    "attr.fields(C).x.type"
   ]
  },
  {
   "cell_type": "code",
   "execution_count": 112,
   "id": "6d28f294-b2df-424b-b384-36ec7bfcc75e",
   "metadata": {},
   "outputs": [
    {
     "name": "stdout",
     "output_type": "stream",
     "text": [
      "None\n"
     ]
    }
   ],
   "source": [
    "attr.fields(C).y.type"
   ]
  },
  {
   "cell_type": "code",
   "execution_count": 118,
   "id": "9276ee36-4140-4736-b003-a5b11ac469f7",
   "metadata": {},
   "outputs": [],
   "source": [
    "import typing\n",
    "\n",
    "@attr.s(auto_attribs=True)\n",
    "class AutoC:\n",
    "    cls_var: typing.ClassVar[int] = 5\n",
    "    l: typing.List[int] = attr.Factory(list)\n",
    "    x: int = 1\n",
    "    foo : str = attr.ib(\n",
    "        default=\"every attrib needs a type if auto_attrib=True\"\n",
    "    )\n",
    "    bar: typing.Any = None"
   ]
  },
  {
   "cell_type": "code",
   "execution_count": 119,
   "id": "364db4bd-9d35-4920-82f1-573dfa8aee41",
   "metadata": {},
   "outputs": [
    {
     "data": {
      "text/plain": [
       "typing.List[int]"
      ]
     },
     "execution_count": 119,
     "metadata": {},
     "output_type": "execute_result"
    }
   ],
   "source": [
    "attr.fields(AutoC).l.type"
   ]
  },
  {
   "cell_type": "code",
   "execution_count": 120,
   "id": "666be2f9-a167-4b79-aeff-d90669c0ae65",
   "metadata": {},
   "outputs": [
    {
     "data": {
      "text/plain": [
       "int"
      ]
     },
     "execution_count": 120,
     "metadata": {},
     "output_type": "execute_result"
    }
   ],
   "source": [
    "attr.fields(AutoC).x.type"
   ]
  },
  {
   "cell_type": "code",
   "execution_count": 121,
   "id": "1e164be4-5cb9-4dc9-8f3a-8a6c05abdd22",
   "metadata": {},
   "outputs": [
    {
     "data": {
      "text/plain": [
       "str"
      ]
     },
     "execution_count": 121,
     "metadata": {},
     "output_type": "execute_result"
    }
   ],
   "source": [
    "attr.fields(AutoC).foo.type"
   ]
  },
  {
   "cell_type": "code",
   "execution_count": 122,
   "id": "6063d8b7-3b02-462e-a56d-3b81c7a868c2",
   "metadata": {},
   "outputs": [
    {
     "data": {
      "text/plain": [
       "typing.Any"
      ]
     },
     "execution_count": 122,
     "metadata": {},
     "output_type": "execute_result"
    }
   ],
   "source": [
    "attr.fields(AutoC).bar.type"
   ]
  },
  {
   "cell_type": "code",
   "execution_count": 116,
   "id": "91b32a0f-3e80-4417-a16a-6584a06dc699",
   "metadata": {},
   "outputs": [
    {
     "data": {
      "text/plain": [
       "AutoC(l=[], x=1, foo='every attrib needs a type if auto_attrib=True', bar=None)"
      ]
     },
     "execution_count": 116,
     "metadata": {},
     "output_type": "execute_result"
    }
   ],
   "source": [
    "AutoC()"
   ]
  },
  {
   "cell_type": "code",
   "execution_count": 123,
   "id": "8dfa0892-cc27-4efd-bbe1-7dca07bf1bdf",
   "metadata": {},
   "outputs": [
    {
     "data": {
      "text/plain": [
       "5"
      ]
     },
     "execution_count": 123,
     "metadata": {},
     "output_type": "execute_result"
    }
   ],
   "source": [
    "AutoC.cls_var"
   ]
  },
  {
   "cell_type": "markdown",
   "id": "9c3ddab1-4149-4df7-8e37-3a5b5ddcd011",
   "metadata": {},
   "source": [
    "### Typing"
   ]
  },
  {
   "cell_type": "code",
   "execution_count": 126,
   "id": "ff89313d-f139-41de-b661-b1be91436a1c",
   "metadata": {},
   "outputs": [],
   "source": [
    "import attr\n",
    "import typing\n",
    "\n",
    "@attr.s(auto_attribs=True)\n",
    "class SomeClass:\n",
    "    a_number : int = 42\n",
    "    list_of_numbers: typing.List[int] = attr.Factory(list)"
   ]
  },
  {
   "cell_type": "code",
   "execution_count": 128,
   "id": "2da67b8b-494e-47ef-8b03-082d7098907f",
   "metadata": {},
   "outputs": [
    {
     "data": {
      "text/plain": [
       "SomeClass(a_number=1, list_of_numbers=[1, 2, 3])"
      ]
     },
     "execution_count": 128,
     "metadata": {},
     "output_type": "execute_result"
    }
   ],
   "source": [
    "sc = SomeClass(1, [1, 2, 3])\n",
    "sc"
   ]
  },
  {
   "cell_type": "code",
   "execution_count": 130,
   "id": "af5d343b-3531-4b31-a20c-a5348ee3654a",
   "metadata": {},
   "outputs": [
    {
     "data": {
      "text/plain": [
       "int"
      ]
     },
     "execution_count": 130,
     "metadata": {},
     "output_type": "execute_result"
    }
   ],
   "source": [
    "attr.fields(SomeClass).a_number.type"
   ]
  },
  {
   "cell_type": "code",
   "execution_count": 144,
   "id": "779bc11f-1857-4e2a-89cb-dad6d95461e3",
   "metadata": {},
   "outputs": [
    {
     "data": {
      "text/plain": [
       "Point(x=33.0)"
      ]
     },
     "execution_count": 144,
     "metadata": {},
     "output_type": "execute_result"
    }
   ],
   "source": [
    "@attr.s\n",
    "class Point:\n",
    "    x : float = attr.ib(\n",
    "        converter=float\n",
    "    )\n",
    "    \n",
    "Point(\"33\")"
   ]
  }
 ],
 "metadata": {
  "kernelspec": {
   "display_name": "Python 3 (ipykernel)",
   "language": "python",
   "name": "python3"
  },
  "language_info": {
   "codemirror_mode": {
    "name": "ipython",
    "version": 3
   },
   "file_extension": ".py",
   "mimetype": "text/x-python",
   "name": "python",
   "nbconvert_exporter": "python",
   "pygments_lexer": "ipython3",
   "version": "3.9.6"
  }
 },
 "nbformat": 4,
 "nbformat_minor": 5
}
