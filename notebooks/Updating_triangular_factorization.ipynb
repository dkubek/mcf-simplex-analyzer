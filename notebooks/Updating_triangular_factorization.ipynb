{
 "cells": [
  {
   "cell_type": "markdown",
   "id": "521927f2-9f27-4d9c-b5af-80ba3c18927b",
   "metadata": {},
   "source": [
    "# Updating triangular factorization"
   ]
  },
  {
   "cell_type": "markdown",
   "id": "ee27803d-103e-48be-b7d8-18f357952adf",
   "metadata": {},
   "source": [
    "## LU Factorization"
   ]
  },
  {
   "cell_type": "markdown",
   "id": "cae2a74a-7982-4756-957e-ebc98e8b84cd",
   "metadata": {},
   "source": [
    "https://johnfoster.pge.utexas.edu/numerical-methods-book/LinearAlgebra_LU.html"
   ]
  },
  {
   "cell_type": "code",
   "execution_count": 71,
   "id": "bd904c3c-b991-4a6c-af66-a650b0b89ec3",
   "metadata": {},
   "outputs": [],
   "source": [
    "import numpy as np\n",
    "import scipy.linalg\n",
    "import numba\n",
    "\n",
    "from mcf_simplex_analyzer.fractionarray import FractionArray"
   ]
  },
  {
   "cell_type": "code",
   "execution_count": 72,
   "id": "bccccade-f61b-49a1-9816-9d16710bbc17",
   "metadata": {},
   "outputs": [
    {
     "data": {
      "text/plain": [
       "array([[ 5,  4, -7],\n",
       "       [ 5, -8,  1],\n",
       "       [-1,  2, -3]])"
      ]
     },
     "execution_count": 72,
     "metadata": {},
     "output_type": "execute_result"
    }
   ],
   "source": [
    "A = np.array([[5, 4, -7], [5, -8, 1], [-1, 2, -3]])\n",
    "A"
   ]
  },
  {
   "cell_type": "code",
   "execution_count": 73,
   "id": "164f05f2-3ab8-4bef-86fc-94a54ee4ec8a",
   "metadata": {},
   "outputs": [
    {
     "data": {
      "text/plain": [
       "(array([[1., 0., 0.],\n",
       "        [0., 1., 0.],\n",
       "        [0., 0., 1.]]),\n",
       " array([[ 1.        ,  0.        ,  0.        ],\n",
       "        [ 1.        ,  1.        ,  0.        ],\n",
       "        [-0.2       , -0.23333333,  1.        ]]),\n",
       " array([[  5.        ,   4.        ,  -7.        ],\n",
       "        [  0.        , -12.        ,   8.        ],\n",
       "        [  0.        ,   0.        ,  -2.53333333]]))"
      ]
     },
     "execution_count": 73,
     "metadata": {},
     "output_type": "execute_result"
    }
   ],
   "source": [
    "P, L, U = scipy.linalg.lu(A)\n",
    "P, L, U"
   ]
  },
  {
   "cell_type": "code",
   "execution_count": 74,
   "id": "e211bbd3-a091-4a19-a08a-0726212e2058",
   "metadata": {},
   "outputs": [],
   "source": [
    "def plu(A):\n",
    "    m, n = A.shape\n",
    "\n",
    "    assert m == n\n",
    "\n",
    "    P = np.arange(n, dtype=int)\n",
    "    L = np.zeros((n, n))\n",
    "    U = A.copy().astype(\"float\")\n",
    "\n",
    "    for i in range(n):\n",
    "        # Determine pivot\n",
    "        for k in range(i, n):\n",
    "            if ~np.isclose(U[i, i], 0.0):\n",
    "                break\n",
    "            U[[k, k + 1]] = U[[k + 1, k]]\n",
    "            P[[k, k + 1]] = P[[k + 1, k]]\n",
    "        \n",
    "        #if np.isclose(U[i, i], 0):\n",
    "        #    k = i\n",
    "        #    while i <= k < n:\n",
    "        #        if not np.isclose(A[k, i], 0):\n",
    "        #            break\n",
    "\n",
    "        #        k += 1\n",
    "\n",
    "        #    if k == n:\n",
    "        #        raise ValueError(\"singular\")\n",
    "\n",
    "        #    P[i], P[k] = P[k], P[i]\n",
    "        #    U[i, ...], U[k, ...] = U[k, ...], U[i, ...]\n",
    "\n",
    "        L[i, i] = 1\n",
    "        for j in range(i + 1, n):\n",
    "            L[j, i] = U[j, i] / U[i, i]\n",
    "            U[j, :] -= L[j, i] * U[i, :]\n",
    "\n",
    "        print(U)\n",
    "\n",
    "    return P, L, U"
   ]
  },
  {
   "cell_type": "code",
   "execution_count": 75,
   "id": "ac0edb00-ff31-41a0-8138-1ec25aa32e28",
   "metadata": {},
   "outputs": [
    {
     "name": "stdout",
     "output_type": "stream",
     "text": [
      "[[  5.    4.   -7. ]\n",
      " [  0.  -12.    8. ]\n",
      " [  0.    2.8  -4.4]]\n",
      "[[  5.           4.          -7.        ]\n",
      " [  0.         -12.           8.        ]\n",
      " [  0.           0.          -2.53333333]]\n",
      "[[  5.           4.          -7.        ]\n",
      " [  0.         -12.           8.        ]\n",
      " [  0.           0.          -2.53333333]]\n"
     ]
    },
    {
     "data": {
      "text/plain": [
       "(array([0, 1, 2]),\n",
       " array([[ 1.        ,  0.        ,  0.        ],\n",
       "        [ 1.        ,  1.        ,  0.        ],\n",
       "        [-0.2       , -0.23333333,  1.        ]]),\n",
       " array([[  5.        ,   4.        ,  -7.        ],\n",
       "        [  0.        , -12.        ,   8.        ],\n",
       "        [  0.        ,   0.        ,  -2.53333333]]))"
      ]
     },
     "execution_count": 75,
     "metadata": {},
     "output_type": "execute_result"
    }
   ],
   "source": [
    "plu(A)"
   ]
  },
  {
   "cell_type": "code",
   "execution_count": 76,
   "id": "c6cd30cf-091f-4221-b308-e4005415dc52",
   "metadata": {},
   "outputs": [],
   "source": [
    "import attr\n",
    "\n",
    "from mcf_simplex_analyzer.fractionarray import FractionArray\n",
    "\n",
    "\n",
    "@attr.s\n",
    "class FractionSparseArray:\n",
    "    \"\"\" Sparse one-dimensional array of fractions. \"\"\"\n",
    "\n",
    "    size = attr.ib()\n",
    "    indices = attr.ib()\n",
    "    data: FractionArray = attr.ib()\n",
    "\n",
    "\n",
    "@attr.s\n",
    "class FractionCOOMatrix:\n",
    "    \"\"\" Sparse two-dimensional array of fractions. \"\"\"\n",
    "\n",
    "    shape = attr.ib()\n",
    "\n",
    "    row = attr.ib()\n",
    "    col = attr.ib()\n",
    "\n",
    "    data: FractionArray = attr.ib()\n",
    "\n",
    "    def nnz(self):\n",
    "        return len(self.data)\n",
    "\n",
    "\n",
    "@attr.s\n",
    "class FractionCSCMatrix:\n",
    "    \"\"\" Sparse two-dimensional array of fractions. \"\"\"\n",
    "\n",
    "    shape = attr.ib()\n",
    "\n",
    "    indptr = attr.ib()\n",
    "    indices = attr.ib()\n",
    "\n",
    "    data: FractionArray = attr.ib()\n",
    "\n",
    "    def nnz(self):\n",
    "        return len(self.data)"
   ]
  },
  {
   "cell_type": "code",
   "execution_count": 77,
   "id": "fcd71657-1df0-495d-8555-a43dc6ae6bbb",
   "metadata": {},
   "outputs": [],
   "source": [
    "def coo_to_csc(coo: FractionCOOMatrix, sorted=False):\n",
    "    m, n = coo.shape\n",
    "\n",
    "    row_sorted = coo.row\n",
    "    col_sorted = coo.col\n",
    "    data = None\n",
    "    if not sorted:\n",
    "        asort = np.lexsort((coo.row, coo.col))\n",
    "\n",
    "        row_sorted = coo.row[asort]\n",
    "        col_sorted = coo.col[asort]\n",
    "\n",
    "        data = coo.data[asort]\n",
    "    else:\n",
    "        data = coo.data.copy()\n",
    "\n",
    "    indptr = np.empty(n + 1, dtype=np.int64)\n",
    "    indices = np.empty(coo.nnz(), dtype=np.int64)\n",
    "\n",
    "    index = 0\n",
    "    for col in range(n):         \n",
    "        indptr[col] = index\n",
    "        while index < len(col_sorted) and col_sorted[index] == col:\n",
    "            indices[index] = row_sorted[index]\n",
    "            index += 1\n",
    "    indptr[n] = index\n",
    "\n",
    "    return FractionCSCMatrix(\n",
    "        shape=coo.shape,\n",
    "        indptr=indptr,\n",
    "        indices=indices,\n",
    "        data = data\n",
    "    )\n",
    "\n",
    "def csc_to_coo(csc: FractionCSCMatrix):\n",
    "    pass"
   ]
  },
  {
   "cell_type": "code",
   "execution_count": 78,
   "id": "6bb18c88-3606-4d73-829a-4ba93aab7d84",
   "metadata": {},
   "outputs": [
    {
     "data": {
      "text/plain": [
       "FractionCOOMatrix(shape=(10, 10), row=array([9, 1, 9, 4, 5, 3, 9, 6, 9, 3, 8, 9, 5, 2, 6, 8, 1, 8, 7, 8, 5, 9,\n",
       "       4, 9, 8, 8, 3, 1, 9, 3, 2, 2, 0, 4, 5, 6, 0, 9, 0, 1, 8, 4, 2, 4,\n",
       "       8, 6, 1, 7, 0, 2, 0, 4, 1, 6, 9, 2, 3, 5, 3, 5, 9, 7, 1, 6, 3, 1,\n",
       "       6, 6, 9, 5, 6, 8, 2, 9, 2, 2, 7, 2, 9, 0, 2, 2, 0, 3, 4, 7, 9, 5,\n",
       "       5, 2, 2, 9, 3, 9, 3, 8, 6, 3, 9, 8]), col=array([6, 4, 5, 0, 0, 6, 9, 7, 6, 4, 9, 6, 6, 5, 9, 3, 4, 8, 7, 8, 6, 3,\n",
       "       0, 8, 6, 1, 9, 0, 5, 7, 3, 8, 7, 5, 5, 7, 9, 2, 5, 0, 0, 1, 6, 4,\n",
       "       5, 3, 8, 9, 5, 3, 3, 4, 7, 6, 4, 5, 6, 6, 0, 4, 3, 9, 5, 9, 2, 7,\n",
       "       2, 4, 6, 5, 2, 0, 1, 9, 5, 3, 0, 2, 2, 5, 3, 7, 7, 8, 8, 8, 8, 8,\n",
       "       2, 6, 6, 7, 7, 0, 3, 2, 8, 5, 3, 2]), data=FractionArray(numerator=[ 0  0 -4  2  3 -1 -4 -4  0  3 -2 -1 -2  2  0  0  3  0  3 -3  2  2  2  0\n",
       "  3  0  0  0 -1  3 -2  0  0  0  0  1  0 -2 -3 -4  0  0 -3  3 -1 -4  0  3\n",
       "  0 -4  2  2  0  0  0  0  0  0 -3  0  0 -2 -3  0  0  1  0 -1 -4 -1 -4  0\n",
       " -2 -2 -1  0  1  1  0  0 -2  2 -1  2 -1  0  3  0  0 -4 -2  3 -1  3  0  0\n",
       " -3  3 -4  0], denominator=[1 1 1 1 1 1 1 1 1 1 1 1 1 1 1 1 1 1 1 1 1 1 1 1 1 1 1 1 1 1 1 1 1 1 1 1 1\n",
       " 1 1 1 1 1 1 1 1 1 1 1 1 1 1 1 1 1 1 1 1 1 1 1 1 1 1 1 1 1 1 1 1 1 1 1 1 1\n",
       " 1 1 1 1 1 1 1 1 1 1 1 1 1 1 1 1 1 1 1 1 1 1 1 1 1 1]))"
      ]
     },
     "execution_count": 78,
     "metadata": {},
     "output_type": "execute_result"
    }
   ],
   "source": [
    "vals = 100\n",
    "\n",
    "rng = np.random.default_rng()\n",
    "\n",
    "row = np.random.randint(0, 10, vals)\n",
    "col = np.random.randint(0, 10, vals)\n",
    "\n",
    "p = 0.5\n",
    "rank = 0\n",
    "while rank != 10:\n",
    "    num = (rng.uniform(0, 1, vals) < 0.7) * rng.integers(-4, 4, vals)\n",
    "    rank = np.linalg.matrix_rank(num.reshape(10, 10))\n",
    "\n",
    "B = FractionArray.from_array(num.reshape(10, 10))\n",
    "\n",
    "x = FractionCOOMatrix(\n",
    "    shape=(10, 10), row=row, col=col, data=FractionArray(numerator=num, denominator=np.ones_like(num))\n",
    ")\n",
    "x"
   ]
  },
  {
   "cell_type": "code",
   "execution_count": 79,
   "id": "6761fa12-72e0-4763-92f9-3dea50e94e01",
   "metadata": {},
   "outputs": [
    {
     "data": {
      "text/plain": [
       "FractionCSCMatrix(shape=(10, 10), indptr=array([  0,  10,  13,  22,  33,  41,  55,  69,  80,  91, 100]), indices=array([1, 1, 3, 4, 4, 5, 7, 8, 8, 9, 2, 4, 8, 2, 3, 5, 6, 6, 8, 8, 9, 9,\n",
       "       0, 2, 2, 2, 2, 3, 6, 8, 9, 9, 9, 1, 1, 3, 4, 4, 5, 6, 9, 0, 0, 0,\n",
       "       1, 2, 2, 2, 3, 4, 5, 5, 8, 9, 9, 2, 2, 2, 3, 3, 5, 5, 5, 6, 8, 9,\n",
       "       9, 9, 9, 0, 0, 1, 1, 2, 3, 3, 6, 6, 7, 9, 1, 2, 3, 4, 5, 6, 7, 8,\n",
       "       8, 9, 9, 0, 3, 6, 6, 7, 7, 8, 9, 9]), data=FractionArray(numerator=[ 0 -4 -3  2  2  3  1  0  0  3 -2  0  0  1  0  0  0 -4  0  0 -2  0  2 -2\n",
       " -4  0 -2  0 -4  0  2  0 -4  0  3  3  3  2  0 -1  0 -3  0  0 -3  2  0 -1\n",
       "  3  0  0 -1 -1 -4 -1 -3 -4 -2 -1  0 -2  2  0  0  3  0  0 -1 -4  0 -1  0\n",
       "  1  2  3 -1 -4  1  3  3  0  0  2 -1  0 -3  0  0 -3  0  3  0  0  0  0  3\n",
       " -2 -2 -4 -2], denominator=[1 1 1 1 1 1 1 1 1 1 1 1 1 1 1 1 1 1 1 1 1 1 1 1 1 1 1 1 1 1 1 1 1 1 1 1 1\n",
       " 1 1 1 1 1 1 1 1 1 1 1 1 1 1 1 1 1 1 1 1 1 1 1 1 1 1 1 1 1 1 1 1 1 1 1 1 1\n",
       " 1 1 1 1 1 1 1 1 1 1 1 1 1 1 1 1 1 1 1 1 1 1 1 1 1 1]))"
      ]
     },
     "execution_count": 79,
     "metadata": {},
     "output_type": "execute_result"
    }
   ],
   "source": [
    "x_csc = coo_to_csc(x)\n",
    "x_csc"
   ]
  },
  {
   "cell_type": "code",
   "execution_count": 80,
   "id": "d2899ef0-c3e9-48e9-973e-4ab822f679d4",
   "metadata": {},
   "outputs": [],
   "source": [
    "import mcf_simplex_analyzer.fractionarray as fa\n",
    "\n",
    "def csc_to_dense(csc: FractionCSCMatrix):\n",
    "    A = fa.zeros(csc.shape)\n",
    "    \n",
    "    for j in range(len(csc.indptr) - 1):\n",
    "        start, end = csc.indptr[j], csc.indptr[j + 1]\n",
    "        if end - start == 0:\n",
    "            continue\n",
    "        \n",
    "        for k in range(start, end):\n",
    "            i = csc.indices[k]\n",
    "            A[i, j] = csc.data[k]\n",
    "            \n",
    "    return A"
   ]
  },
  {
   "cell_type": "code",
   "execution_count": 81,
   "id": "507b1f34-c9b0-4497-b6bd-ea80d5dec739",
   "metadata": {},
   "outputs": [
    {
     "data": {
      "text/plain": [
       "FractionArray(numerator=[[ 0  0  0  2  0  0  0 -1  0  0]\n",
       " [-4  0  0  0  3 -3  0  1  0  0]\n",
       " [ 0 -2  1 -2  0 -1 -2  2  0  0]\n",
       " [-3  0  0  0  3  3  0 -1  2  0]\n",
       " [ 2  0  0  0  2  0  0  0 -1  0]\n",
       " [ 3  0  0  0  0 -1  0  0  0  0]\n",
       " [ 0  0 -4 -4 -1  0  0  1 -3  0]\n",
       " [ 1  0  0  0  0  0  0  3  0 -2]\n",
       " [ 0  0  0  0  0 -1  3  0 -3 -2]\n",
       " [ 3  0  0 -4  0 -1 -4  3  3 -2]], denominator=[[1 1 1 1 1 1 1 1 1 1]\n",
       " [1 1 1 1 1 1 1 1 1 1]\n",
       " [1 1 1 1 1 1 1 1 1 1]\n",
       " [1 1 1 1 1 1 1 1 1 1]\n",
       " [1 1 1 1 1 1 1 1 1 1]\n",
       " [1 1 1 1 1 1 1 1 1 1]\n",
       " [1 1 1 1 1 1 1 1 1 1]\n",
       " [1 1 1 1 1 1 1 1 1 1]\n",
       " [1 1 1 1 1 1 1 1 1 1]\n",
       " [1 1 1 1 1 1 1 1 1 1]])"
      ]
     },
     "execution_count": 81,
     "metadata": {},
     "output_type": "execute_result"
    }
   ],
   "source": [
    "C = csc_to_dense(x_csc)\n",
    "C"
   ]
  },
  {
   "cell_type": "code",
   "execution_count": 82,
   "id": "c3de0a66-6cdb-405a-bd87-8dfee7e9692d",
   "metadata": {},
   "outputs": [],
   "source": [
    "def plu_fa(A, fast=True):\n",
    "    m, n = A.shape\n",
    "\n",
    "    assert m == n\n",
    "\n",
    "    P = np.arange(n, dtype=int)\n",
    "    L = fa.zeros((n, n))\n",
    "    U = A.copy()\n",
    "\n",
    "    for i in range(n):\n",
    "        if not fast:\n",
    "            for k in range(i, n):\n",
    "                if U[i, i] != 0:\n",
    "                    break\n",
    "\n",
    "                U[[k, k + 1]] = U[[k + 1, k]]\n",
    "                P[[k, k + 1]] = P[[k + 1, k]]\n",
    "        else: \n",
    "            # Determine pivot\n",
    "            k = i\n",
    "            while i <= k < n:\n",
    "                if U[k, i] != 0:\n",
    "                    break\n",
    "                \n",
    "                k += 1\n",
    "\n",
    "            if U[k, i] == 0:\n",
    "                raise ValueError(\"Matrix is singular.\")\n",
    "\n",
    "            if k != i:\n",
    "                P[i], P[k] = P[k], P[i]\n",
    "                U[[i, k], i:] = U[[k, i], i:]\n",
    "                L[[i, k], :i] = L[[k, i], :i]\n",
    "            \n",
    "        L[i, i] = 1\n",
    "        nonzero = np.where(U[i :, i] != 0)[0] + i\n",
    "        for j in nonzero[1:]:\n",
    "            factor = U[j, i] / U[i, i]\n",
    "            if False:\n",
    "                print(\"pivot\", U[i, i])\n",
    "                print(factor)\n",
    "                print(U[i, :])\n",
    "                print(U[j, :])\n",
    "                print(factor * U[i, :])\n",
    "            L[j, i] = factor\n",
    "            U[j, i:] -= factor * U[i, i:]\n",
    "            \n",
    "            \n",
    "\n",
    "        #if np.any([ np.all(row == 0) for row in U ]):\n",
    "        #    print(i)\n",
    "        #    print(U)\n",
    "\n",
    "    return P, L, U"
   ]
  },
  {
   "cell_type": "code",
   "execution_count": 83,
   "id": "7c29931b-4e64-4988-bcbe-bdad040338b9",
   "metadata": {},
   "outputs": [
    {
     "data": {
      "text/plain": [
       "(array([0, 2, 1]),\n",
       " FractionArray(numerator=[[1 0 0]\n",
       "  [2 1 0]\n",
       "  [1 0 1]], denominator=[[1 1 1]\n",
       "  [1 1 1]\n",
       "  [1 1 1]]),\n",
       " FractionArray(numerator=[[ 1  2  1]\n",
       "  [ 0 -3 -1]\n",
       "  [ 0  0  1]], denominator=[[1 1 1]\n",
       "  [1 1 1]\n",
       "  [1 1 1]]))"
      ]
     },
     "execution_count": 83,
     "metadata": {},
     "output_type": "execute_result"
    }
   ],
   "source": [
    "TEST = FractionArray.from_array(np.array([[1, 2, 1], [1, 2, 2], [2, 1, 1]]))\n",
    "\n",
    "P, L, U = plu_fa(TEST)\n",
    "P, L, U"
   ]
  },
  {
   "cell_type": "code",
   "execution_count": 84,
   "id": "d45fa8e0-3d61-4c56-bcb4-8c157098d940",
   "metadata": {},
   "outputs": [],
   "source": [
    "def _lu_solve(lu: FractionArray, x: FractionArray):\n",
    "    n = lu.shape[0]\n",
    "    \n",
    "    ans = fa.zeros_like(x)\n",
    "    \n",
    "    # Ly = b\n",
    "    for i in range(n):\n",
    "        ans[i] = x[i] - fa.dot(lu[i, :i], ans[:i])\n",
    "\n",
    "    # Ux = y\n",
    "    for i in range(n - 1, -1, -1):\n",
    "        ans[i] -= fa.dot(lu[i, (i + 1) :], ans[(i + 1) :])\n",
    "        ans[i] /= lu[i, i]\n",
    "\n",
    "    return ans\n",
    "\n",
    "def _lu_solve_trans(lu: FractionArray, x: FractionArray):\n",
    "    n = lu.shape[0]\n",
    "    \n",
    "    ans = fa.zeros_like(x)\n",
    "    \n",
    "    # U^T y = b\n",
    "    for i in range(n):\n",
    "        ans[i] = x[i] - fa.dot(lu[i, :i], ans[:i])\n",
    "        ans[i] /= lu[i, i]\n",
    "\n",
    "    # L^t x = y\n",
    "    for i in range(n - 1, -1, -1):\n",
    "        ans[i] -= fa.dot(lu[i, (i + 1) :], ans[(i + 1) :])\n",
    "\n",
    "    return ans\n",
    "\n",
    "def _inverse_permutation(perm: np.ndarray):\n",
    "    perm_inverse = np.empty_like(perm)\n",
    "    \n",
    "    perm_inverse[perm] = perm\n",
    "    \n",
    "    return perm_inverse\n",
    "\n",
    "@attr.s\n",
    "class PLUSolver:\n",
    "    lu: FractionArray = attr.ib()\n",
    "    perm: np.ndarray = attr.ib()\n",
    "    _perm_trans: np.ndarray = attr.ib(default=None)\n",
    "\n",
    "    @lu.validator\n",
    "    def check_square(self, attribute, value):\n",
    "        m, n = self.lu.shape\n",
    "\n",
    "        if m != n:\n",
    "            raise ValueError(\"matrix must be square\")\n",
    "\n",
    "    def ftran(self, b: FractionArray):\n",
    "        if self._perm_trans is None:\n",
    "            self._perm_trans = _inverse_permutation(self.perm)\n",
    "            \n",
    "        return _lu_solve(self.lu, b)[self._perm_trans]\n",
    "    \n",
    "    def btran(self, b : FractionArray):\n",
    "        return _lu_solve_trans(self.lu.T, b)[self.perm]"
   ]
  },
  {
   "cell_type": "code",
   "execution_count": 85,
   "id": "88ef86d2-ee81-464e-93b4-f32e48e1b73f",
   "metadata": {},
   "outputs": [],
   "source": [
    "def plu_fa_inplace(A):\n",
    "    m, n = A.shape\n",
    "\n",
    "    assert m == n\n",
    "\n",
    "    P = np.arange(n, dtype=np.int64)\n",
    "\n",
    "    for i in range(n):\n",
    "        # Determine pivot           \n",
    "        k = i\n",
    "        while i <= k < n:\n",
    "            if A[k, i] != 0:\n",
    "                break\n",
    "\n",
    "            k += 1\n",
    "\n",
    "        if k == n:\n",
    "            raise ValueError(\"Matrix is singular.\")\n",
    "\n",
    "        if k != i:\n",
    "            P[[i, k]] = P[[k, i]]\n",
    "            \n",
    "            tmp = A[i].copy()\n",
    "            A[i] = A[k]\n",
    "            A[k] = tmp\n",
    "        \n",
    "        nonzero = np.where(A[i:, i] != 0)[0] + i\n",
    "        for j in nonzero[1:]:\n",
    "            factor = A[j, i] / A[i, i]\n",
    "            A[j, i:] -= factor * A[i, i:]\n",
    "            A[j, i] = factor\n",
    "        \n",
    "    return P, A"
   ]
  },
  {
   "cell_type": "code",
   "execution_count": 86,
   "id": "6b82c262-bfa0-400c-ab0e-c188262dc4b5",
   "metadata": {},
   "outputs": [
    {
     "data": {
      "text/plain": [
       "PLUSolver(lu=FractionArray(numerator=[[    -2     -1     -2      2      0      0      3      0      3     -3]\n",
       " [    -1      1      0      2      3      0      3      0      2      0]\n",
       " [     0      0     -4      2      3     -1     -4     -4      0      3]\n",
       " [     1      1     -1     -3     -3      1     -8     -4     -8      1]\n",
       " [     0      0      3     -1     -4     -3     -1      4     -4     -6]\n",
       " [    -1      1      1      1      1     10     17     -2     14      4]\n",
       " [     0     -2      3     -5     -5      7     97     49   -383    -67]\n",
       " [     2      2     -1      3      1     -3   1070   -365  11870   7945]\n",
       " [     1      3     -1     11     13     89     -1    -57   1897   1447]\n",
       " [     1      4     -1     13      2      7   -608  -1094  22671 -39059]], denominator=[[   1    1    1    1    1    1    1    1    1    1]\n",
       " [   1    1    1    1    1    1    1    1    1    1]\n",
       " [   1    1    1    1    1    1    1    1    1    1]\n",
       " [   1    1    2    1    2    2    1    1    1    2]\n",
       " [   1    1    4    2    1    1    1    1    1    1]\n",
       " [   1    1    2    3    1    3    3    3    3    3]\n",
       " [   1    1    4    6    8   80   80   40   40   10]\n",
       " [   1    1    2    1    4    8   97   97   97   97]\n",
       " [   1    1    4    6    8   80   97  365   73   73]\n",
       " [   1    1    4    6    1    5   97  365 1897 1897]]), perm=array([1, 2, 0, 3, 4, 5, 6, 7, 8, 9]), _perm_trans=None)"
      ]
     },
     "execution_count": 86,
     "metadata": {},
     "output_type": "execute_result"
    }
   ],
   "source": [
    "D = B.copy()\n",
    "P, LU = plu_fa_inplace(D)\n",
    "solver = PLUSolver(LU, P)\n",
    "solver"
   ]
  },
  {
   "cell_type": "code",
   "execution_count": 87,
   "id": "19cbd74d-01ca-42d2-9761-2100d3b5e3bf",
   "metadata": {},
   "outputs": [],
   "source": [
    "P = B.numerator.T\n",
    "r = np.ones(10, dtype=int) + 5"
   ]
  },
  {
   "cell_type": "code",
   "execution_count": 88,
   "id": "7a0d216b-f623-4522-9e46-926fe4e6115c",
   "metadata": {},
   "outputs": [
    {
     "data": {
      "text/plain": [
       "array([-0.92821117,  6.67766712,  0.78773138, -0.63711309, -1.84451727,\n",
       "        4.72684913, -1.66916716, -0.86223406, -3.71468804,  1.91318262])"
      ]
     },
     "execution_count": 88,
     "metadata": {},
     "output_type": "execute_result"
    }
   ],
   "source": [
    "lu, piv = scipy.linalg.lu_factor(P)\n",
    "scipy.linalg.lu_solve((lu, piv), r)"
   ]
  },
  {
   "cell_type": "code",
   "execution_count": 89,
   "id": "74ad6db0-b43c-4fd8-975a-6f8a02e42d2c",
   "metadata": {},
   "outputs": [
    {
     "data": {
      "text/plain": [
       "array([-0.92821117,  6.67766712,  0.78773138, -0.63711309, -1.84451727,\n",
       "        4.72684913, -1.66916716, -0.86223406, -3.71468804,  1.91318262])"
      ]
     },
     "execution_count": 89,
     "metadata": {},
     "output_type": "execute_result"
    }
   ],
   "source": [
    "np.linalg.inv(P) @ r"
   ]
  },
  {
   "cell_type": "code",
   "execution_count": 90,
   "id": "45e50538-25a0-4fa4-b0e0-b16d3fb8949d",
   "metadata": {},
   "outputs": [
    {
     "data": {
      "text/plain": [
       "array([-0.92821117,  6.67766712,  0.78773138, -0.63711309, -1.84451727,\n",
       "        4.72684913, -1.66916716, -0.86223406, -3.71468804,  1.91318262])"
      ]
     },
     "execution_count": 90,
     "metadata": {},
     "output_type": "execute_result"
    }
   ],
   "source": [
    "np.linalg.solve(P, r)"
   ]
  },
  {
   "cell_type": "code",
   "execution_count": 91,
   "id": "817c34f1-efa6-4e67-9168-6f4dd867eff7",
   "metadata": {},
   "outputs": [
    {
     "data": {
      "text/plain": [
       "FractionArray(numerator=[[    -2     -1     -2      2      0      0      3      0      3     -3]\n",
       " [    -1      1      0      2      3      0      3      0      2      0]\n",
       " [     0      0     -4      2      3     -1     -4     -4      0      3]\n",
       " [     1      1     -1     -3     -3      1     -8     -4     -8      1]\n",
       " [     0      0      3     -1     -4     -3     -1      4     -4     -6]\n",
       " [    -1      1      1      1      1     10     17     -2     14      4]\n",
       " [     0     -2      3     -5     -5      7     97     49   -383    -67]\n",
       " [     2      2     -1      3      1     -3   1070   -365  11870   7945]\n",
       " [     1      3     -1     11     13     89     -1    -57   1897   1447]\n",
       " [     1      4     -1     13      2      7   -608  -1094  22671 -39059]], denominator=[[   1    1    1    1    1    1    1    1    1    1]\n",
       " [   1    1    1    1    1    1    1    1    1    1]\n",
       " [   1    1    1    1    1    1    1    1    1    1]\n",
       " [   1    1    2    1    2    2    1    1    1    2]\n",
       " [   1    1    4    2    1    1    1    1    1    1]\n",
       " [   1    1    2    3    1    3    3    3    3    3]\n",
       " [   1    1    4    6    8   80   80   40   40   10]\n",
       " [   1    1    2    1    4    8   97   97   97   97]\n",
       " [   1    1    4    6    8   80   97  365   73   73]\n",
       " [   1    1    4    6    1    5   97  365 1897 1897]])"
      ]
     },
     "execution_count": 91,
     "metadata": {},
     "output_type": "execute_result"
    }
   ],
   "source": [
    "LU"
   ]
  },
  {
   "cell_type": "code",
   "execution_count": 92,
   "id": "7830dc63-441a-423f-a319-6a1fe0775243",
   "metadata": {},
   "outputs": [
    {
     "data": {
      "text/plain": [
       "array([ 1.43550526,  3.13352108, -4.17591336, -3.68759057,  5.64395402,\n",
       "        2.95239509, -0.92741238,  2.58637958,  1.04601756, -3.55735682])"
      ]
     },
     "execution_count": 92,
     "metadata": {},
     "output_type": "execute_result"
    }
   ],
   "source": [
    "ans = solver.ftran(FractionArray.from_array(r))\n",
    "np.array([ frac.numerator / frac.denominator for frac in ans])"
   ]
  },
  {
   "cell_type": "code",
   "execution_count": 93,
   "id": "0c7aecbc-dbaa-41ad-9e7c-062a8485ad29",
   "metadata": {},
   "outputs": [
    {
     "data": {
      "text/plain": [
       "array([ 0.78773138, -0.92821117,  6.67766712, -0.63711309, -1.84451727,\n",
       "        4.72684913, -1.66916716, -0.86223406, -3.71468804,  1.91318262])"
      ]
     },
     "execution_count": 93,
     "metadata": {},
     "output_type": "execute_result"
    }
   ],
   "source": [
    "ans = solver.btran(FractionArray.from_array(r))\n",
    "np.array([ frac.numerator / frac.denominator for frac in ans])"
   ]
  },
  {
   "cell_type": "code",
   "execution_count": null,
   "id": "a3865367-c3a9-4c2e-9f85-14691dc1fc0a",
   "metadata": {},
   "outputs": [],
   "source": []
  }
 ],
 "metadata": {
  "kernelspec": {
   "display_name": "Python 3 (ipykernel)",
   "language": "python",
   "name": "python3"
  },
  "language_info": {
   "codemirror_mode": {
    "name": "ipython",
    "version": 3
   },
   "file_extension": ".py",
   "mimetype": "text/x-python",
   "name": "python",
   "nbconvert_exporter": "python",
   "pygments_lexer": "ipython3",
   "version": "3.9.6"
  }
 },
 "nbformat": 4,
 "nbformat_minor": 5
}
