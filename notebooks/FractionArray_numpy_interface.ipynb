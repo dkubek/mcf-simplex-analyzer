{
 "cells": [
  {
   "cell_type": "markdown",
   "id": "19833033-3119-4f92-bdde-02adea9b09b7",
   "metadata": {},
   "source": [
    "## FractionArray numpy interface"
   ]
  },
  {
   "cell_type": "code",
   "execution_count": 46,
   "id": "27ec9691-0997-41f7-8a9b-69a8ada5ecbe",
   "metadata": {},
   "outputs": [],
   "source": [
    "from fractions import Fraction\n",
    "\n",
    "import numpy as np\n",
    "import attr\n",
    "from scipy.sparse.sputils import isintlike\n",
    "\n",
    "DEFAULT_PRECISION = 1e-6\n",
    "\n",
    "@attr.s\n",
    "class FractionArray:\n",
    "    \"\"\" Array of rational numbers. \"\"\"\n",
    "\n",
    "    numerator: np.ndarray = attr.ib()\n",
    "    denominator: np.ndarray = attr.ib()\n",
    "    \n",
    "    @classmethod\n",
    "    def from_array(cls, x, precision=DEFAULT_PRECISION):\n",
    "        raise NotImplemented\n",
    "        \n",
    "    def __attrs_post_init__(self):\n",
    "        if self.numerator.shape != self.denominator.shape:\n",
    "            raise ValueError(\"Different numerator and denominator shapes {} vs {}\".format(\n",
    "                self.numerator.shape, self.denominator.shape))\n",
    "            \n",
    "        self.shape = self.numerator.shape\n",
    "        \n",
    "        self.normalize()\n",
    "        \n",
    "    def normalize(self):\n",
    "        gcds = np.gcd(self.numerator, self.denominator)\n",
    "          \n",
    "        self.numerator = self.numerator // gcds\n",
    "        self.denominator = self.denominator // gcds\n",
    "        \n",
    "    def reshape(self, *args, **kwargs):\n",
    "        return FractionArray(self.numerator.reshape(*args, **kwargs),\n",
    "                             self.denominator.reshape(*args, **kwargs))\n",
    "    \n",
    "    def __abs__(self):\n",
    "        return FractionArray(abs(self.numerator), self.denominator.copy())\n",
    "    \n",
    "    def _add_fraction(self, frac):\n",
    "        raise NotImplemented(\"_add_fraction\")\n",
    "        \n",
    "    def _add_fractionarray(self, frac):\n",
    "        raise NotImplemented(\"_add_fraction\")\n",
    "    \n",
    "    def _add_array(self, frac):\n",
    "        raise NotImplemented(\"_add_fraction\")\n",
    "    \n",
    "    def __add__(self, other):  # self + other\n",
    "        if isinstance(other, Fraction):\n",
    "            if other == 0:\n",
    "                return self.copy()\n",
    "            \n",
    "            return self._add_fraction(other)\n",
    "        \n",
    "        if isintlike(other):\n",
    "            if other == 0:\n",
    "                return self.copy()\n",
    "            \n",
    "            return self._add_fraction(Fraction(int(other), 1))\n",
    "        \n",
    "        if other.shape != self.shape:\n",
    "            raise ValueError(\"inconsistent shapes\")\n",
    "            \n",
    "        if isinstance(other, FractionArray):\n",
    "            return self._add_fractionarray(other)\n",
    "        \n",
    "        if isinstance(other, np.ndarray):\n",
    "            if not np.issubdtype(other.dtype, np.integer):\n",
    "                raise ValueError(\"Non-integral dtype:\", other.dtype)\n",
    "                \n",
    "            return self._add_array(other)\n",
    "        \n",
    "        raise ValueError(\"Invalid input to add:\", type(other))\n",
    "                         \n",
    "    def __radd__(self,other):  # other + self\n",
    "        return self.__add__(other)\n",
    "    \n",
    "    def __len__(self):\n",
    "        return len(self.numerator)\n",
    "\n",
    "    def __getitem__(self, key):\n",
    "        return Fraction(self.numerator[key], self.denominator[key])\n",
    "\n",
    "    def __setitem__(self, key, value):\n",
    "        if isinstance(value, Fraction):\n",
    "            value = value.numerator, value.denominator\n",
    "\n",
    "        num, denom = value\n",
    "        self.numerator[key] = num\n",
    "        self.denominator[key] = denom\n",
    "\n",
    "    def __iter__(self):\n",
    "        return iter(\n",
    "            map(\n",
    "                lambda p: Fraction(*p), zip(self.numerator, self.denominator)\n",
    "            )\n",
    "        )"
   ]
  },
  {
   "cell_type": "code",
   "execution_count": 22,
   "id": "428d81bb-be20-4b21-a454-64bb3bfab80e",
   "metadata": {},
   "outputs": [
    {
     "data": {
      "text/plain": [
       "(Attribute(name='numerator', default=NOTHING, validator=None, repr=True, eq=True, eq_key=None, order=True, order_key=None, hash=None, init=True, metadata=mappingproxy({}), type=<class 'numpy.ndarray'>, converter=None, kw_only=False, inherited=False, on_setattr=None),\n",
       " Attribute(name='denominator', default=NOTHING, validator=None, repr=True, eq=True, eq_key=None, order=True, order_key=None, hash=None, init=True, metadata=mappingproxy({}), type=<class 'numpy.ndarray'>, converter=None, kw_only=False, inherited=False, on_setattr=None))"
      ]
     },
     "execution_count": 22,
     "metadata": {},
     "output_type": "execute_result"
    }
   ],
   "source": [
    "attr.fields(FractionArray)"
   ]
  },
  {
   "cell_type": "code",
   "execution_count": 27,
   "id": "5ede9505-533e-4df8-b214-01fa2934a627",
   "metadata": {},
   "outputs": [
    {
     "data": {
      "text/plain": [
       "(FractionArray(numerator=array([0, 1, 2, 3, 4, 5, 6, 7, 8, 9]), denominator=array([1, 1, 1, 1, 1, 1, 1, 1, 1, 1])),\n",
       " FractionArray(numerator=array([-5, -4, -3, -2, -1,  0,  1,  2,  3,  4]), denominator=array([1, 1, 1, 1, 1, 1, 1, 1, 1, 1])))"
      ]
     },
     "execution_count": 27,
     "metadata": {},
     "output_type": "execute_result"
    }
   ],
   "source": [
    "fa = FractionArray(np.arange(10), np.ones(10, dtype='int64'))\n",
    "fb = FractionArray(np.arange(10) - 5, np.ones(10, dtype='int64'))\n",
    "fa, fb"
   ]
  },
  {
   "cell_type": "code",
   "execution_count": null,
   "id": "1f5c2601-ae48-410e-8d74-7f239821a610",
   "metadata": {},
   "outputs": [],
   "source": [
    "fa.reshape((2,5))"
   ]
  },
  {
   "cell_type": "code",
   "execution_count": null,
   "id": "817823ca-86b9-4796-8b68-a5080e851475",
   "metadata": {},
   "outputs": [],
   "source": [
    "fa"
   ]
  },
  {
   "cell_type": "code",
   "execution_count": 14,
   "id": "75a85009-c25d-40ca-a8dc-12ff30c14d60",
   "metadata": {},
   "outputs": [
    {
     "data": {
      "text/plain": [
       "dtype('int64')"
      ]
     },
     "execution_count": 14,
     "metadata": {},
     "output_type": "execute_result"
    }
   ],
   "source": [
    "np.arange(10).dtype"
   ]
  },
  {
   "cell_type": "code",
   "execution_count": 28,
   "id": "4fceb41d-7b37-4800-8605-517409a85585",
   "metadata": {},
   "outputs": [
    {
     "data": {
      "text/plain": [
       "FractionArray(numerator=array([5, 4, 3, 2, 1, 0, 1, 2, 3, 4]), denominator=array([1, 1, 1, 1, 1, 1, 1, 1, 1, 1]))"
      ]
     },
     "execution_count": 28,
     "metadata": {},
     "output_type": "execute_result"
    }
   ],
   "source": [
    "abs(fb)"
   ]
  },
  {
   "cell_type": "code",
   "execution_count": 43,
   "id": "b2271564-90f6-4f21-9014-f8fc82de1214",
   "metadata": {},
   "outputs": [
    {
     "data": {
      "text/plain": [
       "False"
      ]
     },
     "execution_count": 43,
     "metadata": {},
     "output_type": "execute_result"
    }
   ],
   "source": [
    "isintlike()"
   ]
  },
  {
   "cell_type": "code",
   "execution_count": null,
   "id": "2bd7c9b8-98cf-4cc1-a6f4-b8cb385a9633",
   "metadata": {},
   "outputs": [],
   "source": []
  }
 ],
 "metadata": {
  "kernelspec": {
   "display_name": "Python 3 (ipykernel)",
   "language": "python",
   "name": "python3"
  },
  "language_info": {
   "codemirror_mode": {
    "name": "ipython",
    "version": 3
   },
   "file_extension": ".py",
   "mimetype": "text/x-python",
   "name": "python",
   "nbconvert_exporter": "python",
   "pygments_lexer": "ipython3",
   "version": "3.9.6"
  }
 },
 "nbformat": 4,
 "nbformat_minor": 5
}
