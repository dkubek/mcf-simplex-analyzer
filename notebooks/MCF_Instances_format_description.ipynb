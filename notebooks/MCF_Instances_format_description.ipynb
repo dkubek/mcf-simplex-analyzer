{
 "cells": [
  {
   "cell_type": "markdown",
   "metadata": {},
   "source": [
    "# MCF Instances"
   ]
  },
  {
   "cell_type": "markdown",
   "metadata": {},
   "source": [
    "## Formulations of MCNF problems\n",
    "\n",
    "Source: [Input Format for Multicommodity Flow Problems](ftp://ftp.cs.wisc.edu/math-prog/cpo-dataset/networks/multicommodity/Jones_Lustig_Farv/format.tex)\n",
    "\n",
    "The JL format for MCNF problems defines these different ways to formulate a problem:\n",
    "- **origin-destination problem (ODP)** - The commodity is defined as a product $k$, that travels between a specific *origin* $s$ and a specifig *destination* $t$. The commodity is then a triple $$\\kappa = (k, s, t)$$\n",
    "- **destination specific problem (DSP)** - The commodity is defined as a product that travels to a specific destination from multiple origins, or vice versa, from a specific origin to multiple destinations. The commodity is then a tuple $$\\kappa = (k, t) \\quad \\text{or} \\quad \\kappa = (k, s)$$\n",
    "- **product specific problem (PSP)** - The commodity is defined as a product that must travel through the network from multiple origins to multiple destinations. The commodity is then the singleton $$\\kappa = k$$."
   ]
  },
  {
   "cell_type": "markdown",
   "metadata": {},
   "source": [
    "Problem instances for the Linear Multicomodity Flow Problems are taken from\n",
    "[Multicommodity Problem Instances](http://groups.di.unipi.it/optimize/Data/MMCF.html#MNetGen)"
   ]
  },
  {
   "cell_type": "code",
   "execution_count": 2,
   "metadata": {},
   "outputs": [],
   "source": [
    "# path to data directory\n",
    "instances_path = \"../../data/instances\""
   ]
  },
  {
   "cell_type": "markdown",
   "metadata": {},
   "source": [
    "## Mnetgen\n",
    "\n",
    "**Mnetgen** is a random generator for Multicommodity Min Cost Flow instances. The format of the problem instances is as follows.\n",
    "\n",
    "A problem instance consist of 4 files:\n",
    "- **Mutual capacity file** (``*.mut``)\n",
    "- **Arc file** (``*.arc``)\n",
    "- **Node supply file** (``*.nod`` or ``*.sup`` )\n",
    "- **Problem description file** (``*.nod``)"
   ]
  }
 ],
 "metadata": {
  "kernelspec": {
   "display_name": "Python 3",
   "language": "python",
   "name": "python3"
  },
  "language_info": {
   "codemirror_mode": {
    "name": "ipython",
    "version": 3
   },
   "file_extension": ".py",
   "mimetype": "text/x-python",
   "name": "python",
   "nbconvert_exporter": "python",
   "pygments_lexer": "ipython3",
   "version": "3.8.8"
  }
 },
 "nbformat": 4,
 "nbformat_minor": 4
}
