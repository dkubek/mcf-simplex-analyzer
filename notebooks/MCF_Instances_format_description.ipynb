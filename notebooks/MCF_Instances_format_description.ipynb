{
 "cells": [
  {
   "cell_type": "markdown",
   "metadata": {},
   "source": [
    "# MCF Instances"
   ]
  },
  {
   "cell_type": "markdown",
   "metadata": {},
   "source": [
    "## Formulations of MCNF Problems\n",
    "\n",
    "Source: [Input Format for Multicommodity Flow Problems](ftp://ftp.cs.wisc.edu/math-prog/cpo-dataset/networks/multicommodity/Jones_Lustig_Farv/format.tex)\n",
    "\n",
    "The JL format for MCNF problems defines these different ways to formulate a problem:\n",
    "- **origin-destination problem (ODP)** - The commodity is defined as a product $k$, that travels between a specific *origin* $s$ and a specifig *destination* $t$. The commodity is then a triple $$\\kappa = (k, s, t)$$\n",
    "- **destination specific problem (DSP)** - The commodity is defined as a product that travels to a specific destination from multiple origins, or vice versa, from a specific origin to multiple destinations. The commodity is then a tuple $$\\kappa = (k, t) \\quad \\text{or} \\quad \\kappa = (k, s)$$\n",
    "- **product specific problem (PSP)** - The commodity is defined as a product that must travel through the network from multiple origins to multiple destinations. The commodity is then the singleton $$\\kappa = k$$."
   ]
  },
  {
   "cell_type": "markdown",
   "metadata": {},
   "source": [
    "Problem instances for the Linear Multicomodity Flow Problems are taken from\n",
    "[Multicommodity Problem Instances](http://groups.di.unipi.it/optimize/Data/MMCF.html#MNetGen)"
   ]
  },
  {
   "cell_type": "code",
   "execution_count": 13,
   "metadata": {},
   "outputs": [],
   "source": [
    "import numpy as np"
   ]
  },
  {
   "cell_type": "code",
   "execution_count": 3,
   "metadata": {},
   "outputs": [],
   "source": [
    "from pathlib import Path\n",
    "\n",
    "# Path to data directory\n",
    "instances_path = Path(\"example/\")\n",
    "\n",
    "assert instances_path.exists()"
   ]
  },
  {
   "cell_type": "markdown",
   "metadata": {},
   "source": [
    "## MNETGEN"
   ]
  },
  {
   "cell_type": "markdown",
   "metadata": {},
   "source": [
    "### Input Format Overview\n",
    "\n",
    "A problem instance consist of 4 files:\n",
    "- **Node file** (``*.nod``) for general information\n",
    "- **Arc file** (``*.arc``) describing links\n",
    "- **Supply/demand file** (``*.sup``)\n",
    "- **Mutual capacity file** (``*.mut``)"
   ]
  },
  {
   "cell_type": "markdown",
   "metadata": {},
   "source": [
    "#### Node File\n",
    "\n",
    "The node file contains four integers int the following order:\n",
    "```\n",
    "number of products\n",
    "number of nodes\n",
    "number of links\n",
    "number of bundled links\n",
    "```"
   ]
  },
  {
   "cell_type": "code",
   "execution_count": 4,
   "metadata": {},
   "outputs": [],
   "source": [
    "# Path to the node file\n",
    "nod_file = instances_path / \"mnetgen.nod\""
   ]
  },
  {
   "cell_type": "code",
   "execution_count": 5,
   "metadata": {},
   "outputs": [
    {
     "name": "stdout",
     "output_type": "stream",
     "text": [
      "4 64 196 84\n"
     ]
    }
   ],
   "source": [
    "content = None\n",
    "with open(nod_file, 'r') as fin:\n",
    "    content = fin.read()\n",
    "    \n",
    "products_no, nodes_no, links_no, bundled_links_no = map(int, content.split())\n",
    "\n",
    "print(products_no, nodes_no, links_no, bundled_links_no)"
   ]
  },
  {
   "cell_type": "markdown",
   "metadata": {},
   "source": [
    "#### Link File\n",
    "\n",
    "One line of the link file contains numbers separated by whitespace.\n",
    "The meaning of the numbers for a given links is specified in the following order:\n",
    "\n",
    "```\n",
    "arcname fromnode tonode commodity cost individual_capacity mutual_capacity_ptr\n",
    "```\n",
    "\n",
    "Arc name is an integer between 1 and the number of arcs (differently from the original mnetgen format), that is necessary to distinguish between multiple instances of an arc (i, j) for the same commodity, that are permitted.\n",
    "\n",
    "The mutual capacity pointer is an ``integer`` specifying the instace of the bundled link found in the *mutual capacity file*.\n",
    "*NOTE: **0** means no pointer is specified.*\n",
    "\n",
    "The number ``-1`` in a column is used to specify that:\n",
    "    - the information in the column is to be replicated over all possible instances\n",
    "    - the information is not applicable to the problem\n",
    "The meaning is derived from the context.\n",
    "\n",
    "In mnetgen case ``-1`` means:\n",
    "    - no individual capacity in the ``individual_capacity`` field, meaning the amount of product is bounded only by the upper bound"
   ]
  },
  {
   "cell_type": "code",
   "execution_count": 6,
   "metadata": {},
   "outputs": [],
   "source": [
    "# Path to the link file\n",
    "arc_file = instances_path / \"mnetgen.arc\""
   ]
  },
  {
   "cell_type": "code",
   "execution_count": 96,
   "metadata": {},
   "outputs": [
    {
     "name": "stdout",
     "output_type": "stream",
     "text": [
      "[22 22 22 22]\n",
      "[39 39 39 39]\n",
      "[1 2 3 4]\n",
      "[100.    97.68  21.88  84.9 ]\n",
      "[-1 32 -1 -1]\n",
      "[9 9 9 9]\n"
     ]
    }
   ],
   "source": [
    "from dataclasses import dataclass\n",
    "\n",
    "@dataclass\n",
    "class ArcsInfo:\n",
    "    \"\"\" Information about links. \"\"\"\n",
    "    \n",
    "    arcnames : np.ndarray\n",
    "    fromnodes : np.ndarray\n",
    "    tonodes : np.ndarray\n",
    "    commodities : np.ndarray\n",
    "    costs : np.ndarray\n",
    "    individual_capacities : np.ndarray\n",
    "    mutual_ptrs : np.ndarray\n",
    "    \n",
    "\n",
    "def read_arc(arc_file):\n",
    "    arcnames, fromnodes, tonodes, commodities, costs, individual_capacities, mutual_ptrs = [], [], [], [], [], [], []\n",
    "\n",
    "    with open(arc_file, 'r') as fin:\n",
    "        for line in fin:\n",
    "            arcname, fromnode, tonode, commodity, cost, icapacity, mptr = line.split()\n",
    "       \n",
    "            arcnames.append(int(arcname))\n",
    "            fromnodes.append(int(fromnode))\n",
    "            tonodes.append(int(tonode))\n",
    "            commodities.append(int(commodity))\n",
    "            costs.append(float(cost))\n",
    "            individual_capacities.append(float(icapacity))\n",
    "            mutual_ptrs.append(int(mptr))\n",
    "        \n",
    "    arcnames = np.array(arcnames, dtype='uint32')\n",
    "    fromnodes = np.array(fromnodes, dtype='int32')\n",
    "    tonodes = np.array(tonodes, dtype='int32')\n",
    "    commodities = np.array(commodities, dtype='int32')\n",
    "    costs = np.array(costs, dtype='float')\n",
    "    individual_capacities = np.array(individual_capacities, dtype='int32')\n",
    "    mutual_ptrs = np.array(mutual_ptrs, dtype='uint32')\n",
    "\n",
    "    return ArcsInfo(arcnames = arcnames,\n",
    "                    fromnodes = fromnodes,\n",
    "                    tonodes = tonodes,\n",
    "                    commodities = commodities,\n",
    "                    costs = costs,\n",
    "                    individual_capacities = individual_capacities,\n",
    "                    mutual_ptrs = mutual_ptrs)\n",
    "\n",
    "arcinfo = read_arc(arc_file)\n",
    "\n",
    "mask = arcinfo.arcnames == 10\n",
    "print(arcinfo.fromnodes[mask])\n",
    "print(arcinfo.tonodes[mask])\n",
    "print(arcinfo.commodities[mask])\n",
    "print(arcinfo.costs[mask])\n",
    "print(arcinfo.individual_capacities[mask])\n",
    "print(arcinfo.mutual_ptrs[mask])"
   ]
  },
  {
   "cell_type": "markdown",
   "metadata": {
    "tags": []
   },
   "source": [
    "#### Supply/Demand file\n",
    "\n",
    "One line of the link file contains numbers separated by whitespace.\n",
    "\n",
    "```\n",
    "node product supply\n",
    "```"
   ]
  },
  {
   "cell_type": "code",
   "execution_count": 8,
   "metadata": {},
   "outputs": [],
   "source": [
    "# Path to the link file\n",
    "sup_file = instances_path / \"mnetgen.sup\""
   ]
  },
  {
   "cell_type": "code",
   "execution_count": 9,
   "metadata": {},
   "outputs": [
    {
     "name": "stdout",
     "output_type": "stream",
     "text": [
      "['1', '1', '32']\n",
      "['1', '2', '32']\n",
      "['1', '3', '32']\n",
      "['1', '4', '32']\n",
      "['2', '1', '32']\n",
      "['2', '2', '32']\n",
      "['2', '3', '32']\n",
      "['2', '4', '66']\n",
      "['3', '1', '32']\n",
      "['3', '2', '32']\n",
      "['3', '3', '32']\n",
      "['3', '4', '32']\n",
      "['4', '1', '32']\n",
      "['4', '2', '32']\n",
      "['4', '3', '32']\n",
      "['4', '4', '32']\n",
      "['5', '1', '32']\n",
      "['5', '2', '32']\n",
      "['5', '3', '32']\n",
      "['5', '4', '32']\n"
     ]
    }
   ],
   "source": [
    "supply = []\n",
    "with open(sup_file, 'r') as fin:\n",
    "    for line in fin:\n",
    "        supply.append(line.split())\n",
    "        \n",
    "print(*supply[:20], sep='\\n')"
   ]
  },
  {
   "cell_type": "markdown",
   "metadata": {
    "jupyter": {
     "source_hidden": true
    },
    "tags": []
   },
   "source": [
    "#### Mutual capacity file\n",
    "\n",
    "One line of the link file contains numbers separated by whitespace.\n",
    "\n",
    "```\n",
    "mutual_capacity_ptr mutual_capacity\n",
    "```"
   ]
  },
  {
   "cell_type": "code",
   "execution_count": 10,
   "metadata": {},
   "outputs": [],
   "source": [
    "# Path to the link file\n",
    "mut_file = instances_path / \"mnetgen.mut\""
   ]
  },
  {
   "cell_type": "code",
   "execution_count": 99,
   "metadata": {},
   "outputs": [
    {
     "data": {
      "text/plain": [
       "array([[  1, 128],\n",
       "       [  2, 128],\n",
       "       [  3, 162],\n",
       "       [  4, 162],\n",
       "       [  5, 162],\n",
       "       [  6, 162],\n",
       "       [  7, 162],\n",
       "       [  8, 128],\n",
       "       [  9, 128],\n",
       "       [ 10, 128]])"
      ]
     },
     "execution_count": 99,
     "metadata": {},
     "output_type": "execute_result"
    }
   ],
   "source": [
    "mutual = []\n",
    "with open(mut_file, 'r') as fin:\n",
    "    for line in fin:\n",
    "        nums = list(map(int, line.split()))\n",
    "        mutual.append(nums)\n",
    "        \n",
    "mutual = np.array(mutual)\n",
    "\n",
    "mutual"
   ]
  },
  {
   "cell_type": "markdown",
   "metadata": {},
   "source": [
    "## PDS\n",
    "\n",
    "#### Node File\n",
    "\n",
    "The node file contains four integers in the following order:\n",
    "```\n",
    "number of products\n",
    "number of nodes\n",
    "number of links\n",
    "number of bundled links\n",
    "```\n",
    "\n",
    "### Link File\n",
    "\n",
    "One line of the link file contains numbers separated by whitespace.\n",
    "The meaning of the numbers for a given links is specified in the following order:\n",
    "\n",
    "*Note: Different from MNETGEN*\n",
    "\n",
    "```\n",
    "fromnode tonode commodity cost individual_capacity mutual_capacity_ptr\n",
    "```\n",
    "\n",
    "#### Supply/Demand file\n",
    "\n",
    "```\n",
    "node product supply/demand\n",
    "```\n",
    "\n",
    "Supply is expressed as a positive integer, demand as a negative integer\n"
   ]
  },
  {
   "cell_type": "code",
   "execution_count": 101,
   "metadata": {},
   "outputs": [],
   "source": [
    "basename = \"pds\"\n",
    "nod_file = instances_path / (basename + \".nod\")\n",
    "arc_file = instances_path / (basename + \".arc\")\n",
    "sup_file = instances_path / (basename + \".sup\")\n",
    "mut_file = instances_path / (basename + \".mut\")"
   ]
  }
 ],
 "metadata": {
  "kernelspec": {
   "display_name": "Python 3",
   "language": "python",
   "name": "python3"
  },
  "language_info": {
   "codemirror_mode": {
    "name": "ipython",
    "version": 3
   },
   "file_extension": ".py",
   "mimetype": "text/x-python",
   "name": "python",
   "nbconvert_exporter": "python",
   "pygments_lexer": "ipython3",
   "version": "3.8.8"
  }
 },
 "nbformat": 4,
 "nbformat_minor": 4
}
