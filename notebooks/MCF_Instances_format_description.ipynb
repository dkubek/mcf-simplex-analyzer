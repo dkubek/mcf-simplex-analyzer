{
 "cells": [
  {
   "cell_type": "markdown",
   "metadata": {},
   "source": [
    "# MCF Instances"
   ]
  },
  {
   "cell_type": "markdown",
   "metadata": {},
   "source": [
    "## Formulations of MCNF Problems\n",
    "\n",
    "Source: [Input Format for Multicommodity Flow Problems](ftp://ftp.cs.wisc.edu/math-prog/cpo-dataset/networks/multicommodity/Jones_Lustig_Farv/format.tex)\n",
    "\n",
    "The JL format for MCNF problems defines these different ways to formulate a problem:\n",
    "- **origin-destination problem (ODP)** - The commodity is defined as a product $k$, that travels between a specific *origin* $s$ and a specifig *destination* $t$. The commodity is then a triple $$\\kappa = (k, s, t)$$\n",
    "- **destination specific problem (DSP)** - The commodity is defined as a product that travels to a specific destination from multiple origins, or vice versa, from a specific origin to multiple destinations. The commodity is then a tuple $$\\kappa = (k, t) \\quad \\text{or} \\quad \\kappa = (k, s)$$\n",
    "- **product specific problem (PSP)** - The commodity is defined as a product that must travel through the network from multiple origins to multiple destinations. The commodity is then the singleton $$\\kappa = k$$."
   ]
  },
  {
   "cell_type": "markdown",
   "metadata": {},
   "source": [
    "Problem instances for the Linear Multicomodity Flow Problems are taken from\n",
    "[Multicommodity Problem Instances](http://groups.di.unipi.it/optimize/Data/MMCF.html#MNetGen)"
   ]
  },
  {
   "cell_type": "markdown",
   "metadata": {},
   "source": [
    "## MNETGEN"
   ]
  },
  {
   "cell_type": "code",
   "execution_count": 72,
   "metadata": {},
   "outputs": [],
   "source": [
    "from pathlib import Path\n",
    "\n",
    "# Path to data directory\n",
    "instances_path = Path(\"example/\")\n",
    "\n",
    "assert instances_path.exists()"
   ]
  },
  {
   "cell_type": "markdown",
   "metadata": {},
   "source": [
    "### Input Format Overview\n",
    "\n",
    "A problem instance consist of 4 files:\n",
    "- **Node file** (``*.nod``) for general information\n",
    "- **Arc file** (``*.arc``) describing links\n",
    "- **Supply/demand file** (``*.sup``)\n",
    "- **Mutual capacity file** (``*.mut``)"
   ]
  },
  {
   "cell_type": "markdown",
   "metadata": {},
   "source": [
    "#### Node File\n",
    "\n",
    "The node file contains four integers int the following order:\n",
    "```\n",
    "number of products\n",
    "number of nodes\n",
    "number of links\n",
    "number of bundled links\n",
    "```"
   ]
  },
  {
   "cell_type": "code",
   "execution_count": 73,
   "metadata": {},
   "outputs": [],
   "source": [
    "# Path to the node file\n",
    "nod_file = instances_path / \"mnetgen.nod\""
   ]
  },
  {
   "cell_type": "code",
   "execution_count": 74,
   "metadata": {},
   "outputs": [
    {
     "name": "stdout",
     "output_type": "stream",
     "text": [
      "4 64 196 84\n"
     ]
    }
   ],
   "source": [
    "content = None\n",
    "with open(nod_file, 'r') as fin:\n",
    "    content = fin.read()\n",
    "    \n",
    "products_no, nodes_no, links_no, bundled_links_no = map(int, content.split())\n",
    "\n",
    "print(products_no, nodes_no, links_no, bundled_links_no)"
   ]
  },
  {
   "cell_type": "markdown",
   "metadata": {},
   "source": [
    "#### Link File\n",
    "\n",
    "One line of the link file contains numbers separated by whitespace.\n",
    "The meaning of the numbers for a given links is specified in the following order:\n",
    "\n",
    "```\n",
    "arcname fromnode tonode commodity cost individual_capacity mutual_capacity_ptr\n",
    "```\n",
    "\n",
    "Arc name is an integer between 1 and the number of arcs (differently from           \n",
    "the original mnetgen format), that is necessary to distinguish between              \n",
    "multiple instances of an arc (i, j) for the same commodity, that are                \n",
    "permitted.\n",
    "\n",
    "The mutual capacity pointer is an ``integer`` specifying the instace of the bundled link found in the *mutual capacity file*.\n",
    "*NOTE: Zero means no pointer is specified (?)*\n",
    "\n",
    "The number ``-1`` in a column is used to specify that:\n",
    "    - the information in the column is to be replicated over all possible instances\n",
    "    - the information is not applicable to the problem\n",
    "The meaning is derived from the context."
   ]
  },
  {
   "cell_type": "code",
   "execution_count": 75,
   "metadata": {},
   "outputs": [],
   "source": [
    "# Path to the link file\n",
    "arc_file = instances_path / \"mnetgen.arc\""
   ]
  },
  {
   "cell_type": "code",
   "execution_count": 76,
   "metadata": {},
   "outputs": [
    {
     "name": "stdout",
     "output_type": "stream",
     "text": [
      "['1', '1', '40', '1', '45.89', '-1', '0']\n",
      "['2', '40', '35', '1', '61.06', '32', '1']\n",
      "['3', '35', '43', '1', '48.55', '-1', '2']\n",
      "['1', '1', '40', '2', '94.93', '-1', '0']\n",
      "['2', '40', '35', '2', '44.94', '-1', '1']\n",
      "['3', '35', '43', '2', '86.57', '-1', '2']\n",
      "['1', '1', '40', '3', '16.49', '32', '0']\n",
      "['2', '40', '35', '3', '59.62', '-1', '1']\n",
      "['3', '35', '43', '3', '96.64', '32', '2']\n",
      "['1', '1', '40', '4', '75.77', '32', '0']\n",
      "['2', '40', '35', '4', '39.23', '-1', '1']\n",
      "['3', '35', '43', '4', '14.18', '32', '2']\n",
      "['4', '2', '36', '1', '51.48', '-1', '3']\n",
      "['5', '36', '45', '1', '22.67', '-1', '4']\n",
      "['6', '45', '56', '1', '81.81', '32', '5']\n",
      "['7', '45', '33', '1', '28.76', '32', '6']\n",
      "['8', '45', '35', '1', '96.42', '-1', '7']\n",
      "['4', '2', '36', '2', '91.37', '32', '3']\n",
      "['5', '36', '45', '2', '15.87', '-1', '4']\n",
      "['6', '45', '56', '2', '88.25', '-1', '5']\n"
     ]
    }
   ],
   "source": [
    "links = []\n",
    "with open(arc_file, 'r') as fin:\n",
    "    for line in fin:\n",
    "        links.append(line.split())\n",
    "        \n",
    "print(*links[:20], sep='\\n')"
   ]
  },
  {
   "cell_type": "markdown",
   "metadata": {
    "tags": []
   },
   "source": [
    "#### Supply/Demand file\n",
    "\n",
    "One line of the link file contains numbers separated by whitespace.\n",
    "\n",
    "```\n",
    "node product supply\n",
    "```"
   ]
  },
  {
   "cell_type": "code",
   "execution_count": 77,
   "metadata": {},
   "outputs": [],
   "source": [
    "# Path to the link file\n",
    "sup_file = instances_path / \"mnetgen.sup\""
   ]
  },
  {
   "cell_type": "code",
   "execution_count": 78,
   "metadata": {},
   "outputs": [
    {
     "name": "stdout",
     "output_type": "stream",
     "text": [
      "['1', '1', '32']\n",
      "['1', '2', '32']\n",
      "['1', '3', '32']\n",
      "['1', '4', '32']\n",
      "['2', '1', '32']\n",
      "['2', '2', '32']\n",
      "['2', '3', '32']\n",
      "['2', '4', '66']\n",
      "['3', '1', '32']\n",
      "['3', '2', '32']\n",
      "['3', '3', '32']\n",
      "['3', '4', '32']\n",
      "['4', '1', '32']\n",
      "['4', '2', '32']\n",
      "['4', '3', '32']\n",
      "['4', '4', '32']\n",
      "['5', '1', '32']\n",
      "['5', '2', '32']\n",
      "['5', '3', '32']\n",
      "['5', '4', '32']\n"
     ]
    }
   ],
   "source": [
    "supply = []\n",
    "with open(sup_file, 'r') as fin:\n",
    "    for line in fin:\n",
    "        supply.append(line.split())\n",
    "        \n",
    "print(*supply[:20], sep='\\n')"
   ]
  },
  {
   "cell_type": "markdown",
   "metadata": {
    "tags": []
   },
   "source": [
    "#### Mutual capacity file\n",
    "\n",
    "One line of the link file contains numbers separated by whitespace.\n",
    "\n",
    "```\n",
    "mutual_capacity_ptr mutual_capacity\n",
    "```"
   ]
  },
  {
   "cell_type": "code",
   "execution_count": 79,
   "metadata": {},
   "outputs": [],
   "source": [
    "# Path to the link file\n",
    "mut_file = instances_path / \"mnetgen.mut\""
   ]
  },
  {
   "cell_type": "code",
   "execution_count": 80,
   "metadata": {},
   "outputs": [
    {
     "name": "stdout",
     "output_type": "stream",
     "text": [
      "['1', '128']\n",
      "['2', '128']\n",
      "['3', '162']\n",
      "['4', '162']\n",
      "['5', '162']\n",
      "['6', '162']\n",
      "['7', '162']\n",
      "['8', '128']\n",
      "['9', '128']\n",
      "['10', '128']\n",
      "['11', '128']\n",
      "['12', '128']\n",
      "['13', '128']\n",
      "['14', '128']\n",
      "['15', '128']\n",
      "['16', '128']\n",
      "['17', '128']\n",
      "['18', '128']\n",
      "['19', '128']\n",
      "['20', '144']\n"
     ]
    }
   ],
   "source": [
    "mutual = []\n",
    "with open(mut_file, 'r') as fin:\n",
    "    for line in fin:\n",
    "        mutual.append(line.split())\n",
    "        \n",
    "print(*mutual[:20], sep='\\n')"
   ]
  }
 ],
 "metadata": {
  "kernelspec": {
   "display_name": "Python 3",
   "language": "python",
   "name": "python3"
  },
  "language_info": {
   "codemirror_mode": {
    "name": "ipython",
    "version": 3
   },
   "file_extension": ".py",
   "mimetype": "text/x-python",
   "name": "python",
   "nbconvert_exporter": "python",
   "pygments_lexer": "ipython3",
   "version": "3.8.8"
  }
 },
 "nbformat": 4,
 "nbformat_minor": 4
}
